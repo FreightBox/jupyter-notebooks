{
 "cells": [
  {
   "cell_type": "markdown",
   "metadata": {},
   "source": [
    "![](./images/rivacon_frontmark_combined_header.svg)"
   ]
  },
  {
   "cell_type": "markdown",
   "metadata": {
    "collapsed": true
   },
   "source": [
    "# Marketdata\n",
    "\n",
    "## Rollconventions, daycounters and schedule generation\n",
    "The the most important daycounters and rollconventions are explained [here](marketdata/daycounter_rollconventions_schedules.ipynb). This notebook shows how to roll out schedules. \n",
    "## Discountcurves\n",
    "You can learn how to create and work with discount curves including plotting functionality in [this notebook](marketdata/discount_curves.ipynb). How to bootstrap in a multicurve framework is explained [here](marketdata/ir_curve_bootstrapping.ipynb).\n",
    "## Equity Forwardcurves\n",
    "Create and work with equity forward curves including plotting functionality [here](marketdata/equity_forwardcurve.ipynb).\n",
    "## Equity Volatilitysurfaces\n",
    "Create and work with equity volatilitysurfaces [here](marketdata/equity_volatilities.ipynb).\n",
    "\n",
    "# Pricing\n",
    "\n",
    "## General Remarks\n",
    "A product is specified by an object which is called Specification. For certain products there are certain specifications which all inherit from the BaseSpecification. The data that is needed to price a certain\n",
    "product is encapsulated in an object called PricingData (there exist different classes for different product types that all inherit from BasePricingData). Therefore, to price a product one has to define all\n",
    "data that belongs to the product's PricingData object (including the product's specification) and then, the method **price** can be called.\n",
    "\n",
    "The PricingData object can either be manually set, or special containers can be used so that the data is automatically set into this object. The following picture illutrates the process on a simple bond.\n",
    "\n",
    "<img src=\"images/pricing.png\"  width=\"1000\">\n",
    "\n",
    "# Product Overview\n",
    "\n",
    "## Equity\n",
    "- European Plain Vanilla Option [here](instruments/european_plain_vanilla_option.ipynb)\n",
    "- Binomial Trees [here](instruments/binomial_trees.ipynb)\n",
    "- American Plain Vanilla Option [here](instruments/american_plain_vanilla_option.ipynb)\n",
    "- Barrier Options [here](instruments/barrier_options.ipynb)\n",
    "- Down-and-Out Put [here](instruments/dop.ipynb)\n",
    "- Worst of Down-and-Out Put [here](instruments/worst_of_dop.ipynb)\n",
    "- Asian Options [here](instruments/asian_option.ipynb)\n",
    "- Asian on Risk Control [here](instruments/asian_on_riskcontrol.ipynb)\n",
    "- Multi-Memoryexpress (Equity-Rainbows) [here](instruments/multi_memory_express.ipynb) notebook shows a presentation of the library functionality w.r.t. a Multi-Memoryexpress. It shows how to fill the specification, choose a model, compute expected exposures for Rainbow products.\n",
    "\n",
    "## Fixed Income\n",
    "- Interest Rate Swap [here](instruments/ir_swap.ipynb)\n",
    "- Cross-Currency Swap [here](instruments/cross_currency_swap.ipynb)  **-under construction-**\n",
    "- Swaptions [here](to be done)\n",
    "- Caps and Floors [here](to be done)\n",
    "\n",
    "\n",
    "## Bonds\n",
    "- Plain Vanilla Fixed Coupon Bonds [here](instruments/bond.ipynb)\n",
    "- Plain Vanilla Floating Coupon Bonds [here](instruments/bond.ipynb)\n",
    "- Plain Vanilla Fixed-to-Float [here](instruments/bond.ipynb)\n",
    "- Inflation Linked Bond [here](instruments/bond.ipynb)\n",
    "- Callable Bond [here](instruments/bond.ipynb)"
   ]
  },
  {
   "cell_type": "markdown",
   "metadata": {},
   "source": [
    "# Current Version"
   ]
  },
  {
   "cell_type": "code",
   "execution_count": null,
   "metadata": {},
   "outputs": [],
   "source": [
    "import pyvacon.analytics as analytics\n",
    "print(analytics.getVersionInfo())"
   ]
  },
  {
   "cell_type": "code",
   "execution_count": null,
   "metadata": {},
   "outputs": [],
   "source": []
  }
 ],
 "metadata": {
  "kernelspec": {
   "display_name": "Python 3",
   "language": "python",
   "name": "python3"
  },
  "language_info": {
   "codemirror_mode": {
    "name": "ipython",
    "version": 3
   },
   "file_extension": ".py",
   "mimetype": "text/x-python",
   "name": "python",
   "nbconvert_exporter": "python",
   "pygments_lexer": "ipython3",
   "version": "3.7.3"
  },
  "toc": {
   "base_numbering": 1,
   "colors": {
    "hover_highlight": "#DAA520",
    "navigate_num": "#000000",
    "navigate_text": "#333333",
    "running_highlight": "#FF0000",
    "selected_highlight": "#FFD700",
    "sidebar_border": "#EEEEEE",
    "wrapper_background": "#FFFFFF"
   },
   "moveMenuLeft": true,
   "nav_menu": {
    "height": "136px",
    "width": "252px"
   },
   "navigate_menu": true,
   "number_sections": true,
   "sideBar": true,
   "skip_h1_title": false,
   "threshold": 4,
   "title_cell": "Table of Contents",
   "title_sidebar": "Contents",
   "toc_cell": false,
   "toc_position": {},
   "toc_section_display": "block",
   "toc_window_display": true,
   "widenNotebook": false
  },
  "varInspector": {
   "cols": {
    "lenName": 16,
    "lenType": 16,
    "lenVar": 40
   },
   "kernels_config": {
    "python": {
     "delete_cmd_postfix": "",
     "delete_cmd_prefix": "del ",
     "library": "var_list.py",
     "varRefreshCmd": "print(var_dic_list())"
    },
    "r": {
     "delete_cmd_postfix": ") ",
     "delete_cmd_prefix": "rm(",
     "library": "var_list.r",
     "varRefreshCmd": "cat(var_dic_list()) "
    }
   },
   "types_to_exclude": [
    "module",
    "function",
    "builtin_function_or_method",
    "instance",
    "_Feature"
   ],
   "window_display": false
  }
 },
 "nbformat": 4,
 "nbformat_minor": 2
}
