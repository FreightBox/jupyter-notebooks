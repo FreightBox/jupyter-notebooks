{
 "cells": [
  {
   "cell_type": "markdown",
   "metadata": {},
   "source": [
    "![](../images/rivacon_frontmark_combined_header.svg)"
   ]
  },
  {
   "cell_type": "markdown",
   "metadata": {},
   "source": [
    "# Equity forward curves"
   ]
  },
  {
   "cell_type": "code",
   "execution_count": null,
   "metadata": {},
   "outputs": [],
   "source": [
    "import pyvacon.analytics as analytics\n",
    "import datetime as dt\n",
    "import pyvacon.tools.converter as converter\n",
    "import pyvacon.tools.enums as enums\n",
    "import math\n",
    "import pyvacon.marketdata.plot as mkt_plot #import module for plotting functionality\n",
    "#the next lin is a jupyter internal command to show the matplotlib graphs within the notebook\n",
    "%matplotlib inline"
   ]
  },
  {
   "cell_type": "markdown",
   "metadata": {},
   "source": [
    "## Definition of an equity forward curve\n",
    "An equity forward curve provides the functionality to compute forward values of an equity underlying at arbitrary future times. The forward value of an equity underlying at time $T$ is given by\n",
    "\n",
    "$$F_0 = (S_0 - I)^{(r-q)T}$$\n",
    "\n",
    "where $S_0$ is the current spot price, $I$ is the present value of cash dividends, $r$ is the (risk-free) interest rate and $q$ is the borrow rate.\n",
    "\n",
    "\n",
    "Hence, in order to setup an equity forward curve we use the classical forward relationship using\n",
    "- spot value,\n",
    "- interest rate curve given as discount curve ,\n",
    "- borrow curve given as discount curve (this curve describes the yield from borrow/lending the underlying or the yield spread for repos),\n",
    "- dividend table.\n",
    "\n",
    "To setup an equity forward curve one therefore needs to construct these components. How we can construct a discount curve is discussed in the [discount curves](discount_curves.ipynb) notebook. How to construct a dividend table is shown in the next paragraph."
   ]
  },
  {
   "cell_type": "markdown",
   "metadata": {},
   "source": [
    "## Creating an equity forward curve\n",
    "\n",
    "### Setup the specification\n",
    "\n",
    "#### Creating a dividend table\n",
    "\n",
    "A dividend table stores dividends together with their payment and ex-dates and a tax factor. Here, a dividend is split into two parts: A cash dividend and a dividend yield. In the pricing models the dividend yields are interpreted as relative values to the spot at the dividend ex-date.\n",
    "\n",
    "In order to construct a dividend table, we furthermore need an object id as well as a reference date. A reference date is needed for all objects representing market data. Most of the functions provided by market data objects do also get a calculation/valuation date and some logic is applied if this date is after the reference date. For a discount curve, if the valuation date is after the reference date, the forward discount factor is returned. Dates which enter analytics objects must be analytics ptimes.\n",
    "\n",
    "Our dividend table is given the name *div_table* and is defined as an *analytics.DividendTable* object which we provide with the information described before. "
   ]
  },
  {
   "cell_type": "code",
   "execution_count": null,
   "metadata": {},
   "outputs": [],
   "source": [
    "object_id = \"TEST_DIV\"\n",
    "refdate = analytics.ptime(2017,1,1,0,0,0)\n",
    "\n",
    "ex_dates = converter.createPTimeList(refdate, [dt.datetime(2018,3,29), dt.datetime(2019,3,29), dt.datetime(2020,3,29), dt.datetime(2021,3,29)])\n",
    "pay_dates = converter.createPTimeList(refdate, [dt.datetime(2018,4,1), dt.datetime(2019,4,1), dt.datetime(2020,4,1), dt.datetime(2021,4,1)])\n",
    "tax_factors = analytics.vectorDouble([1.0, 1.0, 1.0, 1.0])\n",
    "div_yield = analytics.vectorDouble([0, 0.005, 0.01, 0.01])\n",
    "div_cash = analytics.vectorDouble([3.0, 2.0, 1.0, 0.0])\n",
    "\n",
    "div_table=analytics.DividendTable(object_id, refdate, ex_dates, div_yield, div_cash, tax_factors, pay_dates)\n",
    "#help(analytics.DividendTable)"
   ]
  },
  {
   "cell_type": "markdown",
   "metadata": {},
   "source": [
    "#### Creating discount and borrowing curves\n",
    "\n",
    "We need a list of dates and a list of discount factors. For the purpose of illustration we just use zero borrow and interest rates. The alternative way would be to create a list of dates and discount factors analogous to the methodology described in the [discount curves](discount_curves.ipynb) notebook. This can be practiced in the exercise provided.\n",
    "\n",
    "The discount- and borrowing curves are then constructed using the created dates and discount factors."
   ]
  },
  {
   "cell_type": "code",
   "execution_count": null,
   "metadata": {},
   "outputs": [],
   "source": [
    "dates = converter.createPTimeList(refdate,[0, 2*365])\n",
    "dc_df = analytics.vectorDouble([1.0,1.0])\n",
    "bc_df = analytics.vectorDouble([1.0,1.0])\n",
    "\n",
    "dc = analytics.DiscountCurve(object_id, refdate,dates, dc_df, enums.DayCounter.ACT365_FIXED, enums.InterpolationType.HAGAN_DF, enums.ExtrapolationType.NONE)\n",
    "bc = analytics.DiscountCurve(object_id, refdate,dates, bc_df, enums.DayCounter.ACT365_FIXED, enums.InterpolationType.HAGAN_DF, enums.ExtrapolationType.NONE)\n",
    "#help(analytics.DiscountCurve)\n",
    "#for d in dates:\n",
    "#    print(d.to_string())"
   ]
  },
  {
   "cell_type": "markdown",
   "metadata": {},
   "source": [
    "#### Setting the spot price\n",
    "\n",
    "The last input information we need to construct the equity forward curve is the current spot price $S_0$ which we set manually as the variable *spot*."
   ]
  },
  {
   "cell_type": "code",
   "execution_count": null,
   "metadata": {},
   "outputs": [],
   "source": [
    "spot = 100.0"
   ]
  },
  {
   "cell_type": "markdown",
   "metadata": {},
   "source": [
    "### Setup the equity forward curve\n",
    "Our equity forward curve is given the name *forward_curve* and is defined as an *analytics.EquityForwardCurve* object which we provide with the information described before. "
   ]
  },
  {
   "cell_type": "code",
   "execution_count": null,
   "metadata": {},
   "outputs": [],
   "source": [
    "forward_curve = analytics.EquityForwardCurve(refdate, spot, dc, bc, div_table)\n",
    "#help(analytics.EquityForwardCurve)"
   ]
  },
  {
   "cell_type": "markdown",
   "metadata": {},
   "source": [
    "## Computing forward values\n",
    "As the forward curve inherits from the *BaseDatedCurve* class, the computation of a forward value is provided by the same interface as for all curves, the *value* function."
   ]
  },
  {
   "cell_type": "code",
   "execution_count": null,
   "metadata": {},
   "outputs": [],
   "source": [
    "fwd_value = forward_curve.value(refdate, converter.getLTime(600, refdate))\n",
    "#print(converter.getLTime(600,refdate).to_string())\n",
    "#help(forward_curve.value)\n",
    "print(fwd_value)"
   ]
  },
  {
   "cell_type": "markdown",
   "metadata": {},
   "source": [
    "## Plotting forward curve"
   ]
  },
  {
   "cell_type": "code",
   "execution_count": null,
   "metadata": {},
   "outputs": [],
   "source": [
    "mkt_plot.curve(forward_curve, range(600), refdate)\n",
    "#help(mkt_plot.curve)"
   ]
  },
  {
   "cell_type": "markdown",
   "metadata": {},
   "source": [
    "## Exercise"
   ]
  },
  {
   "cell_type": "markdown",
   "metadata": {},
   "source": [
    "- Create a forward curve based on the dividend table defined above and with a flat borrow rate (3%) and flat discount curve (1.5%)."
   ]
  },
  {
   "cell_type": "code",
   "execution_count": null,
   "metadata": {},
   "outputs": [],
   "source": []
  }
 ],
 "metadata": {
  "kernelspec": {
   "display_name": "Python 3",
   "language": "python",
   "name": "python3"
  },
  "language_info": {
   "codemirror_mode": {
    "name": "ipython",
    "version": 3
   },
   "file_extension": ".py",
   "mimetype": "text/x-python",
   "name": "python",
   "nbconvert_exporter": "python",
   "pygments_lexer": "ipython3",
   "version": "3.7.3"
  },
  "toc": {
   "base_numbering": 1,
   "colors": {
    "hover_highlight": "#DAA520",
    "navigate_num": "#000000",
    "navigate_text": "#333333",
    "running_highlight": "#FF0000",
    "selected_highlight": "#FFD700",
    "sidebar_border": "#EEEEEE",
    "wrapper_background": "#FFFFFF"
   },
   "moveMenuLeft": true,
   "nav_menu": {},
   "navigate_menu": true,
   "number_sections": true,
   "sideBar": true,
   "skip_h1_title": false,
   "threshold": 4,
   "title_cell": "Table of Contents",
   "title_sidebar": "Contents",
   "toc_cell": false,
   "toc_position": {
    "height": "calc(100% - 180px)",
    "left": "10px",
    "top": "150px",
    "width": "384px"
   },
   "toc_section_display": true,
   "toc_window_display": true,
   "widenNotebook": false
  },
  "varInspector": {
   "cols": {
    "lenName": 16,
    "lenType": 16,
    "lenVar": 40
   },
   "kernels_config": {
    "python": {
     "delete_cmd_postfix": "",
     "delete_cmd_prefix": "del ",
     "library": "var_list.py",
     "varRefreshCmd": "print(var_dic_list())"
    },
    "r": {
     "delete_cmd_postfix": ") ",
     "delete_cmd_prefix": "rm(",
     "library": "var_list.r",
     "varRefreshCmd": "cat(var_dic_list()) "
    }
   },
   "types_to_exclude": [
    "module",
    "function",
    "builtin_function_or_method",
    "instance",
    "_Feature"
   ],
   "window_display": false
  }
 },
 "nbformat": 4,
 "nbformat_minor": 2
}
