{
 "cells": [
  {
   "cell_type": "markdown",
   "metadata": {},
   "source": [
    "![](../images/rivacon_frontmark_combined_header.png)"
   ]
  },
  {
   "cell_type": "markdown",
   "metadata": {},
   "source": [
    "# Equity volatility surfaces"
   ]
  },
  {
   "cell_type": "code",
   "execution_count": null,
   "metadata": {},
   "outputs": [],
   "source": [
    "import matplotlib\n",
    "matplotlib.use('nbagg')\n",
    "import pyvacon.analytics as analytics\n",
    "import datetime as dt\n",
    "import pyvacon.tools.converter as converter\n",
    "import pyvacon.tools.enums as enums\n",
    "import math\n",
    "import numpy as np\n",
    "import pyvacon.marketdata.plot as mkt_plot #import module for plotting functionality\n",
    "from mpl_toolkits.mplot3d import Axes3D\n",
    "from matplotlib import cm\n",
    "#the next lin is a jupyter internal command to show the matplotlib graphs within the notebook\n",
    "#%matplotlib inline"
   ]
  },
  {
   "cell_type": "markdown",
   "metadata": {},
   "source": [
    "## General remarks\n",
    "An equity volatility surface is an object providing for arbitrary expiries and strikes implied volatilities. The volatility surfaces provided by the analytics library are parametrized w.r.t. the so-called X-strikes, i.e. one has to put in a strike w.r.t. the X-variable which is the driving process of the spot $S$, i.e.\n",
    "$$ S_t=(F_t-D_t)X_t+D_t$$\n",
    "where $F_t$ is the risky forward and $D_t$ the cash dividends, see [Buehler](../literature/buehler_volatility_and_dividends.pdf) for a more detailed discussion. \n",
    "\n",
    "To create a volatility surface one needs two components:\n",
    "- A reference forward curve (typically the forward curve which was used to compute the implieds from quoted prices)\n",
    "- A volatility parametrization\n",
    "\n"
   ]
  },
  {
   "cell_type": "markdown",
   "metadata": {},
   "source": [
    "## Creating forward curve\n",
    "We create a dummy forward curve as shown in the  [forward_curve](equity_forwardcurve.ipynb) notebook which will be used in all subsequent volatility surface constructions."
   ]
  },
  {
   "cell_type": "code",
   "execution_count": null,
   "metadata": {},
   "outputs": [],
   "source": [
    "refdate = analytics.ptime(2017,1,1,0,0,0) #dates which enters analytics objects must be analytics ptimes. \n",
    "\n",
    "#dividend table neede fo forward curve\n",
    "object_id = \"TEST_DIV\" \n",
    "ex_dates = converter.createPTimeList(refdate, [dt.datetime(2018,3,29), dt.datetime(2019,3,29), dt.datetime(2020,3,29), dt.datetime(2021,3,29)])\n",
    "pay_dates = converter.createPTimeList(refdate, [dt.datetime(2018,4,1), dt.datetime(2019,4,1), dt.datetime(2020,4,1), dt.datetime(2021,4,1)])\n",
    "tax_factors = analytics.vectorDouble([1.0, 1.0, 1.0, 1.0])\n",
    "div_yield = analytics.vectorDouble([0, 0.005, 0.01, 0.01])\n",
    "div_cash = analytics.vectorDouble([3.0, 2.0, 1.0, 0.0])\n",
    "div_table=analytics.DividendTable(object_id, refdate, ex_dates, div_yield, div_cash, tax_factors, pay_dates)\n",
    "\n",
    "#discount- and borrowing curve needed for forward curve\n",
    "dates = converter.createPTimeList(refdate,[0, 10])\n",
    "df = analytics.vectorDouble([1.0,1.0])\n",
    "dc = analytics.DiscountCurve(object_id, refdate, dates, df, enums.DayCounter.ACT365_FIXED, \n",
    "                             enums.InterpolationType.HAGAN_DF, enums.ExtrapolationType.NONE)\n",
    "bc = analytics.DiscountCurve(object_id, refdate, dates, df, enums.DayCounter.ACT365_FIXED, \n",
    "                             enums.InterpolationType.HAGAN_DF, enums.ExtrapolationType.NONE)\n",
    "spot = 100.0\n",
    "\n",
    "#forward curve\n",
    "forward_curve = analytics.EquityForwardCurve(refdate, spot, dc, bc, div_table)"
   ]
  },
  {
   "cell_type": "markdown",
   "metadata": {},
   "source": [
    "## Volatility parametrizations\n",
    "\n",
    "The volatility parametrization provides the method *calcImpliedVol* functionality to retrieve for each x-strike and time-to-maturity (in year fractions) the implied volatility. This method is used internally in the volatility surface in all methods where a implied volatility is computed.\n",
    "We will discuss the different available parametrizations in this subsection.\n",
    "\n",
    "### Flat volatility\n",
    "To setup a flat volatility, one may use the VolatilityParametrizationFlat"
   ]
  },
  {
   "cell_type": "code",
   "execution_count": null,
   "metadata": {},
   "outputs": [],
   "source": [
    "flat_param = analytics.VolatilityParametrizationFlat(0.3)"
   ]
  },
  {
   "cell_type": "markdown",
   "metadata": {},
   "source": [
    "### Term structure volatility\n",
    "To create a volatility which has only a term structure and no strike dependency one may use this parametrization type. This parametrization needs a vector of expiry times (given as year fractions which are interpreted as year fractions w.r.t. the day counter specified in th volatility surface) and forward at-the-money volatilities, i.e. X-strike=1.0."
   ]
  },
  {
   "cell_type": "code",
   "execution_count": null,
   "metadata": {},
   "outputs": [],
   "source": [
    "ttm = [1.0/12.0, 1.0, 2.0, 3.0]\n",
    "fwd_atm_vols =  [0.3, 0.28, 0.25, 0.24]\n",
    "term_param = analytics.VolatilityParametrizationTerm(ttm,fwd_atm_vols)"
   ]
  },
  {
   "cell_type": "markdown",
   "metadata": {},
   "source": [
    "### SSVI\n",
    "This parametrization is inspired by the volatility structure provided by stochastic volatility models. The total variance $w(k,t)$ for a strike log strike $k$ and time-to-maturity $t$ is given by\n",
    "$$ w(k,t) = \\frac{\\theta_t}{2}\\left( 1+\\rho\\phi(\\theta_t)k+\\sqrt{(\\phi(\\theta_t)k+\\rho)^2+(1-\\rho^2)}  \\right) $$ \n",
    "and \n",
    "$$ \\phi(\\theta_t) = \\frac{\\eta}{\\theta_t^\\gamma(1+\\theta_t)^{1-\\gamma}} $$\n",
    "for parameters $\\rho$, $\\eta$, $\\gamma$ and given atm implied total variances $\\theta_t:=\\sigma^2(t)t$. The term structure of implied total variances is internally approximated by interpolation from given atm volatilities. The nice property of this surface is that there are very simple conditions on the parameters to guarantee that the surface is free of arbitrage, see [gatheral_jacquier_svi](../literature/gatheral_jacquier_svi.pdf)."
   ]
  },
  {
   "cell_type": "code",
   "execution_count": null,
   "metadata": {},
   "outputs": [],
   "source": [
    "gamma = 0.5 # responsible for the \"rate of decay\"\n",
    "rho = -0.7 # responsible for the skewness of the vol_surface\n",
    "eta = 1.0 # responsible for the curvature\n",
    "ssvi_param = analytics.VolatilityParametrizationSSVI(ttm, fwd_atm_vols, rho, eta, gamma)"
   ]
  },
  {
   "cell_type": "markdown",
   "metadata": {},
   "source": [
    "## Volatility surface\n",
    "The forward curve and the parametrization can now be combined into a VolatilitySurface"
   ]
  },
  {
   "cell_type": "code",
   "execution_count": null,
   "metadata": {},
   "outputs": [],
   "source": [
    "obj_id = 'TEST_SURFACE'\n",
    "vol_surf = analytics.VolatilitySurface(obj_id, refdate, forward_curve, enums.DayCounter.ACT365_FIXED, ssvi_param)"
   ]
  },
  {
   "cell_type": "markdown",
   "metadata": {},
   "source": [
    "To compute an implied volatility, one may use the method *calcImpliedVol*. Note that this method applies a sticky-strike handling of volatilities, i.e. it assumes that the implied volatility given a certain strike is independent of current forward values which may differ from the forwards when the volatility surface was calibrated."
   ]
  },
  {
   "cell_type": "code",
   "execution_count": null,
   "metadata": {},
   "outputs": [],
   "source": [
    "vol = vol_surf.calcImpliedVol(refdate,converter.getLTime(refdate,180), 1.0)\n",
    "print(vol)"
   ]
  },
  {
   "cell_type": "markdown",
   "metadata": {},
   "source": [
    "By executing the following command line, the volatility surface is plotted."
   ]
  },
  {
   "cell_type": "code",
   "execution_count": null,
   "metadata": {},
   "outputs": [],
   "source": [
    "refdate = analytics.ptime(2017,1,1,0,0,0)\n",
    "expiries = [analytics.ptime(2017,2,1,0,0,0), analytics.ptime(2018,1,1,0,0,0), analytics.ptime(2019,1,1,0,0,0), analytics.ptime(2020,1,1,0,0,0)]\n",
    "def frange(x, y, count):\n",
    "  jump = (y-x)/count\n",
    "  while x <= y:\n",
    "    yield x\n",
    "    x += jump\n",
    "\n",
    "x_strikes = list(frange(0.5, 1.5, 100))\n",
    "\n",
    "x = x_strikes\n",
    "y = ttm\n",
    "\n",
    "term_structure = []\n",
    "for i in x_strikes: \n",
    "    temp = []\n",
    "    for j in expiries:\n",
    "        temp.append(vol_surf.calcImpliedVol(refdate, j, i))\n",
    "    term_structure.append(temp)\n",
    "\n",
    "yv, xv = np.meshgrid(y, x)\n",
    "xv = np.array(xv)  #strikes 1x no. strikes\n",
    "yv = np.array(yv)  #ttm     1x no. ttms\n",
    "z = np.array(term_structure)           #vols    no. strikes x no. ttms\n",
    "\n",
    "fig = mkt_plot.plt.figure()\n",
    "ax4 = fig.add_subplot(111, projection='3d')\n",
    "ax4.set_title('Volatility Surface')\n",
    "ax4.set_xlabel('xStrikes')\n",
    "ax4.set_ylabel('TTM')\n",
    "ax4.set_zlabel('Volatility')\n",
    "ax4.plot_surface(xv, yv, z, rstride=2, cstride=1, alpha=0.58, cmap=cm.coolwarm, linewidth=0, antialiased=False)\n",
    "#ax4.plot_surface(xv, yv, z, rstride=8, cstride=1, alpha=0.3)\n",
    "\n",
    "#ax4.contour(xv, yv, z, zdir='z', offset=ax4.get_zlim()[0], cmap=cm.coolwarm)\n",
    "ax4.contour(xv, yv, z, zdir='x', offset=ax4.get_xlim()[1]-0.08, cmap=cm.coolwarm)\n",
    "ax4.contour(xv, yv, z, zdir='y', offset=ax4.get_ylim()[1], cmap=cm.coolwarm)\n",
    "ax4.contour(xv, yv, z, zdir='y', offset=ax4.get_ylim()[1], cmap=cm.coolwarm, levels = [0,0.2,0.3,0.5,0.7,0.8])\n",
    "fig.show()"
   ]
  },
  {
   "cell_type": "markdown",
   "metadata": {},
   "source": [
    "### Stickiness assumptions"
   ]
  },
  {
   "cell_type": "code",
   "execution_count": null,
   "metadata": {},
   "outputs": [],
   "source": [
    "forward_curve_shifted = analytics.EquityForwardCurve(refdate, 1.02*spot, dc, bc, div_table)\n",
    "vol_surf_shifted = analytics.VolatilitySurface.createVolatilitySurfaceShiftedFwd(vol_surf, forward_curve_shifted)"
   ]
  },
  {
   "cell_type": "code",
   "execution_count": null,
   "metadata": {},
   "outputs": [],
   "source": [
    "analytics.VolatilitySurface.setStickynessAssumption(enums.VolatilityStickyness.StickyXStrike)\n",
    "print(vol_surf_shifted.calcImpliedVol(refdate,converter.getLTime(refdate, 180), 1.0))\n",
    "analytics.VolatilitySurface.setStickynessAssumption(enums.VolatilityStickyness.StickyStrike)\n",
    "print(vol_surf_shifted.calcImpliedVol(refdate,converter.getLTime(refdate, 180), 1.0))\n"
   ]
  },
  {
   "cell_type": "code",
   "execution_count": null,
   "metadata": {},
   "outputs": [],
   "source": []
  }
 ],
 "metadata": {
  "kernelspec": {
   "display_name": "Python 3",
   "language": "python",
   "name": "python3"
  },
  "language_info": {
   "codemirror_mode": {
    "name": "ipython",
    "version": 3
   },
   "file_extension": ".py",
   "mimetype": "text/x-python",
   "name": "python",
   "nbconvert_exporter": "python",
   "pygments_lexer": "ipython3",
   "version": "3.7.3"
  },
  "toc": {
   "base_numbering": 1,
   "nav_menu": {
    "height": "175px",
    "width": "252px"
   },
   "number_sections": true,
   "sideBar": true,
   "skip_h1_title": false,
   "title_cell": "Table of Contents",
   "title_sidebar": "Contents",
   "toc_cell": false,
   "toc_position": {},
   "toc_section_display": "block",
   "toc_window_display": true
  },
  "varInspector": {
   "cols": {
    "lenName": 16,
    "lenType": 16,
    "lenVar": 40
   },
   "kernels_config": {
    "python": {
     "delete_cmd_postfix": "",
     "delete_cmd_prefix": "del ",
     "library": "var_list.py",
     "varRefreshCmd": "print(var_dic_list())"
    },
    "r": {
     "delete_cmd_postfix": ") ",
     "delete_cmd_prefix": "rm(",
     "library": "var_list.r",
     "varRefreshCmd": "cat(var_dic_list()) "
    }
   },
   "types_to_exclude": [
    "module",
    "function",
    "builtin_function_or_method",
    "instance",
    "_Feature"
   ],
   "window_display": false
  }
 },
 "nbformat": 4,
 "nbformat_minor": 2
}
