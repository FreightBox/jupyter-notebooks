{
 "cells": [
  {
   "cell_type": "markdown",
   "metadata": {},
   "source": [
    "![](../images/rivacon_frontmark_combined_header.png)"
   ]
  },
  {
   "cell_type": "markdown",
   "metadata": {},
   "source": [
    "# American plain vanilla option"
   ]
  },
  {
   "cell_type": "code",
   "execution_count": null,
   "metadata": {},
   "outputs": [],
   "source": [
    "import pyvacon.analytics as analytics\n",
    "import math\n",
    "import numpy\n",
    "import pandas as pd\n",
    "import pyvacon.marketdata.plot as mkt_plot #import module for plotting functionality\n",
    "#the next lin is a jupyter internal command to show the matplotlib graphs within the notebook\n",
    "%matplotlib inline\n",
    "from plotly.offline import init_notebook_mode, iplot\n",
    "from plotly.graph_objs import *\n",
    "init_notebook_mode(connected=True) "
   ]
  },
  {
   "cell_type": "code",
   "execution_count": null,
   "metadata": {},
   "outputs": [],
   "source": [
    "def exp(x):\n",
    "    return math.exp(x)\n",
    "def sqrt(x):\n",
    "    return math.sqrt(x)"
   ]
  },
  {
   "cell_type": "markdown",
   "metadata": {},
   "source": [
    "## Definition of an American plain vanilla option\n",
    "\n",
    "In contrast to an European plain vanilla option, American plain vanilla options can be exercised at any time before expiry which gives the holder of the option more rights than in the case of an European option. As a consequence, American options can never be less valuable than European options. In order to price an American options and incorporate the possibility of an early exercise, we need to be familiar with the concept of binomial trees which was described in the [binomial tree](binomial_trees.ipynb) notebook.\n",
    "\n",
    "When pricing American options, the parameters $u$ and $d$ should match the volatility of the stock price (see [Hull](options-futures-and-other-derivatives-8th-john.pdf), p.265 ff.). The parameters for matching volatility $u$ and $d$ are defined as follows:\n",
    "\n",
    "$$u = e^{\\sigma\\sqrt{\\Delta{t}}}$$\n",
    "$$d = e^{-\\sigma\\sqrt{\\Delta{t}}}$$\n",
    "\n",
    "with $\\sigma$ as the standard deviation of the underlying's stock and $\\Delta{t}$ as a small time step. \n",
    "The probability of an upward movement $p$ is defined as \n",
    "\n",
    "$$p=\\frac{a-d}{u-d}$$\n",
    "\n",
    "with\n",
    "\n",
    "$$a=e^{r\\Delta{t}}.$$\n"
   ]
  },
  {
   "cell_type": "markdown",
   "metadata": {},
   "source": [
    "## Pricing an American plain vanilla option\n",
    "\n",
    "The code for the pricing an American plain vanilla option on a non-dividend paying stock using a binomial tree is shown in the following code cell. "
   ]
  },
  {
   "cell_type": "code",
   "execution_count": null,
   "metadata": {},
   "outputs": [],
   "source": [
    "def AmericanPlainVanillaOption(_type, F0, K, r_f, r_b, r_dsc, sigma, N, T, array=False):\n",
    "    dt = T/N\n",
    "    a = exp((r_f-r_b)*dt)\n",
    "    u = exp(sigma*sqrt(dt))\n",
    "    d = 1/u\n",
    "    p = (a-d)/(u-d) # Probability for an upward movement of the stock price\n",
    "    \n",
    "    #Price tree\n",
    "    price_tree = numpy.zeros([N+1, N+1]) # Creating an array for the binomial tree\n",
    "    \n",
    "    for i in range(N+1):\n",
    "        for j in range(i+1):\n",
    "            price_tree[j, i] = F0*(d**j)*(u**(i-j)) ## Calculating the paths for the stock price\n",
    "       \n",
    "    # Option value  (payoff tree)\n",
    "    option = numpy.zeros([N+1, N+1])\n",
    "    if _type =='CALL':\n",
    "        # Calculating the payoff at maturity, i.e. calculating (S_T-K) for each final stock price (last column)\n",
    "        option[:, N] = numpy.maximum(numpy.zeros(N+1), price_tree[:, N]-K) \n",
    "    if _type =='PUT':\n",
    "        option[:, N] = numpy.maximum(numpy.zeros(N+1), K-price_tree[:, N])\n",
    "    \n",
    "    # Calculate option price at t=0\n",
    "    # Calculating the option prices at the different nodes going backward from the last nodes\n",
    "    for i in numpy.arange(N-1, -1, -1):\n",
    "        for j in numpy.arange(0, i+1):\n",
    "            option[j, i] = exp(-r_dsc*dt)*(p*option[j, i+1]+(1-p)*option[j+1, i+1])\n",
    "            \n",
    "    #Return\n",
    "    # if array: return also price tree and option price tree\n",
    "    if array:\n",
    "        return [option[0,0], price_tree, option]\n",
    "    # otherwise return only option price at t=0\n",
    "    else: \n",
    "        return option[0,0]"
   ]
  },
  {
   "cell_type": "code",
   "execution_count": null,
   "metadata": {},
   "outputs": [],
   "source": [
    "S0 = 50\n",
    "K = 50\n",
    "r_dsc = 0.05\n",
    "r_f = 0.01\n",
    "r_b = 0.00\n",
    "sigma = 0.3\n",
    "N = 2\n",
    "T = 1\n",
    "t=0\n",
    "F0 = F0 = S0*exp((r_f-r_b)*(T-t))\n",
    "\n",
    "AmericanPlainVanillaOption('CALL',F0, K, r_f, r_b, r_dsc, sigma, N, T)"
   ]
  },
  {
   "cell_type": "markdown",
   "metadata": {},
   "source": [
    "## Plotting the option price"
   ]
  },
  {
   "cell_type": "code",
   "execution_count": null,
   "metadata": {},
   "outputs": [],
   "source": [
    "spots = []\n",
    "#strikes = [0,10,20,30,40,50,60,70,80,90,100]\n",
    "#ttm = [0.1, 0.25, 0.5, 0.75, 1.0, 1.5, 2.0, 2.5, 3.0, 4.0, 5.0]\n",
    "#vols = [0.1, 0.15, 0.2, 0.25, 0.3, 0.35, 0.4, 0.45, 0.5]\n",
    "\n",
    "n=0.5\n",
    "while n<=100:\n",
    "    spots.append(n)\n",
    "    n=n+0.1\n",
    "    \n",
    "call_prices = []\n",
    "for i in range(len(spots)):\n",
    "    call_prices.append(AmericanPlainVanillaOption('CALL', spots[i], K, r_f, r_b, r_dsc, sigma, N, T))\n",
    "    \n",
    "put_prices = []\n",
    "for i in range(len(spots)):\n",
    "    put_prices.append(AmericanPlainVanillaOption('PUT', spots[i], K, r_f, r_b, r_dsc, sigma, N, T))\n",
    "\n",
    "#Plot the prices\n",
    "prices_list = {'Spots': spots, \n",
    "              'Call Prices': call_prices,\n",
    "              'Put Prices': put_prices}\n",
    "\n",
    "prices = pd.DataFrame(prices_list, index = spots)    \n",
    "\n",
    "prices_plot_data = [Scatter(name = 'Call prices', x = spots, y = prices_list['Call Prices'], mode = 'lines'),\n",
    "                Scatter(name = 'Put prices', x = spots, y = prices_list['Put Prices'], mode = 'lines'), \n",
    "                Scatter(name = 'Strike', x = [K,K], y = [0,max(call_prices)], mode = 'lines')]\n",
    "\n",
    "layout = Layout(title = \"American Plain Vanilla Option\",\n",
    "               xaxis=dict(title ='Spot'),\n",
    "               yaxis=dict(title = 'Prices'))\n",
    "\n",
    "iplot(Figure(data=prices_plot_data, layout=layout))"
   ]
  },
  {
   "cell_type": "code",
   "execution_count": null,
   "metadata": {},
   "outputs": [],
   "source": []
  }
 ],
 "metadata": {
  "kernelspec": {
   "display_name": "Python 3",
   "language": "python",
   "name": "python3"
  },
  "language_info": {
   "codemirror_mode": {
    "name": "ipython",
    "version": 3
   },
   "file_extension": ".py",
   "mimetype": "text/x-python",
   "name": "python",
   "nbconvert_exporter": "python",
   "pygments_lexer": "ipython3",
   "version": "3.7.3"
  },
  "toc": {
   "base_numbering": 1,
   "nav_menu": {},
   "number_sections": true,
   "sideBar": true,
   "skip_h1_title": false,
   "title_cell": "Table of Contents",
   "title_sidebar": "Contents",
   "toc_cell": false,
   "toc_position": {},
   "toc_section_display": true,
   "toc_window_display": true
  }
 },
 "nbformat": 4,
 "nbformat_minor": 2
}
