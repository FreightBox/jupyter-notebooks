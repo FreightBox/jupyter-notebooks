{
 "cells": [
  {
   "cell_type": "markdown",
   "metadata": {},
   "source": [
    "![](../images/rivacon_frontmark_combined_header.png)"
   ]
  },
  {
   "cell_type": "markdown",
   "metadata": {},
   "source": [
    "# Down-and-out put"
   ]
  },
  {
   "cell_type": "code",
   "execution_count": null,
   "metadata": {},
   "outputs": [],
   "source": [
    "import pyvacon.analytics as analytics\n",
    "import datetime as dt\n",
    "import pyvacon.tools.converter as converter\n",
    "import pyvacon.tools.enums as enums\n",
    "import pyvacon.environment as environment\n",
    "import pyvacon.marketdata.testdata as mkt_testdata\n",
    "import pyvacon.instruments.testdata as ins_testdata\n",
    "import math\n",
    "import pandas as pd\n",
    "from scipy.stats import norm\n",
    "import pyvacon.marketdata.plot as mkt_plot #import module for plotting functionality\n",
    "#the next lin is a jupyter internal command to show the matplotlib graphs within the notebook\n",
    "%matplotlib inline\n",
    "# alternative library for plots (offline version)\n",
    "from plotly.offline import init_notebook_mode, iplot\n",
    "from plotly.graph_objs import *\n",
    "\n",
    "init_notebook_mode(connected=True) "
   ]
  },
  {
   "cell_type": "markdown",
   "metadata": {},
   "source": [
    "## Definition of a down-and-out put\n",
    "\n",
    "\n",
    "A down-and-out put belongs to the class of barrier options. It is a put option that ceases to exist if the underlying's spot prices reaches a barrier which is less that the current asset price.\n",
    "\n",
    "## Down-and-out put pricing formulas\n",
    "\n",
    "\n",
    "The value of a down-and-out put in the case of a barrier which es less than the strike price can be calculated subtracting the price of a down-and-in put from a plain vanilla put. In the case of a barrier which is greater than or equal to the strike price, the price of the down-and-out put is by definition zero. Because the value of a down-and-in put with a barrier greater or equal than the strike equals the value of a plain vanilla put option, the formula proves this finding.\n",
    "\n",
    "$$p_{do} = p - p_{di}$$ \n",
    "\n",
    "The price of a down-and-in put $p_{di}$ is defined as:\n",
    "\n",
    "$$p_{di}=-S_0N(-x_1)e^{-qT}+Ke^{-rT}N(-x_1+\\sigma\\sqrt{T})+S_0e^{-qT}(H/S_0)^{2\\lambda}[N(y)-N(y_1)]-Ke^{-rT}(H/S_0)^{2\\lambda-2}[N(y-\\sigma\\sqrt{T})-N(y_1-\\sigma\\sqrt{T})]$$\n",
    "\n",
    "with $S_0$ as the underlying asset's spot price, $K$ as the option's strike price, $H$ as the option's barrier, $N(x)$ as the cumulative probability distribution function for a standardized normal distribution, $r$ as the risk-free interest rate, $q$ as the borrowing rate, $\\sigma$ as the underlying's volatility and $T$ as the option's maturity as year fraction\n",
    "\n",
    "where \n",
    "\n",
    "\\begin{align}\n",
    "\\lambda &=\\frac{r-q+\\sigma^2/2}{\\sigma^2} \\\\\n",
    "\\\\\n",
    "y &=\\frac{\\ln[H^2/(S_0K)]}{\\sigma\\sqrt{T}}+\\lambda\\sigma\\sqrt{T} \\\\\n",
    "\\\\\n",
    "x_1 &=\\frac{\\ln(S_0/H)}{\\sigma\\sqrt{T}}+\\lambda\\sigma\\sqrt{T} \\\\\n",
    "\\\\\n",
    "y_1 &=\\frac{\\ln(H/S_0)}{\\sigma\\sqrt{T}}+\\lambda\\sigma\\sqrt{T} \\\\\n",
    "\\end{align}\n",
    "\n",
    "The following code defines the formula to value an down-and-out put."
   ]
  },
  {
   "cell_type": "code",
   "execution_count": null,
   "metadata": {},
   "outputs": [],
   "source": [
    "def dopPricer(S0, K, H, r, sigma, T, q=0, t=0):\n",
    "    _lambda = (r-q+sigma**2/2)/sigma**2\n",
    "    y = (math.log(H**2/(S0*K)))/(sigma*math.sqrt(T-t))+_lambda*sigma*math.sqrt(T-t)\n",
    "    x1 = (math.log(S0/H))/(sigma*math.sqrt(T-t))+_lambda*sigma*math.sqrt(T-t)\n",
    "    y1 = (math.log(H/S0))/(sigma*math.sqrt(T-t))+_lambda*sigma*math.sqrt(T-t)\n",
    "    pdi = -S0*norm.cdf(-x1)*math.exp(-q*(T-t))+K*math.exp(-r*(T-t))*norm.cdf(-x1+sigma*math.sqrt(T-t))+S0*math.exp(-q*(T-t))*(H/S0)**(2*_lambda)*(norm.cdf(y)-norm.cdf(y1))-K*math.exp(-r*(T-t))*(H/S0)**(2*_lambda-2)*(norm.cdf(y-sigma*math.sqrt(T-t))-norm.cdf(y1-sigma*math.sqrt(T-t)))\n",
    "    d1= (math.log(S0/K)+(r+sigma**2/2)*(T-t))/(sigma*math.sqrt(T-t))\n",
    "    d2 = d1-sigma*math.sqrt(T-t)\n",
    "    p = -1*(S0*norm.cdf(-1*d1)-K*math.exp(-r*(T-t))*norm.cdf(-1*d2))\n",
    "    pdo = p - pdi\n",
    "    if S0<=H:\n",
    "        return 0\n",
    "    else:\n",
    "        return pdo"
   ]
  },
  {
   "cell_type": "markdown",
   "metadata": {},
   "source": [
    "## Manual pricing of a down-and-out put option\n",
    "\n",
    "In the following code, we use the defined formulas above and calculate the price of a down-and-out put assuming a non-dividend paying stock."
   ]
  },
  {
   "cell_type": "code",
   "execution_count": null,
   "metadata": {},
   "outputs": [],
   "source": [
    "S0 = 50.0\n",
    "K = 50.0\n",
    "H = 40\n",
    "r = 0.05\n",
    "q = 0\n",
    "sigma = 0.3\n",
    "T = 1.0\n",
    "t = 0\n",
    "\n",
    "print('Down-and-out put price =',dopPricer(S0, K, H, r, sigma, T, q, t))"
   ]
  },
  {
   "cell_type": "markdown",
   "metadata": {},
   "source": [
    "**Plotting the price profile of a down-and-out put**\n",
    "\n",
    "The following code constructs a plot which shows the option price dependent on the spot price. Additionally, the further plot shows the delta function of the down-and-out put."
   ]
  },
  {
   "cell_type": "code",
   "execution_count": null,
   "metadata": {},
   "outputs": [],
   "source": [
    "#Create different spots\n",
    "spots = []\n",
    "n=0.5\n",
    "while n<=100:\n",
    "    spots.append(n)\n",
    "    n=n+0.1\n",
    "\n",
    "#Calculate option prices for the individual spots assuming everything else remains the same\n",
    "prices = []\n",
    "for s in range(len(spots)):\n",
    "    prices.append(dopPricer(spots[s], K, H, r, sigma, T, q, t))\n",
    "\n",
    "\n",
    "#Plot the option prices\n",
    "prices_list = {'Spots': spots, \n",
    "              'Prices': prices}\n",
    "\n",
    "dop_prices = pd.DataFrame(prices_list, index = spots)    \n",
    "\n",
    "plot_data = [Scatter(name = 'Down-and-out put price', x = spots, y = prices_list['Prices'], mode = 'lines'),\n",
    "                Scatter(name = 'Barrier', x = [H,H], y = [0,max(prices)], mode = 'lines'), \n",
    "                Scatter(name = 'Strike', x = [K,K], y = [0,max(prices)], mode = 'lines')]\n",
    "\n",
    "layout = Layout(title = \"Down-and-out Put Option\",\n",
    "               xaxis=dict(title ='Spot'),\n",
    "               yaxis=dict(title = 'Price'))\n",
    "\n",
    "iplot(Figure(data=plot_data, layout=layout))\n",
    "    \n",
    "\n",
    "# Delta    \n",
    "nominator = []\n",
    "for s in range(len(spots)):\n",
    "    nominator.append(dopPricer(spots[s], K, H, r, sigma, T, q, t)-dopPricer(spots[s-1], K, H, r, sigma, T, q, t))\n",
    "\n",
    "denominator = []\n",
    "for s in range(len(spots)):\n",
    "    denominator.append(spots[s]-spots[s-1])\n",
    "    \n",
    "value = []\n",
    "for s in range(len(nominator)):\n",
    "    value.append(nominator[s]/denominator[s])\n",
    "\n",
    "#Alternative way to calculate the deltas\n",
    "#deltas = analytics.vectorDouble()\n",
    "#for i in range(len(spots)):\n",
    "#    deltas.append(norm.cdf((math.log(spots[s]/K)+(r+sigma**2/2)*(T-t))/(sigma*math.sqrt(T-t)))-1)\n",
    "   \n",
    "#Plot the delta\n",
    "delta_list = {'Spots': spots, \n",
    "              'Deltas': value}\n",
    "\n",
    "dop_deltas = pd.DataFrame(delta_list, index = spots)    \n",
    "\n",
    "delta_plot_data = [Scatter(name = 'Down-and-out put delta', x = spots, y = delta_list['Deltas'], mode = 'lines'),\n",
    "                Scatter(name = 'Barrier', x = [H,H], y = [0,max(value)], mode = 'lines'), \n",
    "                Scatter(name = 'Strike', x = [K,K], y = [0,max(value)], mode = 'lines')]\n",
    "\n",
    "layout = Layout(title = \"Down-and-out Put Delta\",\n",
    "               xaxis=dict(title ='Spot'),\n",
    "               yaxis=dict(title = 'Delta'))\n",
    "\n",
    "iplot(Figure(data=delta_plot_data, layout=layout))"
   ]
  },
  {
   "cell_type": "markdown",
   "metadata": {},
   "source": [
    "## Option pricing using the RIVACON pricing library"
   ]
  },
  {
   "cell_type": "markdown",
   "metadata": {},
   "source": [
    "### Create the necessary market data\n",
    "As a first step, we need to create the market data necessary to undertake the valuation. Therefore, we need to construct a *discount-*, *funding-* and *borrowing curve*, a *forward-curve* as well as a *volatility surface*."
   ]
  },
  {
   "cell_type": "markdown",
   "metadata": {},
   "source": [
    "#### Create a discount-, funding-, and borrowing-curve"
   ]
  },
  {
   "cell_type": "code",
   "execution_count": null,
   "metadata": {},
   "outputs": [],
   "source": [
    "object_id = \"TEST_DC\"\n",
    "refdate = analytics.ptime(2017,1,1,0,0,0)\n",
    "days_to_maturity = [1, 180, 365, 720, 3*365, 4*365, 10*365]\n",
    "dates = converter.createPTimeList(refdate, days_to_maturity)\n",
    "# discount factors from constant rate\n",
    "disc_rate = 0.05\n",
    "borrow_rate = 0.0\n",
    "funding_rate = 0.05\n",
    "\n",
    "disc_df = analytics.vectorDouble()\n",
    "for d in days_to_maturity:\n",
    "    disc_df.append(math.exp(-d/365.0*disc_rate))\n",
    "dc = analytics.DiscountCurve(object_id, refdate,dates, disc_df, enums.DayCounter.ACT365_FIXED, enums.InterpolationType.HAGAN_DF, enums.ExtrapolationType.NONE)\n",
    "\n",
    "borrow_df = analytics.vectorDouble()\n",
    "for d in days_to_maturity:\n",
    "    borrow_df.append(math.exp(-d/365.0*borrow_rate))\n",
    "bc = analytics.DiscountCurve(object_id, refdate, dates, borrow_df, enums.DayCounter.ACT365_FIXED, \n",
    "                             enums.InterpolationType.HAGAN_DF, enums.ExtrapolationType.NONE)\n",
    "\n",
    "funding_df = analytics.vectorDouble()\n",
    "for d in days_to_maturity:\n",
    "    funding_df.append(math.exp(-d/365.0*funding_rate))\n",
    "fc = analytics.DiscountCurve(object_id, refdate, dates, funding_df, enums.DayCounter.ACT365_FIXED, \n",
    "                             enums.InterpolationType.HAGAN_DF, enums.ExtrapolationType.NONE)"
   ]
  },
  {
   "cell_type": "markdown",
   "metadata": {},
   "source": [
    "#### Create a forward curve\n",
    "An equity forward curve has to be created to determine the future spot price. The procedure follows the description in the [equity forward curves](equity_forwardcurve.ipynb) notebook. To make the results comparable, we assume that the underlying is a non-dividend paying stock."
   ]
  },
  {
   "cell_type": "code",
   "execution_count": null,
   "metadata": {},
   "outputs": [],
   "source": [
    "# Creation of a Forward curve\n",
    "#div table\n",
    "object_id = \"Div_Table\"\n",
    "refdate = analytics.ptime(2017,1,1,0,0,0) #dates which enters analytics objects must be analytics ptimes. \n",
    "\n",
    "ex_dates = converter.createPTimeList(refdate, [dt.datetime(2018,3,29), dt.datetime(2019,3,29), dt.datetime(2020,3,29), dt.datetime(2021,3,29)])\n",
    "pay_dates = converter.createPTimeList(refdate, [dt.datetime(2018,4,1), dt.datetime(2019,4,1), dt.datetime(2020,4,1), dt.datetime(2021,4,1)])\n",
    "tax_factors = analytics.vectorDouble([1.0, 1.0, 1.0, 1.0])\n",
    "div_yield = analytics.vectorDouble([0, 0.00, 0.0, 0.0])\n",
    "div_cash = analytics.vectorDouble([0.0, 0.0, 0.0, 0.0])\n",
    "\n",
    "div_table=analytics.DividendTable(object_id, refdate, ex_dates, div_yield, div_cash, tax_factors, pay_dates)\n",
    "\n",
    "spot = S0\n",
    "\n",
    "forward_curve = analytics.EquityForwardCurve(refdate, spot, fc, bc, div_table)"
   ]
  },
  {
   "cell_type": "markdown",
   "metadata": {},
   "source": [
    "#### Create a volatility surface\n",
    "The procedure follows the description in the [equity volatilities](equity_volatilities.ipynb) notebook. In order to compare the results with the model above, we use a flat volatility surface."
   ]
  },
  {
   "cell_type": "code",
   "execution_count": null,
   "metadata": {},
   "outputs": [],
   "source": [
    "#expiries = [1.0/12.0, 1.0, 2.0, 3.0]\n",
    "#atm_vols =  [0.3, 0.28, 0.25, 0.24]\n",
    "#term_param = analytics.VolatilityParametrizationTerm(expiries,atm_vols)\n",
    "flat_param = analytics.VolatilityParametrizationFlat(0.3)\n",
    "\n",
    "obj_id = 'TEST_SURFACE'\n",
    "vol_surf = analytics.VolatilitySurface(obj_id, refdate, forward_curve, enums.DayCounter.ACT365_FIXED, flat_param)\n",
    "\n",
    "fwdspot = forward_curve.value(converter.getLTime(refdate),converter.getLTime(refdate))"
   ]
  },
  {
   "cell_type": "markdown",
   "metadata": {},
   "source": [
    "### Setup the specification\n",
    "\n",
    "The down-and-out put specification requires the following parameters:\n",
    "\n",
    "- spot price of the underlying\n",
    "- currency\n",
    "- expiry relative to the reference date in days\n",
    "- barrier level relative to the spot\n",
    "- rebate level relative to the spot\n",
    "- strike level relative to the spot\n",
    "- underlying\n",
    "- reference date\n",
    "- barrier at start\n"
   ]
  },
  {
   "cell_type": "code",
   "execution_count": null,
   "metadata": {},
   "outputs": [],
   "source": [
    "rel_expiry = 365 # expiry in number of days\n",
    "rel_level = (H/spot) #barrier level relative to spot # Achtung, hier stand 0, was wird hier genau erwartet?\n",
    "rel_rebate = 0 # rebate relative to spot\n",
    "rel_strike = K/spot # strike relative to spot\n",
    "spot=fwdspot\n",
    "udl = 'DBK'\n",
    "dop = ins_testdata.DOP.__create_DOP__(spot, 'EUR', rel_expiry, rel_level, rel_strike, rel_rebate, \n",
    "                                        udl,converter.getLTime(refdate))\n",
    "#help(ins_testdata.DOP.__create_DOP__)"
   ]
  },
  {
   "cell_type": "markdown",
   "metadata": {},
   "source": [
    "### Setup the pricing data\n",
    "A product may be priced in two different ways: One may either fill the respective pricing data needed for a special pricer (which inherits from the BasePricingData) and use the respective price method where just the pricing data is given. Another possibility is to use the price-method where the storages are given. In this case, the pricer will fill the needed pricing data according to the underlying and other data as specified in the product specification.\n",
    "\n",
    "**Here we show the approach explicitly setting the pricing data.**  "
   ]
  },
  {
   "cell_type": "code",
   "execution_count": null,
   "metadata": {},
   "outputs": [],
   "source": [
    "dop_pricing_data = analytics.LocalVolPdePricingData()\n",
    "#help(analytics.LocalVolPdePricingData)\n",
    "dop_pricing_data.pricer = 'LocalVolPdePricer'\n",
    "dop_pricing_data.valDate = converter.getLTime(refdate)\n",
    "dop_pricing_data.pricingRequest = analytics.PricingRequest()\n",
    "dop_pricing_data.vol = vol_surf\n",
    "dop_pricing_data.spec = dop\n",
    "dop_pricing_data.param = analytics.PdePricingParameter()\n",
    "dop_pricing_data.dsc = dc"
   ]
  },
  {
   "cell_type": "markdown",
   "metadata": {},
   "source": [
    "### Pricing\n",
    "\n",
    "After all necessary information has been set, the price of the option can be calculated using the *analytics.price* function."
   ]
  },
  {
   "cell_type": "code",
   "execution_count": null,
   "metadata": {},
   "outputs": [],
   "source": [
    "pr = analytics.price(dop_pricing_data)\n",
    "pr.getPrice()"
   ]
  },
  {
   "cell_type": "markdown",
   "metadata": {},
   "source": [
    "## Exercises"
   ]
  },
  {
   "cell_type": "code",
   "execution_count": null,
   "metadata": {},
   "outputs": [],
   "source": []
  },
  {
   "cell_type": "code",
   "execution_count": null,
   "metadata": {},
   "outputs": [],
   "source": []
  }
 ],
 "metadata": {
  "kernelspec": {
   "display_name": "Python 3",
   "language": "python",
   "name": "python3"
  },
  "language_info": {
   "codemirror_mode": {
    "name": "ipython",
    "version": 3
   },
   "file_extension": ".py",
   "mimetype": "text/x-python",
   "name": "python",
   "nbconvert_exporter": "python",
   "pygments_lexer": "ipython3",
   "version": "3.7.3"
  },
  "toc": {
   "base_numbering": 1,
   "nav_menu": {},
   "number_sections": true,
   "sideBar": true,
   "skip_h1_title": false,
   "title_cell": "Table of Contents",
   "title_sidebar": "Contents",
   "toc_cell": false,
   "toc_position": {},
   "toc_section_display": true,
   "toc_window_display": true
  }
 },
 "nbformat": 4,
 "nbformat_minor": 2
}
