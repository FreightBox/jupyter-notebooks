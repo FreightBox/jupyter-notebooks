{
 "cells": [
  {
   "cell_type": "markdown",
   "metadata": {},
   "source": [
    "# Validierung des Rainbow-Monte-Carlo Pricers 0.1\n",
    "## Bewertung von Plain Vanilla Options im Black-Scholes-Modell\n"
   ]
  },
  {
   "cell_type": "code",
   "execution_count": null,
   "metadata": {},
   "outputs": [],
   "source": [
    "import pyvacon.analytics as analytics         #Pricing class\n",
    "import pyvacon.tools.enums as pte             #Enums class, contains inter-/extrapolation types, daycount conventions, etc. \n",
    "import pyvacon.marketdata.plot as mkt_plt     #Plot class for marketdata, e.g. discount curves, vol surfaces, etc.\n",
    "\n",
    "import datetime as dt                         #Python class for date and time handling\n",
    "import matplotlib.pyplot as plt               #Python plot class\n",
    "import numpy as np                            #Python class for numerical, vector/matrix based programming\n",
    "import math                                   #Python class for basic mathematical operations\n",
    "%matplotlib inline                            "
   ]
  },
  {
   "cell_type": "markdown",
   "metadata": {},
   "source": [
    "## Plain Vanilla Options\n",
    "Ein Plain-Vanilla Call auf ein Underlying $S$ mit Maturity $T$ und Strike $K$ hat das folgende Auszahlungsprofil\n",
    "$(S(T)-K)_+$ und dementsprechend einen fairen Preis $\\text{Price}_{C}(S,t) = \\mathbb{E}[(S(T)-K)_+]$. Im Black-Scholes-Modell \n",
    "lässt sich dieser Preis analytisch bestimmen\n",
    "### Black-Scholes-Formel\n",
    "$$\\text{Price}_{C/P}(S,t) = \\pm \\bigg(S \\Phi\\big(\\pm d_1\\big)-K e^{-r(T-t)}\\Phi\\big(\\pm d_2\\big)\\bigg),\\qquad d_{1/2} = \\frac{\\log(S/K)+(r\\pm\\sigma^2/2)(T-t)}{\\sigma\\sqrt{T-t}}.$$"
   ]
  },
  {
   "cell_type": "code",
   "execution_count": null,
   "metadata": {},
   "outputs": [],
   "source": [
    "def ndf(x): \n",
    "#Normalverteilungsfunktion\n",
    "    return 0.5*(1+math.erf(x/math.sqrt(2)))"
   ]
  },
  {
   "cell_type": "code",
   "execution_count": null,
   "metadata": {},
   "outputs": [],
   "source": [
    "def Blsch(S,K,t,T,sigma,r,cp): \n",
    "#Black-Scholes-Formel\n",
    "    d1 = (math.log(S/K)+(r+sigma*sigma/2)*(T-t))/(sigma*math.sqrt(T-t))\n",
    "    d2 = d1-sigma*math.sqrt(T-t)\n",
    "    return cp*(S*ndf(cp*d1)-K*math.exp(-r*(T-t))*ndf(cp*d2))"
   ]
  },
  {
   "cell_type": "markdown",
   "metadata": {},
   "source": [
    "### Inputparameter der Black-Scholes Formel\n",
    "- volatility:     $\\sigma$\n",
    "- interest rate:  r\n",
    "- strike:         K\n",
    "- expiry:         T\n",
    "\n",
    "### Variablen in Black-Scholes Formel\n",
    "- Spot zum Zeitpunkt $t$: S\n",
    "- Auswertungszeitpunkt: $t$"
   ]
  },
  {
   "cell_type": "code",
   "execution_count": null,
   "metadata": {},
   "outputs": [],
   "source": [
    "S = 50\n",
    "sigma = 0.3\n",
    "r = 0.05\n",
    "K = 50\n",
    "t = 0\n",
    "T = 0.5"
   ]
  },
  {
   "cell_type": "code",
   "execution_count": null,
   "metadata": {},
   "outputs": [],
   "source": [
    "    refdate_p = dt.datetime(2018,1,1)\n",
    "    expiry_p = refdate_p + dt.timedelta(days = 365*(T-t))\n",
    "    refdate = analytics.ptime(refdate_p.year,refdate_p.month,refdate_p.day,0,0,0)\n",
    "    expiry = analytics.ptime(expiry_p.year,expiry_p.month,expiry_p.day, 0, 0, 0)\n",
    "# Discountkurve deklarieren\n",
    "    dc = analytics.DiscountCurve('',refdate,[refdate,analytics.ptime(2021,1,1,0,0,0)], [1.0, 1/math.pow(1+r,3)], \n",
    "                                 pte.DayCounter.ACT365_FIXED, pte.InterpolationType.LINEAR, pte.ExtrapolationType.NONE)\n",
    "# Borrowing Curve deklarieren\n",
    "    bc = analytics.DiscountCurve('',refdate,[refdate,analytics.ptime(2021,1,1,0,0,0)], [1.0, 1], \n",
    "                                 pte.DayCounter.ACT365_FIXED, pte.InterpolationType.LINEAR, pte.ExtrapolationType.NONE)\n",
    "# Dividenden Zahlungen definieren\n",
    "    div=analytics.DividendTable('', refdate, analytics.vectorPTime(), [],[],[],[])\n",
    "# Forwardkurve definieren\n",
    "    fwd = analytics.EquityForwardCurve(refdate, S, dc, bc, div)\n",
    "# Volatility Surface definieren\n",
    "    flat_param = analytics.VolatilityParametrizationFlat(sigma)\n",
    "    ?analytics.VolatilityParametrizationSSVI\n",
    "    vol_srf = analytics.VolatilitySurface('',refdate, fwd, pte.DayCounter.ACT365_FIXED, flat_param)"
   ]
  },
  {
   "cell_type": "code",
   "execution_count": null,
   "metadata": {},
   "outputs": [],
   "source": [
    "# Definition des Baskets und des Zahlungsprofils des Derivates\n",
    "\n",
    "?analytics.RainbowUnderlyingSpec\n",
    "rbw_udl = analytics.vectorRainbowUdlSpec(1)\n",
    "rbw_udl[0] = analytics.RainbowUnderlyingSpec(['dummy'], [1.0], [100000000.0], [0.0], [1.0], [1.0], 10000000.0, 0.0, 0, 'None', 'None',\n",
    "                                            [], 0, 'None', [], 'None')\n",
    "#?analytics.RainbowBarrierSpec\n",
    "\n",
    "barriers = analytics.vectorRainbowBarrierSpec(1)\n",
    "barriers[0] = analytics.RainbowBarrierSpec(expiry, expiry, [], 0, 100000000, 0, [],[], True, [0.0, K, 100000000.0], \n",
    "                                           [00.0, 0.0, 100000000.0-K], [],[], expiry)\n",
    "#?analytics.RainbowSpecification\n",
    "spec = analytics.RainbowSpecification('', '', pte.SecuritizationLevel.NONE, 'EUR', expiry, barriers, rbw_udl)"
   ]
  },
  {
   "cell_type": "code",
   "execution_count": null,
   "metadata": {},
   "outputs": [],
   "source": [
    "pricing_data = analytics.LocalVolMonteCarloPricingData()\n",
    "\n",
    "corr = analytics.vectorVectorDouble(1)\n",
    "corr[0] = analytics.vectorDouble(1, 1.0)\n",
    "pricing_data.setCorrelations(corr)\n",
    "pricing_data.param = analytics.MonteCarloPricingParameter()\n",
    "pricing_data.pricingRequest = analytics.PricingRequest()\n",
    "pricing_data.valDate = refdate\n",
    "pricing_data.dsc = dc\n",
    "pricing_data.spec = spec\n",
    "pricing_data.vols = analytics.vectorConstVolatilities([vol_srf])\n",
    "#analytics.price()"
   ]
  },
  {
   "cell_type": "code",
   "execution_count": null,
   "metadata": {},
   "outputs": [],
   "source": [
    "ref_value = Blsch(S,K,t,T,sigma,r,-1)\n",
    "print(ref_value)"
   ]
  },
  {
   "cell_type": "markdown",
   "metadata": {},
   "source": [
    "### Konvergenz bezüglich MC Sample"
   ]
  },
  {
   "cell_type": "code",
   "execution_count": null,
   "metadata": {},
   "outputs": [],
   "source": [
    "n = 21\n",
    "results = np.zeros((n,1))\n",
    "err = np.zeros((n,1))\n",
    "mc_samples = np.zeros((n,1))\n",
    "for i in range(0,n):\n",
    "    mc_samples[i,0]=2**i\n",
    "    pricing_data.param.mcParam.numberOfSimulations = 2**i\n",
    "    pricingResults = analytics.price(pricing_data)\n",
    "    print(pricingResults.getPrice())\n",
    "    results[i,0] = pricingResults.getPrice()\n",
    "    err[i,0] = math.fabs(ref_value - pricingResults.getPrice())\n"
   ]
  },
  {
   "cell_type": "code",
   "execution_count": null,
   "metadata": {},
   "outputs": [],
   "source": [
    "plt.loglog(mc_samples,err)\n",
    "plt.show()\n",
    "pricing_data.param.mcParam.numberOfSimulations = 10000"
   ]
  },
  {
   "cell_type": "markdown",
   "metadata": {},
   "source": [
    "### Sensitivität bezüglich Spot"
   ]
  },
  {
   "cell_type": "code",
   "execution_count": null,
   "metadata": {},
   "outputs": [],
   "source": [
    "Spots = np.array(range(90,111,2))\n",
    "n = Spots.size\n",
    "Prices = np.zeros((n,1))\n",
    "BS_Prices = np.empty((n,1))\n",
    "for i in range(0,n):\n",
    "    S = float(Spots[i])\n",
    "    fwd = analytics.EquityForwardCurve(refdate, S, dc, bc, div)\n",
    "    flat_param = analytics.VolatilityParametrizationFlat(sigma)\n",
    "    vol_srf = analytics.VolatilitySurface('',refdate, fwd, pte.DayCounter.ACT365_FIXED, flat_param)\n",
    "    pricing_data.vols = analytics.vectorConstVolatilities([vol_srf])\n",
    "    pricingResults = analytics.price(pricing_data)\n",
    "    print(pricingResults.getPrice())\n",
    "    Prices[i,0] = pricingResults.getPrice()\n",
    "    BS_Prices[i,0] = Blsch(S,K,t,T,sigma,r,1)\n",
    "    print(BS_Prices[i,0])"
   ]
  },
  {
   "cell_type": "code",
   "execution_count": null,
   "metadata": {},
   "outputs": [],
   "source": [
    "plt.plot(Spots, BS_Prices)"
   ]
  },
  {
   "cell_type": "code",
   "execution_count": null,
   "metadata": {},
   "outputs": [],
   "source": [
    "    S = 100\n",
    "    fwd = analytics.EquityForwardCurve(refdate, S, dc, bc, div)\n",
    "    flat_param = analytics.VolatilityParametrizationFlat(sigma)\n",
    "    vol_srf = analytics.VolatilitySurface('',refdate, fwd, pte.DayCounter.ACT365_FIXED, flat_param)\n",
    "    pricing_data.vols = analytics.vectorConstVolatilities([vol_srf])"
   ]
  },
  {
   "cell_type": "markdown",
   "metadata": {},
   "source": [
    "### Sensitivität bzgl Strike"
   ]
  },
  {
   "cell_type": "code",
   "execution_count": null,
   "metadata": {},
   "outputs": [],
   "source": [
    "Strikes = np.array(range(90,111,2))\n",
    "n = Strikes.size\n",
    "Prices_2 = np.zeros((n,1))\n",
    "for i in range(0,n):\n",
    "    K = float(Strikes[i])\n",
    "    barriers[0] = analytics.RainbowBarrierSpec(expiry, expiry, [], 0, 100000000, 0, [],[], True, [0.0, K, 100000000.0], \n",
    "                                               [00.0, 0.0, 100000000.0-K],[],[], expiry)\n",
    "    spec = analytics.RainbowSpecification('', '', pte.SecuritizationLevel.NONE, 'EUR', expiry, barriers, rbw_udl)\n",
    "    pricing_data.spec = spec\n",
    "    pricingResults = analytics.price(pricing_data)\n",
    "    print(pricingResults.getPrice())\n",
    "    Prices_2[i,0] = pricingResults.getPrice()"
   ]
  },
  {
   "cell_type": "code",
   "execution_count": null,
   "metadata": {},
   "outputs": [],
   "source": [
    "plt.plot(Strikes, Prices_2)"
   ]
  },
  {
   "cell_type": "code",
   "execution_count": null,
   "metadata": {},
   "outputs": [],
   "source": [
    "    K = 100\n",
    "    barriers[0] = analytics.RainbowBarrierSpec(expiry, expiry, [], 0, 100000000, 0, [],[], True, [0.0, K, 100000000.0], \n",
    "                                               [00.0, 0.0, 100000000.0-K],[],[], expiry)\n",
    "    spec = analytics.RainbowSpecification('', '', pte.SecuritizationLevel.NONE, 'EUR', expiry, barriers, rbw_udl)\n",
    "    pricing_data.spec = spec"
   ]
  },
  {
   "cell_type": "markdown",
   "metadata": {},
   "source": [
    "### Sensitivität bezüglich Volatilität"
   ]
  },
  {
   "cell_type": "code",
   "execution_count": null,
   "metadata": {},
   "outputs": [],
   "source": [
    "print(S)\n",
    "K=100\n",
    "print(sigma)\n",
    "print(T)"
   ]
  },
  {
   "cell_type": "code",
   "execution_count": null,
   "metadata": {},
   "outputs": [],
   "source": [
    "Sigmas = np.linspace(0.01,20,20)\n",
    "n = Sigmas.size\n",
    "Prices_3 = np.zeros(n)\n",
    "Prices_Ref = np.zeros(n)\n",
    "for i in range(0,n):\n",
    "    sigma = Sigmas[i]\n",
    "    flat_param = analytics.VolatilityParametrizationFlat(sigma)\n",
    "    vol_srf = analytics.VolatilitySurface('',refdate, fwd, pte.DayCounter.ACT365_FIXED, flat_param)\n",
    "    pricing_data.vols = analytics.vectorConstVolatilities([vol_srf])\n",
    "    pricingResults = analytics.price(pricing_data)\n",
    "    print(pricingResults.getPrice())\n",
    "    Prices_3[i] = pricingResults.getPrice()\n",
    "    Prices_Ref[i] = Blsch(S,K,t,T,sigma,r,1)"
   ]
  },
  {
   "cell_type": "code",
   "execution_count": null,
   "metadata": {},
   "outputs": [],
   "source": [
    "plt.plot(Sigmas,Prices_3)"
   ]
  },
  {
   "cell_type": "code",
   "execution_count": null,
   "metadata": {},
   "outputs": [],
   "source": []
  }
 ],
 "metadata": {
  "kernelspec": {
   "display_name": "Python 3",
   "language": "python",
   "name": "python3"
  },
  "language_info": {
   "codemirror_mode": {
    "name": "ipython",
    "version": 3
   },
   "file_extension": ".py",
   "mimetype": "text/x-python",
   "name": "python",
   "nbconvert_exporter": "python",
   "pygments_lexer": "ipython3",
   "version": "3.7.3"
  },
  "toc": {
   "base_numbering": 1,
   "nav_menu": {},
   "number_sections": true,
   "sideBar": true,
   "skip_h1_title": false,
   "title_cell": "Table of Contents",
   "title_sidebar": "Contents",
   "toc_cell": false,
   "toc_position": {},
   "toc_section_display": true,
   "toc_window_display": false
  },
  "varInspector": {
   "cols": {
    "lenName": 16,
    "lenType": 16,
    "lenVar": 40
   },
   "kernels_config": {
    "python": {
     "delete_cmd_postfix": "",
     "delete_cmd_prefix": "del ",
     "library": "var_list.py",
     "varRefreshCmd": "print(var_dic_list())"
    },
    "r": {
     "delete_cmd_postfix": ") ",
     "delete_cmd_prefix": "rm(",
     "library": "var_list.r",
     "varRefreshCmd": "cat(var_dic_list()) "
    }
   },
   "types_to_exclude": [
    "module",
    "function",
    "builtin_function_or_method",
    "instance",
    "_Feature"
   ],
   "window_display": false
  }
 },
 "nbformat": 4,
 "nbformat_minor": 2
}
