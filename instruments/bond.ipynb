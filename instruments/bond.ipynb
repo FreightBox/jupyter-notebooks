{
 "cells": [
  {
   "cell_type": "markdown",
   "metadata": {},
   "source": [
    "![](../images/rivacon_frontmark_combined_header.png)"
   ]
  },
  {
   "cell_type": "code",
   "execution_count": null,
   "metadata": {
    "code_folding": []
   },
   "outputs": [],
   "source": [
    "#\n",
    "import pyvacon\n",
    "import datetime as dt\n",
    "\n",
    "import pyvacon.marketdata.testdata as mkt_testdata\n",
    "import pyvacon.tools.enums as enums\n",
    "import pyvacon.marketdata.plot as mkt_plot\n",
    "import pyvacon.models.plot as model_plot\n",
    "import pyvacon.models.tools as model_tools\n",
    "\n",
    "\n",
    "import matplotlib.pyplot as plt\n",
    "%matplotlib inline\n",
    "\n",
    "\n",
    "#%matplotlib qt\n",
    "#%matplotlib notebook"
   ]
  },
  {
   "cell_type": "code",
   "execution_count": null,
   "metadata": {},
   "outputs": [],
   "source": [
    "refdate = dt.datetime(2017,2,20)\n",
    "pyvacon.analytics.setLogLevel('DEBUG')\n",
    "pyvacon.analytics.registerSerialization('depp')"
   ]
  },
  {
   "cell_type": "markdown",
   "metadata": {},
   "source": [
    "# Bonds"
   ]
  },
  {
   "cell_type": "markdown",
   "metadata": {},
   "source": [
    "## Setup Specifications"
   ]
  },
  {
   "cell_type": "markdown",
   "metadata": {},
   "source": [
    "### Zero Bond"
   ]
  },
  {
   "cell_type": "code",
   "execution_count": null,
   "metadata": {},
   "outputs": [],
   "source": [
    "expiry = refdate + dt.timedelta(days=5*365)\n",
    "zero_bond = pyvacon.instruments.BondSpecification('Zero_Coupon', 'DBK', enums.SecuritizationLevel.NONE, 'EUR', expiry, refdate, 100.0, \n",
    "                            enums.DayCounter.ACT365_FIXED, [], [], '', [], [])\n"
   ]
  },
  {
   "cell_type": "code",
   "execution_count": null,
   "metadata": {},
   "outputs": [],
   "source": [
    "zero_bond.get_dictionary()"
   ]
  },
  {
   "cell_type": "markdown",
   "metadata": {},
   "source": [
    "### Fixed Coupon Bond"
   ]
  },
  {
   "cell_type": "code",
   "execution_count": null,
   "metadata": {},
   "outputs": [],
   "source": [
    "expiry = refdate + dt.timedelta(days=5*365)\n",
    "coupon_dates = [dt.datetime(y, 2, 20) for y in [2018,2019,2020,2021]]\n",
    "coupons = [0.05]*len(coupon_dates)\n",
    "fixed_coupon_bond = pyvacon.instruments.BondSpecification('Fixed_Coupon', 'DBK', enums.SecuritizationLevel.NONE, 'EUR', expiry, refdate, 100.0, \n",
    "                            enums.DayCounter.ACT365_FIXED, coupon_dates, coupons, '', [], [])"
   ]
  },
  {
   "cell_type": "markdown",
   "metadata": {},
   "source": [
    "### Float Coupon Bond"
   ]
  },
  {
   "cell_type": "code",
   "execution_count": null,
   "metadata": {},
   "outputs": [],
   "source": [
    "coupon_dates = [dt.datetime(y, 2, 20) for y in [2018,2019,2020,2021]]\n",
    "spreads = [1.0]*len(coupon_dates)\n",
    "float_coupon_bond = pyvacon.instruments.BondSpecification('Float_Coupon', 'DBK', enums.SecuritizationLevel.NONE, 'EUR', expiry, refdate, 100.0, \n",
    "                            enums.DayCounter.ACT365_FIXED, [], [], 'EUR6M', coupon_dates, \n",
    "                            spreads)"
   ]
  },
  {
   "cell_type": "markdown",
   "metadata": {},
   "source": [
    "### Fixed-To-Float"
   ]
  },
  {
   "cell_type": "code",
   "execution_count": null,
   "metadata": {},
   "outputs": [],
   "source": [
    "float_coupon_dates = [dt.datetime(y, 2, 20) for y in [2022,2023,2024]]\n",
    "float_spreads = [0.5]*3\n",
    "fix_to_float_bond = pyvacon.instruments.BondSpecification('Fixed_to_Float_Coupon', 'DBK', enums.SecuritizationLevel.NONE, 'EUR', expiry, refdate, 100.0, \n",
    "                            enums.DayCounter.ACT365_FIXED, coupon_dates, coupons, 'EUR6M', float_coupon_dates, \n",
    "                            float_spreads)"
   ]
  },
  {
   "cell_type": "markdown",
   "metadata": {},
   "source": [
    "## Pricing\n",
    "\n",
    "There are two different models to calculate the fair price of a bond. The simple discounted cashflow method and the Jarrow-Landau-Turnbull (JLT) model.\n",
    "### Simple discounted cashflows\n",
    "This method uses a (risk-adjusted) discount curve to discount all expected cashflows. To determine the expected cashflow of a floating coupon, the pricer just computes the forward rate from a explicitly defined fixing curve (also of type Discount curve). Let us assume that the bond has $N+1$ cashflows $c_i$, $1\\leq i\\leq N+1$ where the last cashflow is the payment of the principal. The cashflows $c_i$ occur at times $t_i$. Then, the value of the bond is given by\n",
    "$$\n",
    "V=\\sum_i df_i\\cdot c_i\n",
    "$$\n",
    "where $df_i$ is the discount factor at timepoint $i$. \n",
    "### JLT\n",
    "The JLT model "
   ]
  },
  {
   "cell_type": "code",
   "execution_count": null,
   "metadata": {},
   "outputs": [],
   "source": [
    "pricing_data_simple = pyvacon.pricing.BondPricingData()\n",
    "pricing_data_simple.param = pyvacon.pricing.BondPricingParameter()\n",
    "pricing_data_simple.param.useJLT = False\n",
    "pricing_data_simple.discountCurve = mkt_testdata.InterestRate.Curves.EONIA(refdate)\n",
    "pricing_data_simple.pricingRequest = pyvacon.pricing.PricingRequest()\n",
    "pricing_data_simple.pricingRequest.setCleanPrice(True)\n",
    "pricing_data_simple.pricer = 'BondPricer'\n",
    "pricing_data_simple.valDate = refdate"
   ]
  },
  {
   "cell_type": "markdown",
   "metadata": {},
   "source": [
    "### Discounted Cashflow"
   ]
  },
  {
   "cell_type": "code",
   "execution_count": null,
   "metadata": {},
   "outputs": [],
   "source": [
    "# pricing_data_simple: pricing data for simple pv calculation using discount curve\n",
    "#mkt_testdata.InterestRate.EUR12M()\n",
    "pricing_data_simple.spec = zero_bond\n",
    "results = pyvacon.pricing.price(pricing_data_simple)\n",
    "print(pricing_data_simple.spec.getObjectId() + ', dirty price: ' + str(results.getPrice()) + \",  clean price: \" + str(results.getCleanPrice()))"
   ]
  },
  {
   "cell_type": "code",
   "execution_count": null,
   "metadata": {},
   "outputs": [],
   "source": [
    "pricing_data_simple.spec = fixed_coupon_bond\n",
    "results = pyvacon.pricing.price(pricing_data_simple)\n",
    "print(pricing_data_simple.spec.getObjectId() + ', dirty price: ' + str(results.getPrice()) + \",  clean price: \" + str(results.getCleanPrice()))"
   ]
  },
  {
   "cell_type": "code",
   "execution_count": null,
   "metadata": {},
   "outputs": [],
   "source": [
    "pricing_data_simple.spec = float_coupon_bond\n",
    "pricing_data_simple.fixingCurve = mkt_testdata.InterestRate.get_curve('EONIA', refdate)\n",
    "pricing_data_simple.pastFixing = 0.1\n",
    "results = pyvacon.pricing.price(pricing_data_simple)\n",
    "print(pricing_data_simple.spec.getObjectId() + ', dirty price: ' + str(results.getPrice()) + \",  clean price: \" + str(results.getCleanPrice()))"
   ]
  },
  {
   "cell_type": "code",
   "execution_count": null,
   "metadata": {},
   "outputs": [],
   "source": [
    "pricing_data_simple.spec = fix_to_float_bond\n",
    "results = pyvacon.pricing.price(pricing_data_simple)\n",
    "print(pricing_data_simple.spec.getObjectId() + ', dirty price: ' + str(results.getPrice()) + \",  clean price: \" + str(results.getCleanPrice()))"
   ]
  },
  {
   "cell_type": "markdown",
   "metadata": {},
   "source": [
    "### Outputs\n",
    "#### Macaulay Duration\n",
    "Macaulay duration, named for Frederick Macaulay who introduced the concept, is the weighted average maturity of cashflows. Consider some set of fixed cashflows. The present value of these cashflows is:\n",
    "\n",
    "$$ V=\\sum _{i=1}^{n}PV_{i}V=\\sum _{i=1}^{n}PV_{i}$$\n",
    "The Macaulay duration is defined as:\n",
    "$$ MacD={\\frac {\\sum _{i=1}^{n}{t_{i}PV_{i}}}{\\sum _{i=1}^{n}{PV_{i}}}}={\\frac {\\sum _{i=1}^{n}{t_{i}PV_{i}}}{V}}=\\sum _{i=1}^{n}t_{i}{\\frac {PV_{i}}{V}}$$\n",
    "where:\n",
    "\n",
    "- $i$ indexes the cashflows,\n",
    "- $PV_{i}$ is the present value of the $i$th cash payment from an asset,\n",
    "- $t_{i}$ is the time in years until the $i$th payment will be received,\n",
    "- $V$ is the present value of all future cash payments from the asset.\n",
    "\n",
    "**NOTE:** To compute the year fraction $t_i$ we use the day counter of the underlying discount curve.\n",
    "\n",
    "**TODO**:Explain Macaulay duration for JLT.\n",
    "#### Modified Duration and Rho\n",
    "In contrast to Macaulay duration, modified duration (sometimes abbreviated MD) is a price sensitivity measure, defined as the percentage derivative of price with respect to yield (the logarithmic derivative of bond price with respect to yield). Modified duration applies when a bond or other asset is considered as a function of yield. In this case one can measure the logarithmic derivative with respect to yield:\n",
    "\n",
    "$$ ModD(y)\\equiv -{\\frac {1}{V}}\\cdot {\\frac {\\partial V}{\\partial y}}=-{\\frac {\\partial \\ln(V)}{\\partial y}}$$\n",
    "\n",
    "When the yield is expressed continuously compounded, Macaulay duration and modified duration are numerically equal. To see this, if we take the derivative of price or present value, expression (2), with respect to the continuously compounded yield $y$ we see that:\n",
    "\n",
    "$$\\frac {\\partial V}{\\partial y}=-\\sum _{i=1}^{n}t_{i}\\cdot CF_{i}\\cdot e^{-y\\cdot t_{i}}=-MacD\\cdot V,$$\n",
    "In other words, for yields expressed continuously compounded,\n",
    "$ModD=MacD$.\n",
    "\n",
    "We apply the above equation with the difference that instead of the flat yield we use the time dependend zero rates $r(t_i)$ from the discount curve used to discount the cashflows:\n",
    "$$\\frac {\\partial V}{\\partial y}=-\\sum _{i=1}^{n}t_{i}\\cdot CF_{i}\\cdot e^{-r(t_i)\\cdot t_{i}}=-MacD\\cdot V,$$.\n",
    "To be consistent with the equity part we store this modified duration as rho in the PricingResults object."
   ]
  },
  {
   "cell_type": "code",
   "execution_count": null,
   "metadata": {},
   "outputs": [],
   "source": [
    "pricing_data_simple.pricingRequest.setMacaulayDuration(True)\n",
    "pricing_data_simple.pricingRequest.setRho(True)\n",
    "pricing_data_simple.spec = fix_to_float_bond\n",
    "results = pyvacon.pricing.price(pricing_data_simple)\n",
    "print(pricing_data_simple.spec.getObjectId() + ', dirty price: ' + str(results.getPrice()) + \",  clean price: \" + str(results.getCleanPrice()), \n",
    "     \",  Macaulay Duration: \" + str(results.getMacaulayDuration()) + \",  Mod Duration/rho: \" + str(results.getRho('EONIA')))"
   ]
  },
  {
   "cell_type": "markdown",
   "metadata": {},
   "source": [
    "#### Convexity\n",
    "Convexity is the second derivative of the price w.r.t. the rates, measuring."
   ]
  },
  {
   "cell_type": "code",
   "execution_count": null,
   "metadata": {},
   "outputs": [],
   "source": [
    "pricing_data_simple.pricingRequest.setConvexity(True)\n",
    "pricing_data_simple.spec = fix_to_float_bond\n",
    "results = pyvacon.pricing.price(pricing_data_simple)\n",
    "print(pricing_data_simple.spec.getObjectId() + ', dirty price: ' + str(results.getPrice()) + \",  clean price: \" + str(results.getCleanPrice())\n",
    "      + \", convexity: \" + str(results.getConvexity()))"
   ]
  },
  {
   "cell_type": "markdown",
   "metadata": {},
   "source": [
    "#### Yield to maturity (YTM)\n",
    "The yield to maturity (YTM), book yield or redemption yield of a bond is the (theoretical) internal rate of return (IRR, overall interest rate) earned by an investor who buys the bond today at the market price, assuming that the bond is held until maturity, and that all coupon and principal payments are made on schedule.\n",
    "\n",
    "The YTM is often given in terms of Annual Percentage Rate (A.P.R.), but more often market convention is followed. In a number of major markets (such as gilts) the convention is to quote annualized yields with semi-annual compounding (see compound interest); thus, for example, an annual effective yield of 10.25% would be quoted as 10.00%, because 1.05 × 1.05 = 1.1025 and 2 × 5 = 10.\n",
    "\n",
    "**Note that the YTM computed by the BondPricer is the continuously compounded rate w.r.t. the day counter of the respective discount curve used for pricing the product.**"
   ]
  },
  {
   "cell_type": "code",
   "execution_count": null,
   "metadata": {},
   "outputs": [],
   "source": [
    "pricing_data_simple.pricingRequest.setYTM(True)\n",
    "pricing_data_simple.spec = fixed_coupon_bond\n",
    "results = pyvacon.pricing.price(pricing_data_simple)\n",
    "print(pricing_data_simple.spec.getObjectId() + ', dirty price: ' + str(results.getPrice()) + \",  clean price: \" + str(results.getCleanPrice()), \n",
    "     \",  ytm: \" + str(results.getYTM()))"
   ]
  },
  {
   "cell_type": "markdown",
   "metadata": {},
   "source": [
    "#### Theta\n",
    "Theta describes the change of value "
   ]
  },
  {
   "cell_type": "code",
   "execution_count": null,
   "metadata": {},
   "outputs": [],
   "source": [
    "pricing_data_simple.pricingRequest.setYTM(False) #switch of ytm calculation\n",
    "pricing_data_simple.pricingRequest.setTheta(True)\n",
    "pricing_data_simple.spec = fix_to_float_bond\n",
    "results = pyvacon.pricing.price(pricing_data_simple)\n",
    "print(pricing_data_simple.spec.getObjectId() + ', dirty price: ' + str(results.getPrice()) + \",  clean price: \" + str(results.getCleanPrice()), \n",
    "     \",  theta: \" + str(results.getTheta()))"
   ]
  },
  {
   "cell_type": "markdown",
   "metadata": {},
   "source": [
    "# Inflation Linked Bonds\n",
    "In the following we see how we may price an inflation linked bond. In contrast to the plain vanilla bonds described in the previous section, all payments of an inflation linked bond are adjusted  in relation to a Consumer Price Index (CPI) value or a Retail Prices Index (RPI) value for a country. \n",
    "Note that such an index is usually computed on a monthly basis from the government of the respective country. Since payments of coupons and notional of the bond are not necessarily on an EOM basis, an interpolation of these indices is necessary, which is determined in the respective bond's term sheet. We will discuss the different interpolation conventions in the next section.\n",
    "\n",
    "## Interpolation of price indices\n",
    "### Linear Interpolation\n",
    "One method often used is simple linear interpolation. Let $I(M_t)$ define the index value of the reference index for month $M_t$ belonging to time point $t$. Linear interpolation\n",
    "for a day $d$ in the month $M_t$ is defined by \n",
    "$$\n",
    "I(t) = I(M_t) +  \\frac{t-1}{D}(I(M_t+1)-I(M_t))\n",
    "$$\n",
    "where $I(M_t+1)$ denotes the index belonging to the following month and $D$ is the number of days in the month $M_t$. This interpolation is most often used for bonds issued from Canada, USA, France, Germany, Italy and Sweden.\n",
    "\n",
    "### Japanese interpolation\n",
    "We call the following formula Japanese interpolation because it is commonly used for Japanese bonds. Here, the interpolation is defined piecewise depending on the day of the month.\n",
    "Let us denote the day of the month of time point $t$ as $d$. We have\n",
    "$$\n",
    "    I(t)=I(M_t) \\mbox{for } d=10,\n",
    "$$\n",
    "\n",
    "\n",
    "$$\n",
    "    I(t)=I(M_t)+ \\frac{t-10}{D}\\left(I(M_t+1)-I(M_t)\\right) \\mbox{for } d > 10,\n",
    "$$\n",
    "where here, **$D$** denotes the number of days between the 11th day of month $M_t$ and the 10th day of the following month,\n",
    "$$\n",
    "I(t)=I(M_t-1)+ \\frac{\\bar D}{D}(I(M_t)-I(M_t-1)) \\mbox{for } d < 10,\n",
    "$$\n",
    "where $\\bar D$ is the number of days from the 11th day of $M_t-1$ month to the 10th day of $M_t$ and $D$ denotes the number of days between the 11th day of month $M_t$ and the 10th day of the following month.\n"
   ]
  },
  {
   "cell_type": "code",
   "execution_count": null,
   "metadata": {
    "code_folding": []
   },
   "outputs": [],
   "source": [
    "# plot inflation curves\n",
    "inflation_curve = mkt_testdata.Inflation.CPI(refdate)\n",
    "dates = [refdate + dt.timedelta(days=i) for i in range(20, 2*30)]\n",
    "\n",
    "german = [inflation_curve.value(refdate, \n",
    "                      dates[i], enums.InflationInterpolation.GERMAN) for i in range(len(dates))]\n",
    "\n",
    "japan = [inflation_curve.value(refdate, \n",
    "                      dates[i], enums.InflationInterpolation.JAPAN) for i in range(len(dates))]\n",
    "const = [inflation_curve.value(refdate, \n",
    "                      dates[i], enums.InflationInterpolation.CONSTANT) for i in range(len(dates))]\n",
    "plt.plot(dates, const, '.', label = 'CONSTANT')\n",
    "plt.plot(dates, german, '.', label = 'GERMAN')\n",
    "plt.plot(dates, japan, '.', label = 'JAPAN')\n",
    "plt.xticks(rotation=70)\n",
    "legend = plt.legend()\n",
    "\n",
    "#import pandas as pd\n",
    "#pd.DataFrame.from_dict({'date': dates_p, 'index': const, 'japan': japan})"
   ]
  },
  {
   "cell_type": "code",
   "execution_count": null,
   "metadata": {},
   "outputs": [],
   "source": [
    "inflation_curve.value(refdate, refdate + dt.timedelta(days = 2*365), enums.InflationInterpolation.GERMAN)"
   ]
  },
  {
   "cell_type": "markdown",
   "metadata": {},
   "source": [
    "## Pricing\n",
    "### Pricing Data\n",
    "\n",
    "As explained in [Overview](../overview.ipynb), we need to setup the respective PricingData object which is *InflationLinkedBondPricingData* for inflation linkers. This object needs the following data\n",
    "- **spec**: An InflationLinkedBondSpecification object\n",
    "- **param**: BondPricingParameter that is mainly used to define the model, i.e. JLT or simple discounted cashflow\n",
    "- **discountCurve**: The discount curve used to discount all cashflows (in case of JLT this is the risk free discount curve, otherwise the risk adjusted discount curve)\n",
    "- **pricingRequest**: The pricing request defining which figures will be computed, e.g. YTM\n",
    "- **inflationFwdCurve**: A InflationIndexForwardCurve containing the estimated forward monthly inflation indices\n",
    "- **inflationFixingReference1**: The fixed inflation value needed to fix the base reference index by interpolation (only needed if base index ref date is before the valuation date)\n",
    "- **inflationFixingReference2**: The second fixed inflation value for the base index (two values are needed due to interpolation)\n",
    "- **inflationFixing1**: Fixed inflation index needed to compute inflation adjustment for the next cashflow\n",
    "- **inflationFixing2**: Fixed inflation index needed to compute inflation adjustment for the next cashflow"
   ]
  },
  {
   "cell_type": "code",
   "execution_count": null,
   "metadata": {},
   "outputs": [],
   "source": [
    "pricing_data_infl = pyvacon.pricing.InflationLinkedBondPricingData()\n",
    "pricing_data_infl.param = pyvacon.pricing.BondPricingParameter()\n",
    "pricing_data_infl.param.useJLT = False\n",
    "pricing_data_infl.discountCurve = mkt_testdata.InterestRate.Curves.EONIA(refdate)\n",
    "pricing_data_infl.pricingRequest = pyvacon.pricing.PricingRequest()\n",
    "pricing_data_infl.pricingRequest.setPricingData(False)\n",
    "pricing_data_infl.pricingRequest.setCleanPrice(True)\n",
    "pricing_data_infl.inflationFwdCurve = inflation_curve\n",
    "pricing_data_infl.inflationFixingReference1 = 100\n",
    "pricing_data_infl.inflationFixingReference2 = 100\n",
    "pricing_data_infl.inflationFixing1 = 10000\n",
    "pricing_data_infl.inflationFixing2 = 10000\n",
    "pricing_data_infl.valDate = refdate"
   ]
  },
  {
   "cell_type": "markdown",
   "metadata": {},
   "source": [
    "### InflationLinkedBondSpecification\n",
    "\n",
    "The InflationLinkedBondSpecification is similar to the BondSpecification. It just adds some inflation related information\n",
    "- **deflation protection**: This flag determines whether coupons and notional payments are also adjusted in case of deflation\n",
    "- **inflation interpolation**: This specifies the interpolation method from the methods described [here](#Interpolation-of-price-indices) to derive the inflation index for a certain day in the month. The values that can be used here are defined in *enums.InflationInterpolation*.\n",
    "- **inflation lag**: Needed to compute the month of the respective inflation index used to determine cashflow adjustment (it defines the number of month  before the cashflow month to derive inflation index month used).\n",
    "- **inflation index**: Defines the inflation index used. This is only needed if automatic setup of pricing data will be used. Otherwise, just the inflation curve defined in the PricingData will be used and this string will be ignored.\n"
   ]
  },
  {
   "cell_type": "code",
   "execution_count": null,
   "metadata": {},
   "outputs": [],
   "source": [
    "coupon = pyvacon.instruments.CouponDescription(refdate + dt.timedelta(days = 365), refdate + dt.timedelta(days = 2*365),\n",
    "                                     refdate + dt.timedelta(days = 2*365), enums.DayCounter.ACT365_FIXED, 0.05)\n",
    "\n",
    "coupons = pyvacon.analytics.vectorCouponDescription()\n",
    "coupons.append(coupon)\n",
    "inflationLag = 0\n",
    "deflationProtection = False\n",
    "pricing_data_infl.spec = pyvacon.instruments.InflationLinkedBondSpecification('TEST_INFL', 'BMW', enums.SecuritizationLevel.SENIOR_SECURED, 'EUR', \n",
    "                                           refdate + dt.timedelta(days = 20), refdate + dt.timedelta(days = 2*365), 100.0, \n",
    "                                            [coupon], inflationLag, enums.InflationInterpolation.GERMAN,\n",
    "                                            'CPI', deflationProtection)"
   ]
  },
  {
   "cell_type": "markdown",
   "metadata": {},
   "source": [
    "### Price Call"
   ]
  },
  {
   "cell_type": "code",
   "execution_count": null,
   "metadata": {},
   "outputs": [],
   "source": [
    "results = pyvacon.pricing.price(pricing_data_infl)\n",
    "print(pricing_data_infl.spec.getObjectId() + ', dirty price: ' + str(results.getPrice()) + \",  clean price: \" + str(results.getCleanPrice()))"
   ]
  },
  {
   "cell_type": "markdown",
   "metadata": {},
   "source": [
    "### Outputs\n",
    "#### Macaulay Duration\n",
    "Macaulay duration, named for Frederick Macaulay who introduced the concept, is the weighted average maturity of cashflows. Consider some set of fixed cashflows. The present value of these cashflows is:\n",
    "\n",
    "$$ V=\\sum _{i=1}^{n}PV_{i}V=\\sum _{i=1}^{n}PV_{i}$$\n",
    "The Macaulay duration is defined as:\n",
    "$$ MacD={\\frac {\\sum _{i=1}^{n}{t_{i}PV_{i}}}{\\sum _{i=1}^{n}{PV_{i}}}}={\\frac {\\sum _{i=1}^{n}{t_{i}PV_{i}}}{V}}=\\sum _{i=1}^{n}t_{i}{\\frac {PV_{i}}{V}}$$\n",
    "where:\n",
    "\n",
    "- $i$ indexes the cashflows,\n",
    "- $PV_{i}$ is the present value of the $i$th cash payment from an asset,\n",
    "- $t_{i}$ is the time in years until the $i$th payment will be received,\n",
    "- $V$ is the present value of all future cash payments from the asset.\n",
    "\n",
    "**NOTE:** To compute the year fraction $t_i$ we use the day counter of the underlying discount curve.\n",
    "\n",
    "**TODO**:Explain Macaulay duration for JLT.\n",
    "#### Modified Duration and Rho\n",
    "In contrast to Macaulay duration, modified duration (sometimes abbreviated MD) is a price sensitivity measure, defined as the percentage derivative of price with respect to yield (the logarithmic derivative of bond price with respect to yield). Modified duration applies when a bond or other asset is considered as a function of yield. In this case one can measure the logarithmic derivative with respect to yield:\n",
    "\n",
    "$$ ModD(y)\\equiv -{\\frac {1}{V}}\\cdot {\\frac {\\partial V}{\\partial y}}=-{\\frac {\\partial \\ln(V)}{\\partial y}}$$\n",
    "\n",
    "When the yield is expressed continuously compounded, Macaulay duration and modified duration are numerically equal. To see this, if we take the derivative of price or present value, expression (2), with respect to the continuously compounded yield $y$ we see that:\n",
    "\n",
    "$$\\frac {\\partial V}{\\partial y}=-\\sum _{i=1}^{n}t_{i}\\cdot CF_{i}\\cdot e^{-y\\cdot t_{i}}=-MacD\\cdot V,$$\n",
    "In other words, for yields expressed continuously compounded,\n",
    "$ModD=MacD$.\n",
    "\n",
    "We apply the above equation with the difference that instead of the flat yield we use the time dependent zero rates $r(t_i)$ from the discount curve used to discount the cashflows:\n",
    "$$\\frac {\\partial V}{\\partial y}=-\\sum _{i=1}^{n}t_{i}\\cdot CF_{i}\\cdot e^{-r(t_i)\\cdot t_{i}}=-MacD\\cdot V,$$.\n",
    "To be consistent with the equity part we store this modified duration as rho in the PricingResults object."
   ]
  },
  {
   "cell_type": "code",
   "execution_count": null,
   "metadata": {},
   "outputs": [],
   "source": [
    "pricing_data_infl.pricingRequest.setMacaulayDuration(True)\n",
    "pricing_data_infl.pricingRequest.setRho(True)\n",
    "results = pyvacon.pricing.price(pricing_data_infl)\n",
    "print(pricing_data_infl.spec.getObjectId() + ', dirty price: ' + str(results.getPrice()) + \",  clean price: \" + str(results.getCleanPrice()), \n",
    "     \",  Macaulay Duration: \" + str(results.getMacaulayDuration()) + \",  Mod Duration/rho: \" + str(results.getRho('EONIA')))"
   ]
  },
  {
   "cell_type": "markdown",
   "metadata": {},
   "source": [
    "#### Convexity\n",
    "Convexity is the second derivative of the price w.r.t. the rates, measuring."
   ]
  },
  {
   "cell_type": "code",
   "execution_count": null,
   "metadata": {},
   "outputs": [],
   "source": [
    "pricing_data_infl.pricingRequest.setConvexity(True)\n",
    "results = pyvacon.pricing.price(pricing_data_infl)\n",
    "print(pricing_data_infl.spec.getObjectId() + ', dirty price: ' + str(results.getPrice()) + \",  clean price: \" + str(results.getCleanPrice())\n",
    "      + \", convexity: \" + str(results.getConvexity()))"
   ]
  },
  {
   "cell_type": "markdown",
   "metadata": {},
   "source": [
    "#### Yield to maturity (YTM)\n",
    "The yield to maturity (YTM), book yield or redemption yield of a bond is the (theoretical) internal rate of return (IRR, overall interest rate) earned by an investor who buys the bond today at the market price, assuming that the bond is held until maturity, and that all coupon and principal payments are made on schedule.\n",
    "\n",
    "The YTM is often given in terms of Annual Percentage Rate (A.P.R.), but more often market convention is followed. In a number of major markets (such as gilts) the convention is to quote annualized yields with semi-annual compounding (see compound interest); thus, for example, an annual effective yield of 10.25% would be quoted as 10.00%, because 1.05 × 1.05 = 1.1025 and 2 × 5 = 10.\n",
    "\n",
    "**Note that the YTM computed by the BondPricer is the continuously compounded rate w.r.t. the day counter of the respective discount curve used for pricing the product.**"
   ]
  },
  {
   "cell_type": "code",
   "execution_count": null,
   "metadata": {},
   "outputs": [],
   "source": [
    "pricing_data_infl.pricingRequest.setYTM(True)\n",
    "results = pyvacon.pricing.price(pricing_data_infl)\n",
    "print(pricing_data_infl.spec.getObjectId() + ', dirty price: ' + str(results.getPrice()) + \",  clean price: \" + str(results.getCleanPrice()), \n",
    "     \",  ytm: \" + str(results.getYTM()))"
   ]
  },
  {
   "cell_type": "markdown",
   "metadata": {},
   "source": [
    "#### Theta\n",
    "Theta describes the change of value "
   ]
  },
  {
   "cell_type": "code",
   "execution_count": null,
   "metadata": {},
   "outputs": [],
   "source": [
    "pricing_data_infl.pricingRequest.setYTM(False) #switch of ytm calculation\n",
    "pricing_data_infl.pricingRequest.setTheta(True)\n",
    "results = pyvacon.pricing.price(pricing_data_infl)\n",
    "print(pricing_data_infl.spec.getObjectId() + ', dirty price: ' + str(results.getPrice()) + \",  clean price: \" + str(results.getCleanPrice()), \n",
    "     \",  theta: \" + str(results.getTheta()))"
   ]
  },
  {
   "cell_type": "markdown",
   "metadata": {},
   "source": [
    "# Callable Bonds\n",
    "This section shows some examples pricing callable bonds using the CallableBondPdePricer. This pricer values a bond using a short rate model to model the interest rate (either the risk free or the interest rate modeling the underlying floating rate).\n",
    "The specification used within the pricer is the CallableBondSpecification which allows for:\n",
    "- Coupons payments at specified payment dates (for each coupon date a specific coupon size can be set)\n",
    "- The coupons may be either fixed or float. The floating coupons are computed using reference floating coupon periods (the period is used to determine the floating rate). Each floating coupon can also have an individual spread added to the coupon.\n",
    "- The bond may be called by the issuer at certain specified call dates at pre-specified call prices (note that currently no accrued interest is added to the call price)"
   ]
  },
  {
   "cell_type": "markdown",
   "metadata": {},
   "source": [
    "### Create the necessary market data and setup pricing data\n",
    "For simplicity we just create one artificial discount curve using the analyticsTestData module and use this curve as fixing and discount curve."
   ]
  },
  {
   "cell_type": "code",
   "execution_count": null,
   "metadata": {},
   "outputs": [],
   "source": [
    "pricing_data = pyvacon.pricing.CallableBondPdePricingData()\n",
    "pricing_data.pricer = \"CallableBondPdePricer\"\n",
    "pricing_data.pricingRequest = pyvacon.pricing.PricingRequest()\n",
    "pricing_data.recovery = mkt_testdata.Credit.create_recovery(refdate, enums.SecuritizationLevel.SUBORDINATED, \n",
    "                                                               'RECOVERY_TEST')\n",
    "pricing_data.riskfreeCurve = mkt_testdata.InterestRate.Curves.EONIA(refdate) # get artificial test curve from th test market data module\n",
    "\n",
    "#downgrade_prob = 0\n",
    "#upgrade_prob = 0.0\n",
    "#pricing_data.transition = analyticsTestData.mkt.Credit.create_transition_matrix(refdate, 'TR_TEST', downgrade_prob,upgrade_prob)\n",
    "\n",
    "pricing_data.transition = mkt_testdata.Credit.transtion_matrix(refdate,'Moodys95')\n",
    "\n",
    "pricing_data.issuerRating = pyvacon.marketdata.Rating('TEST', refdate, 'A')\n",
    "\n",
    "surv_date = [refdate + dt.timedelta(days=30*i) for i in range(10*12)]\n",
    "pricing_data.sc = pricing_data.transition.computeSurvivalCurve(refdate, pricing_data.issuerRating, 'SC_TEST')\n",
    "\n",
    "#analyticsTestData.mkt.Credit.create_survival_curve(refdate, 0.05, 'SC_TEST')\n",
    "pricing_data.model = pyvacon.models.CIRModel('CIR_TEST',refdate, 1.0,0.01,0.1,0.001)\n",
    "pricing_data.valDate = refdate\n",
    "pricing_data.param = pyvacon.pricing.CallableBondPdePricingParameter()\n",
    "pricing_data.param.model = 'CIR'\n",
    "pricing_data.param.nSpotSteps = pricing_data.param.nSpotSteps \n",
    "pricing_data.param.nTimeStepsPerYear = pricing_data.param.nTimeStepsPerYear"
   ]
  },
  {
   "cell_type": "markdown",
   "metadata": {},
   "source": [
    "### Setup specifications"
   ]
  },
  {
   "cell_type": "code",
   "execution_count": null,
   "metadata": {},
   "outputs": [],
   "source": [
    "specifications = {} #dictionary containing the following different specifications\n",
    "\n",
    "# floating periods\n",
    "    \n",
    "floating_periods = [refdate + dt.timedelta(days=i*365) for i  in range(11)]\n",
    "floating_spreads = [0.01, 0.01, 0.01, 0.01, 0.01, 0.01, 0.01, 0.01, 0.01]\n",
    "floating_rate_caps = [0.015, 0.015, 0.015, 0.015, 0.015, 0.015,0.015, 0.015, 0.015]\n",
    "floating_rate_floors = [0.01, 0.01, 0.01, 0.01, 0.01, 0.01, 0.01, 0.01, 0.01]\n",
    "\n",
    "\n",
    "# call dates\n",
    "call_dates = [refdate + dt.timedelta(days=2+365 + i*365) for i in range(10)]\n",
    "call_prices = [1.01, 1.01, 1.01, 1.01, 1.01, 1.01, 1.01, 1.01, 1.01, 1.01]\n",
    "    \n",
    "# fixed coupons\n",
    "fixed_coupon_dates = floating_periods[1:len(floating_periods)-1]\n",
    "fixed_coupons = [0.02] * len(fixed_coupon_dates)\n",
    "    \n",
    "expiry = floating_periods[-1]\n",
    "issue_date = refdate + dt.timedelta(days=2-365)"
   ]
  },
  {
   "cell_type": "markdown",
   "metadata": {},
   "source": [
    "#### Fixed non-callable bond\n",
    "10 yrs to maturity, yearly fixed coupons, non-callable"
   ]
  },
  {
   "cell_type": "code",
   "execution_count": null,
   "metadata": {},
   "outputs": [],
   "source": [
    "floating_periods = []\n",
    "floating_spreads = []\n",
    "call_dates = []\n",
    "call_prices = []\n",
    "floating_rate_caps = []\n",
    "floating_rate_floors = []\n",
    "specifications['NONCALL_FIXED'] = pyvacon.instruments.CallableBondSpecification('NONCALL_FIXED', 'TEST_ISSUER', enums.SecuritizationLevel.SENIOR_UNSECURED, 'EUR',\n",
    "                                             expiry, issue_date, 1.0, enums.DayCounter.ACT365_FIXED, fixed_coupon_dates,\n",
    "                                             fixed_coupons, 'UDL_TEST', floating_periods, call_dates, \n",
    "                                              call_prices, floating_spreads, floating_rate_caps, floating_rate_floors)"
   ]
  },
  {
   "cell_type": "markdown",
   "metadata": {},
   "source": [
    "#### Fixed callable bond\n",
    "10 yrs to maturity, yearly fixed coupons, callable"
   ]
  },
  {
   "cell_type": "code",
   "execution_count": null,
   "metadata": {},
   "outputs": [],
   "source": [
    "\n",
    "floating_periods = []\n",
    "floating_spreads = []\n",
    "call_dates = [refdate + dt.timedelta(days=2+365 + i*365) for i in range(10)]\n",
    "call_prices = [1.01, 1.01, 1.01, 1.01, 1.01, 1.01, 1.01, 1.01, 1.01, 1.01]\n",
    "floating_rate_caps = []\n",
    "floating_rate_floors = []\n",
    "\n",
    "specifications['CALL_FIXED'] = pyvacon.instruments.CallableBondSpecification('CALL_FIXED', 'TEST_ISSUER', enums.SecuritizationLevel.SENIOR_UNSECURED, 'EUR',\n",
    "                                             expiry, issue_date, 1.0, enums.DayCounter.ACT365_FIXED, fixed_coupon_dates,\n",
    "                                             fixed_coupons, 'UDL_TEST', floating_periods, call_dates, \n",
    "                                              call_prices, floating_spreads, floating_rate_caps, floating_rate_floors)"
   ]
  },
  {
   "cell_type": "markdown",
   "metadata": {},
   "source": [
    "#### Floating non-callable bond\n",
    "10 yrs to maturity, non-callable, yearly floating coupons"
   ]
  },
  {
   "cell_type": "code",
   "execution_count": null,
   "metadata": {},
   "outputs": [],
   "source": [
    "issue_date = refdate + dt.timedelta(days=2-365)\n",
    "\n",
    "fixed_coupon_dates = []\n",
    "fixed_coupon_values = []\n",
    "\n",
    "floating_periods = [refdate + dt.timedelta(days=i*365) for i  in range(11)]\n",
    "floating_spreads = [0.01, 0.01, 0.01, 0.01, 0.01, 0.01, 0.01, 0.01, 0.01]\n",
    "floating_rate_caps = []\n",
    "floating_rate_floors = []\n",
    "\n",
    "\n",
    "call_dates = []\n",
    "call_prices = []\n",
    "floating_rate_caps = []\n",
    "floating_rate_floors = []\n",
    "\n",
    "specifications['NONCALL_FLOAT'] = pyvacon.instruments.CallableBondSpecification('NONCALL_FLOAT', 'TEST_ISSUER', enums.SecuritizationLevel.SENIOR_UNSECURED, 'EUR',\n",
    "                                             expiry, issue_date, 1.0, enums.DayCounter.ACT365_FIXED, fixed_coupon_dates,\n",
    "                                             fixed_coupons, 'UDL_TEST', floating_periods, call_dates, \n",
    "                                              call_prices, floating_spreads, floating_rate_caps, floating_rate_floors)"
   ]
  },
  {
   "cell_type": "markdown",
   "metadata": {},
   "source": [
    "#### Floating callable bond\n",
    "10 yrs to maturity, yearly floating coupons with call rights at fixing dates"
   ]
  },
  {
   "cell_type": "code",
   "execution_count": null,
   "metadata": {},
   "outputs": [],
   "source": [
    "fixed_coupon_dates = []\n",
    "fixed_coupon_values = []\n",
    "\n",
    "\n",
    "floating_periods = [refdate + dt.timedelta(days=i*365) for i  in range(11)]\n",
    "floating_spreads = [0.01, 0.01, 0.01, 0.01, 0.01, 0.01, 0.01, 0.01, 0.01]\n",
    "\n",
    "call_dates = [refdate + dt.timedelta(days=2+365 + i*365) for i in range(10)]\n",
    "call_prices = [1.01, 1.01, 1.01, 1.01, 1.01, 1.01, 1.01, 1.01, 1.01, 1.01]\n",
    "\n",
    "floating_rate_caps = []\n",
    "floating_rate_floors = []\n",
    "specifications['CALL_FLOAT'] = pyvacon.instruments.CallableBondSpecification('CALL_FLOAT', 'TEST_ISSUER', enums.SecuritizationLevel.SENIOR_UNSECURED, 'EUR',\n",
    "                                             expiry, issue_date, 1.0, enums.DayCounter.ACT365_FIXED, fixed_coupon_dates,\n",
    "                                             fixed_coupons, 'UDL_TEST', floating_periods, call_dates, \n",
    "                                              call_prices, floating_spreads, floating_rate_caps, floating_rate_floors)\n",
    "\n",
    "for spread in [0.0, 0.0025, 0.005, 0.0075, 0.01, 0.015, 0.0125]:\n",
    "    tmp = floating_spreads = [spread]*len(floating_spreads)\n",
    "    specifications['CALL_FLOAT_' + str(spread)] = pyvacon.instruments.CallableBondSpecification('CALL_FLOAT', 'TEST_ISSUER', enums.SecuritizationLevel.SENIOR_UNSECURED, 'EUR',\n",
    "                                             expiry, issue_date, 1.0, enums.DayCounter.ACT365_FIXED, fixed_coupon_dates,\n",
    "                                             fixed_coupons, 'UDL_TEST', floating_periods, call_dates, \n",
    "                                              call_prices, floating_spreads, floating_rate_caps, floating_rate_floors)\n"
   ]
  },
  {
   "cell_type": "markdown",
   "metadata": {},
   "source": [
    "#### Floating non-callable bond with caps\n",
    "10 yrs to maturity, non-callable, yearly floating coupons capped at 1.5%"
   ]
  },
  {
   "cell_type": "code",
   "execution_count": null,
   "metadata": {},
   "outputs": [],
   "source": [
    "issue_date = refdate + dt.timedelta(days=2-365)\n",
    "\n",
    "fixed_coupon_dates = []\n",
    "fixed_coupon_values = []\n",
    "floating_periods = [refdate + dt.timedelta(days=i*365) for i  in range(11)]\n",
    "floating_spreads = [0.01, 0.01, 0.01, 0.01, 0.01, 0.01, 0.01, 0.01, 0.01]\n",
    "\n",
    "call_dates = []\n",
    "call_prices = []\n",
    "floating_rate_caps = [0.015, 0.015, 0.015, 0.015, 0.015, 0.015,0.015, 0.015, 0.015]\n",
    "floating_rate_floors = []\n",
    "\n",
    "specifications['NONCALL_CAP_FLOAT'] = pyvacon.instruments.CallableBondSpecification('NONCALL_CAP_FLOAT', 'TEST_ISSUER', enums.SecuritizationLevel.SENIOR_UNSECURED, 'EUR',\n",
    "                                             expiry, issue_date, 1.0, enums.DayCounter.ACT365_FIXED, fixed_coupon_dates,\n",
    "                                             fixed_coupons, 'UDL_TEST', floating_periods, call_dates, \n",
    "                                              call_prices, floating_spreads, floating_rate_caps, floating_rate_floors)"
   ]
  },
  {
   "cell_type": "markdown",
   "metadata": {},
   "source": [
    "#### Floating callable bond with caps\n",
    "10 yrs to maturity, non-callable, yearly floating coupons capped at 1.5%"
   ]
  },
  {
   "cell_type": "code",
   "execution_count": null,
   "metadata": {},
   "outputs": [],
   "source": [
    "issue_date = refdate + dt.timedelta(days=2-365)\n",
    "\n",
    "fixed_coupon_dates = []\n",
    "fixed_coupon_values = []\n",
    "\n",
    "floating_periods = [refdate + dt.timedelta(days=i*365) for i  in range(11)]\n",
    "floating_spreads = [0.01, 0.01, 0.01, 0.01, 0.01, 0.01, 0.01, 0.01, 0.01]\n",
    "\n",
    "call_dates = [refdate + dt.timedelta(days=2+365 + i*365) for i in range(10)]\n",
    "call_prices = [1.01, 1.01, 1.01, 1.01, 1.01, 1.01, 1.01, 1.01, 1.01, 1.01]\n",
    "floating_rate_caps = [0.015, 0.015, 0.015, 0.015, 0.015, 0.015,0.015, 0.015, 0.015]\n",
    "floating_rate_floors = []\n",
    "\n",
    "specifications['CALL_CAP_FLOAT'] = pyvacon.instruments.CallableBondSpecification('CALL_CAP_FLOAT', 'TEST_ISSUER', enums.SecuritizationLevel.SENIOR_UNSECURED, 'EUR',\n",
    "                                             expiry, issue_date, 1.0, enums.DayCounter.ACT365_FIXED, fixed_coupon_dates,\n",
    "                                             fixed_coupons, 'UDL_TEST', floating_periods, call_dates, \n",
    "                                              call_prices, floating_spreads, floating_rate_caps, floating_rate_floors)\n"
   ]
  },
  {
   "cell_type": "markdown",
   "metadata": {},
   "source": [
    "### Pricing"
   ]
  },
  {
   "cell_type": "code",
   "execution_count": null,
   "metadata": {},
   "outputs": [],
   "source": [
    "pricing_data.param.includeTransition = False\n",
    "for key, spec in specifications.items():\n",
    "    pricing_data.spec = spec\n",
    "    #pricing_data.save( spec.getObjectId() +'_pricingdata.json', pricing_data)\n",
    "    tic = dt.datetime.now()\n",
    "    pr = pyvacon.pricing.price(pricing_data)\n",
    "    print(key + ' price: ' + str(pr.getPrice()) + ' runtime: {}'.format(dt.datetime.now() - tic))"
   ]
  },
  {
   "cell_type": "code",
   "execution_count": null,
   "metadata": {},
   "outputs": [],
   "source": [
    "pricing_data.param.includeTransition = True\n",
    "for key, spec in specifications.items():\n",
    "    pricing_data.spec = spec\n",
    "    # pricing_data.save( spec.getObjectId() +'_pricingdata.json', pricing_data)\n",
    "    tic = dt.datetime.now()\n",
    "    pr = pyvacon.pricing.price(pricing_data)\n",
    "    print(key + ' price: ' + str(pr.getPrice()) + ' runtime: {}'.format(dt.datetime.now() - tic))"
   ]
  },
  {
   "cell_type": "markdown",
   "metadata": {},
   "source": [
    "### Plot market data"
   ]
  },
  {
   "cell_type": "markdown",
   "metadata": {},
   "source": [
    "#### The transition matrix"
   ]
  },
  {
   "cell_type": "code",
   "execution_count": null,
   "metadata": {},
   "outputs": [],
   "source": [
    "mkt_plot.transition_matrix_heatmap(pricing_data.transition, 3.0)\n",
    "mkt_plot.plt.figure()\n",
    "mkt_plot.transition_matrix_pd(pricing_data.transition, ['AAA', 'AA', 'A'])"
   ]
  },
  {
   "cell_type": "markdown",
   "metadata": {},
   "source": [
    "#### The market risk free curve and the risk free curve induced by the model"
   ]
  },
  {
   "cell_type": "code",
   "execution_count": null,
   "metadata": {},
   "outputs": [],
   "source": [
    "dates =  [refdate+ dt.timedelta(days=1), refdate + dt.timedelta(days=30), refdate + dt.timedelta(days=60), refdate + dt.timedelta(days=180),\n",
    "          refdate + dt.timedelta(days=365), refdate + dt.timedelta(days=2*365), refdate + dt.timedelta(days=3*365), \n",
    "          refdate + dt.timedelta(days=5*365), refdate + dt.timedelta(days=10*365)]\n",
    "cir_dc = model_tools.compute_yieldcurve(pricing_data.model, refdate,dates)\n",
    "mkt_plot.curve(cir_dc, dates, refdate, True)\n",
    "mkt_plot.curve(pricing_data.riskfreeCurve, dates, refdate, True)"
   ]
  },
  {
   "cell_type": "markdown",
   "metadata": {},
   "source": [
    "#### Recovery (time dependent)"
   ]
  },
  {
   "cell_type": "code",
   "execution_count": null,
   "metadata": {},
   "outputs": [],
   "source": [
    "mkt_plot.curve(pricing_data.recovery, dates, refdate)"
   ]
  },
  {
   "cell_type": "markdown",
   "metadata": {},
   "source": [
    "### Projections"
   ]
  },
  {
   "cell_type": "code",
   "execution_count": null,
   "metadata": {},
   "outputs": [],
   "source": [
    "cir_rate = [0.0025] #, 0.005, 0.0075, 0.01, 0.015, 0.02, 0.015, 0.02, 0.025, 0.03, 0.035, 0.04, 0.045]\n",
    "projection = {}\n",
    "#help(analytics.CIRModel)\n",
    "for key in specifications.keys():\n",
    "    projection[key] = []\n",
    "for rate in cir_rate:\n",
    "    pricing_data.model = pyvacon.models.CIRModel('CIR_TEST',refdate, 1.0,0.01,0.1,rate)\n",
    "    for key, value in specifications.items():\n",
    "        pricing_data.spec = value\n",
    "        pr = pyvacon.pricing.price(pricing_data)\n",
    "        projection[key].append(pr.getPrice())\n",
    "plt.figure()\n",
    "for key, value in projection.items():\n",
    "    plt.plot(cir_rate, value, '-x', label=key)\n",
    "#plt.legend()"
   ]
  },
  {
   "cell_type": "code",
   "execution_count": null,
   "metadata": {},
   "outputs": [],
   "source": [
    "cir_vol = [0.1] #, 0.15, 0.2, 0.25, 0.3, 0.35, 0.4, 0.45, 0.5, 0.55]\n",
    "projection = {}\n",
    "#help(analytics.CIRModel)\n",
    "for key in specifications.keys():\n",
    "    projection[key] = []\n",
    "for vol in cir_vol:\n",
    "    pricing_data.model = pyvacon.analytics.CIRModel('CIR_TEST',refdate, 1.0,0.01,vol,0.02)\n",
    "    for key, value in specifications.items():\n",
    "        pricing_data.spec = value\n",
    "        pr = pyvacon.analytics.price(pricing_data)\n",
    "        projection[key].append(pr.getPrice())\n",
    "plt.figure()\n",
    "for key, value in projection.items():\n",
    "    plt.plot(cir_vol, value, '-x', label=key)\n",
    "#plt.legend()"
   ]
  },
  {
   "cell_type": "markdown",
   "metadata": {},
   "source": [
    "# TODOS\n",
    "- getPdeCoefficients für HullWhiteModel implementieren\n",
    "- getPdeBoundaryConditions für HullWhiteModel implementieren\n",
    "- Hull-White erweitern auf zeitabhaengiges sigma und a\n",
    "- Hull-White Kalibrierung an Swaptions (Thomas Streuer fragen, ob das erledigt ist)\n"
   ]
  },
  {
   "cell_type": "code",
   "execution_count": null,
   "metadata": {},
   "outputs": [],
   "source": []
  }
 ],
 "metadata": {
  "kernelspec": {
   "display_name": "Python 3",
   "language": "python",
   "name": "python3"
  },
  "language_info": {
   "codemirror_mode": {
    "name": "ipython",
    "version": 3
   },
   "file_extension": ".py",
   "mimetype": "text/x-python",
   "name": "python",
   "nbconvert_exporter": "python",
   "pygments_lexer": "ipython3",
   "version": "3.6.1"
  },
  "toc": {
   "base_numbering": 1,
   "colors": {
    "hover_highlight": "#DAA520",
    "navigate_num": "#000000",
    "navigate_text": "#333333",
    "running_highlight": "#FF0000",
    "selected_highlight": "#FFD700",
    "sidebar_border": "#EEEEEE",
    "wrapper_background": "#FFFFFF"
   },
   "moveMenuLeft": true,
   "nav_menu": {},
   "navigate_menu": true,
   "number_sections": false,
   "sideBar": true,
   "skip_h1_title": false,
   "threshold": 4,
   "title_cell": "Table of Contents",
   "title_sidebar": "Contents",
   "toc_cell": false,
   "toc_position": {
    "height": "967.552px",
    "left": "0px",
    "right": "1824.51px",
    "top": "65.7292px",
    "width": "421.563px"
   },
   "toc_section_display": true,
   "toc_window_display": true,
   "widenNotebook": false
  },
  "varInspector": {
   "cols": {
    "lenName": 16,
    "lenType": 16,
    "lenVar": 40
   },
   "kernels_config": {
    "python": {
     "delete_cmd_postfix": "",
     "delete_cmd_prefix": "del ",
     "library": "var_list.py",
     "varRefreshCmd": "print(var_dic_list())"
    },
    "r": {
     "delete_cmd_postfix": ") ",
     "delete_cmd_prefix": "rm(",
     "library": "var_list.r",
     "varRefreshCmd": "cat(var_dic_list()) "
    }
   },
   "types_to_exclude": [
    "module",
    "function",
    "builtin_function_or_method",
    "instance",
    "_Feature"
   ],
   "window_display": false
  }
 },
 "nbformat": 4,
 "nbformat_minor": 2
}
