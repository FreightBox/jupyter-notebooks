{
 "cells": [
  {
   "cell_type": "markdown",
   "metadata": {
    "slideshow": {
     "slide_type": "slide"
    }
   },
   "source": [
    "<img src=\"../images/RC_Logo_EN_0128px.png\">\n",
    "# Bewertung eines Multi-Memory-Express\n",
    "** ------   **\n",
    "**14.8.2017**\n",
    "Christian Menn, Daniel Oeltz\n"
   ]
  },
  {
   "cell_type": "code",
   "execution_count": null,
   "metadata": {
    "slideshow": {
     "slide_type": "skip"
    },
    "solution": "shown"
   },
   "outputs": [],
   "source": [
    "import pyvacon.analytics as analytics\n",
    "import datetime as dt\n",
    "import numpy as np\n",
    "import matplotlib.pyplot as plt\n",
    "import pylab as pl\n",
    "import math\n",
    "import copy\n",
    "import pyvacon.tools.converter as converter\n",
    "import pyvacon.tools.enums as enums\n",
    "import pyvacon.marketdata.plot as mkt_plot #import module for plotting functionality\n",
    "import pyvacon.marketdata.converter as mkt_converter\n",
    "import pyvacon.instruments.converter as ins_converter\n",
    "import pyvacon.pricing.tools as pricing_tools\n",
    "import pyvacon.models.converter as model_converter\n",
    "import qgrid\n",
    "import ipywidgets as widgets\n",
    "from IPython.display import Markdown, display\n",
    "import pandas as pd\n",
    "#the next lin is a jupyter internal command to show the matplotlib graphs within the notebook\n",
    "%matplotlib inline\n",
    "#%matplotlib notebook\n",
    "\n",
    "refdate = analytics.ptime(2017,1,1,0,0,0) #dates which enters analytics objects must be analytics ptimes. "
   ]
  },
  {
   "cell_type": "markdown",
   "metadata": {
    "slideshow": {
     "slide_type": "slide"
    }
   },
   "source": [
    "## Übersicht\n",
    "- Aufsetzen der Marktdaten\n",
    "- Anlegen der Instrumentspezifikation\n",
    "- Setzen der PricingData\n",
    "- Bewertung (Local Volatility)\n",
    "    - Berechnung des Preises\n",
    "    - Exposure\n",
    "    - Projektion bzgl. Korrelationen TODO\n",
    "- Bewertung (Stochastic Volatility)\n",
    "    - Berechnung des Preises"
   ]
  },
  {
   "cell_type": "markdown",
   "metadata": {
    "slideshow": {
     "slide_type": "slide"
    }
   },
   "source": [
    "# Marktdaten\n",
    "Die Marktdaten setzen sich zusammen aus\n",
    "- Underlyingdaten\n",
    "    - Spot\n",
    "    - Borrow\n",
    "    - Dividende\n",
    "    - Volfläche\n",
    "- Zinskurven\n",
    "- Korrelationen"
   ]
  },
  {
   "cell_type": "markdown",
   "metadata": {
    "slideshow": {
     "slide_type": "slide"
    }
   },
   "source": [
    "### Underlyingdaten"
   ]
  },
  {
   "cell_type": "code",
   "execution_count": null,
   "metadata": {
    "code_folding": [
     1,
     3,
     4,
     12,
     16,
     26,
     50,
     74,
     98,
     122,
     146,
     170
    ],
    "slideshow": {
     "slide_type": "-"
    }
   },
   "outputs": [],
   "source": [
    "underlying={\n",
    "    'ADS':{\n",
    "            'SPOT': 100,\n",
    "            'DIVIDENDS': \n",
    "                  pd.DataFrame({ \n",
    "                      'EXDATES': [dt.datetime(2018,1,1), dt.datetime(2019,1,1), dt.datetime(2020,1,1), dt.datetime(2021,1,1)],\n",
    "                      'PAYDATES': [dt.datetime(2018,1,1), dt.datetime(2019,1,1), dt.datetime(2020,1,1), dt.datetime(2021,1,1)],\n",
    "                      'CASH': [5.0, 5.0, 3.0, 2.0],\n",
    "                      'YIELD': [0.0, 0.0, 0.02, 0.03],\n",
    "                      'TAX': [0.8, 0.8, 0.8, 0.8]\n",
    "                  }),\n",
    "            'BORROW':\n",
    "              {\n",
    "                'DATES' : [dt.datetime(2018,1,1), dt.datetime(2020,1,1)],\n",
    "                'RATES' : [0.01, 0.01]\n",
    "              },\n",
    "            'VOLATILITY':{\n",
    "                  'TYPE': 'SSVI',\n",
    "                  'EXPIRIES': [10, 100, 365, 730], \n",
    "                  'ATMVOLS': [0.2, 0.25, 0.28, 0.3], \n",
    "                  'RHO':-0.65, \n",
    "                  'ETA':0.8, \n",
    "                  'GAMMA': 0.5\n",
    "                  }\n",
    "              },\n",
    "            \n",
    "    'DAN':{\n",
    "            'SPOT': 100,\n",
    "            'DIVIDENDS': \n",
    "              pd.DataFrame({ \n",
    "                  'EXDATES': [dt.datetime(2017,2,1), dt.datetime(2018,2,1), dt.datetime(2019,2,1), dt.datetime(2020,2,1)],\n",
    "                  'PAYDATES': [dt.datetime(2017,2,1), dt.datetime(2018,2,1), dt.datetime(2019,2,1), dt.datetime(2020,2,1)],\n",
    "                  'CASH': [5.0, 5.0, 3.0, 2.0],\n",
    "                  'YIELD': [0.0, 0.0, 0.0, 0.0],\n",
    "                  'TAX': [0.8, 0.8, 0.8, 0.8]\n",
    "              }),\n",
    "              'BORROW':\n",
    "              {\n",
    "                'DATES' : [dt.datetime(2018,1,1), dt.datetime(2020,1,1)],\n",
    "                'RATES' : [0.01, 0.01]\n",
    "              },\n",
    "              'VOLATILITY':{\n",
    "                  'TYPE': 'SSVI',\n",
    "                  'EXPIRIES': [10, 100, 365, 730], \n",
    "                  'ATMVOLS': [0.2, 0.25, 0.28, 0.3], \n",
    "                  'RHO':-0.65, \n",
    "                  'ETA':0.8, \n",
    "                  'GAMMA': 0.5\n",
    "                  }\n",
    "        },\n",
    "    'DBK':{\n",
    "            'SPOT': 100,\n",
    "            'DIVIDENDS': \n",
    "              pd.DataFrame({ \n",
    "                  'EXDATES': [dt.datetime(2018,1,1), dt.datetime(2019,1,1), dt.datetime(2020,1,1), dt.datetime(2021,1,1)],\n",
    "                  'PAYDATES': [dt.datetime(2018,1,1), dt.datetime(2019,1,1), dt.datetime(2020,1,1), dt.datetime(2021,1,1)],\n",
    "                  'CASH': [5.0, 5.0, 3.0, 2.0],\n",
    "                  'YIELD': [0.0, 0.0, 0.02, 0.03],\n",
    "                  'TAX': [0.8, 0.8, 0.8, 0.8]\n",
    "              }),\n",
    "              'BORROW':\n",
    "              {\n",
    "                'DATES' : [dt.datetime(2018,1,1), dt.datetime(2020,1,1)],\n",
    "                'RATES' : [0.01, 0.01]\n",
    "              },\n",
    "              'VOLATILITY':{\n",
    "                  'TYPE': 'SSVI',\n",
    "                  'EXPIRIES': [10, 100, 365, 730], \n",
    "                  'ATMVOLS': [0.2, 0.25, 0.28, 0.3], \n",
    "                  'RHO':-0.65, \n",
    "                  'ETA':0.8, \n",
    "                  'GAMMA': 0.5\n",
    "                  }\n",
    "              },\n",
    "    'EON':{\n",
    "            'SPOT': 100,\n",
    "            'DIVIDENDS': \n",
    "              pd.DataFrame({ \n",
    "                  'EXDATES': [dt.datetime(2018,1,1), dt.datetime(2019,1,1), dt.datetime(2020,1,1), dt.datetime(2021,1,1)],\n",
    "                  'PAYDATES': [dt.datetime(2018,1,1), dt.datetime(2019,1,1), dt.datetime(2020,1,1), dt.datetime(2021,1,1)],\n",
    "                  'CASH': [5.0, 5.0, 3.0, 2.0],\n",
    "                  'YIELD': [0.0, 0.0, 0.02, 0.03],\n",
    "                  'TAX': [0.8, 0.8, 0.8, 0.8]\n",
    "              }),\n",
    "              'BORROW':\n",
    "              {\n",
    "                'DATES' : [dt.datetime(2018,1,1), dt.datetime(2020,1,1)],\n",
    "                'RATES' : [0.01, 0.01]\n",
    "              },\n",
    "              'VOLATILITY':{\n",
    "                  'TYPE': 'SSVI',\n",
    "                  'EXPIRIES': [10, 100, 365, 730], \n",
    "                  'ATMVOLS': [0.2, 0.25, 0.28, 0.3], \n",
    "                  'RHO':-0.65, \n",
    "                  'ETA':0.8, \n",
    "                  'GAMMA': 0.5\n",
    "                  }\n",
    "              },\n",
    "    'KS': {\n",
    "            'SPOT': 100,\n",
    "            'DIVIDENDS': \n",
    "              pd.DataFrame({ \n",
    "                  'EXDATES': [dt.datetime(2018,1,1), dt.datetime(2019,1,1), dt.datetime(2020,1,1), dt.datetime(2021,1,1)],\n",
    "                  'PAYDATES': [dt.datetime(2018,1,1), dt.datetime(2019,1,1), dt.datetime(2020,1,1), dt.datetime(2021,1,1)],\n",
    "                  'CASH': [5.0, 5.0, 3.0, 2.0],\n",
    "                  'YIELD': [0.0, 0.0, 0.02, 0.03],\n",
    "                  'TAX': [0.8, 0.8, 0.8, 0.8]\n",
    "              }),\n",
    "              'BORROW':\n",
    "              {\n",
    "                'DATES' : [dt.datetime(2018,1,1), dt.datetime(2020,1,1)],\n",
    "                'RATES' : [0.01, 0.01]\n",
    "              },\n",
    "              'VOLATILITY':{\n",
    "                  'TYPE': 'SSVI',\n",
    "                  'EXPIRIES': [10, 100, 365, 730], \n",
    "                  'ATMVOLS': [0.2, 0.25, 0.28, 0.3], \n",
    "                  'RHO':-0.65, \n",
    "                  'ETA':0.8, \n",
    "                  'GAMMA': 0.5\n",
    "                  }\n",
    "              },\n",
    "    'SAP':{\n",
    "            'SPOT': 100,\n",
    "            'DIVIDENDS': \n",
    "              pd.DataFrame({ \n",
    "                  'EXDATES': [dt.datetime(2018,1,1), dt.datetime(2019,1,1), dt.datetime(2020,1,1), dt.datetime(2021,1,1)],\n",
    "                  'PAYDATES': [dt.datetime(2018,1,1), dt.datetime(2019,1,1), dt.datetime(2020,1,1), dt.datetime(2021,1,1)],\n",
    "                  'CASH': [5.0, 5.0, 3.0, 2.0],\n",
    "                  'YIELD': [0.0, 0.0, 0.02, 0.03],\n",
    "                  'TAX': [0.8, 0.8, 0.8, 0.8]\n",
    "              }),\n",
    "              'BORROW':\n",
    "              {\n",
    "                'DATES' : [dt.datetime(2018,1,1), dt.datetime(2020,1,1)],\n",
    "                'RATES' : [0.01, 0.01]\n",
    "              },\n",
    "              'VOLATILITY':{\n",
    "                  'TYPE': 'SSVI',\n",
    "                  'EXPIRIES': [10, 100, 365, 730], \n",
    "                  'ATMVOLS': [0.2, 0.25, 0.28, 0.3], \n",
    "                  'RHO':-0.65, \n",
    "                  'ETA':0.8, \n",
    "                  'GAMMA': 0.5\n",
    "                  }\n",
    "              },\n",
    "    'SIE':{\n",
    "            'SPOT': 100,\n",
    "            'DIVIDENDS': \n",
    "              pd.DataFrame({ \n",
    "                  'EXDATES': [dt.datetime(2018,1,1), dt.datetime(2019,1,1), dt.datetime(2020,1,1), dt.datetime(2021,1,1)],\n",
    "                  'PAYDATES': [dt.datetime(2018,1,1), dt.datetime(2019,1,1), dt.datetime(2020,1,1), dt.datetime(2021,1,1)],\n",
    "                  'CASH': [5.0, 5.0, 3.0, 2.0],\n",
    "                  'YIELD': [0.0, 0.0, 0.02, 0.03],\n",
    "                  'TAX': [0.8, 0.8, 0.8, 0.8]\n",
    "              }),\n",
    "              'BORROW':\n",
    "              {\n",
    "                'DATES' : [dt.datetime(2018,1,1), dt.datetime(2020,1,1)],\n",
    "                'RATES' : [0.01, 0.01]\n",
    "              },\n",
    "              'VOLATILITY':{\n",
    "                  'TYPE': 'SSVI',\n",
    "                  'EXPIRIES': [10, 100, 365, 730], \n",
    "                  'ATMVOLS': [0.2, 0.25, 0.28, 0.3], \n",
    "                  'RHO':-0.65, \n",
    "                  'ETA':0.8, \n",
    "                  'GAMMA': 0.5\n",
    "                  }\n",
    "              },\n",
    "    'THY':{\n",
    "            'SPOT': 100,\n",
    "            'DIVIDENDS': \n",
    "              pd.DataFrame({ \n",
    "                  'EXDATES': [dt.datetime(2018,1,1), dt.datetime(2019,1,1), dt.datetime(2020,1,1), dt.datetime(2021,1,1)],\n",
    "                  'PAYDATES': [dt.datetime(2018,1,1), dt.datetime(2019,1,1), dt.datetime(2020,1,1), dt.datetime(2021,1,1)],\n",
    "                  'CASH': [5.0, 5.0, 3.0, 2.0],\n",
    "                  'YIELD': [0.0, 0.0, 0.02, 0.03],\n",
    "                  'TAX': [0.8, 0.8, 0.8, 0.8]\n",
    "              }),\n",
    "              'BORROW':\n",
    "              {\n",
    "                'DATES' : [dt.datetime(2018,1,1), dt.datetime(2020,1,1)],\n",
    "                'RATES' : [0.01, 0.01]\n",
    "              },\n",
    "              'VOLATILITY':{\n",
    "                  'TYPE': 'SSVI',\n",
    "                  'EXPIRIES': [10, 100, 365, 730], \n",
    "                  'ATMVOLS': [0.2, 0.25, 0.28, 0.3], \n",
    "                  'RHO':-0.65, \n",
    "                  'ETA':0.8, \n",
    "                  'GAMMA': 0.5\n",
    "                  }\n",
    "              }\n",
    "}\n",
    "\n",
    "discount = {\n",
    "    'EUR':{\n",
    "        'DATES' : [dt.datetime(2018,1,1), dt.datetime(2020,1,1)],\n",
    "        'RATES' : [0.00, 0.00]\n",
    "    }\n",
    "}"
   ]
  },
  {
   "cell_type": "code",
   "execution_count": null,
   "metadata": {
    "code_folding": [
     6
    ],
    "slideshow": {
     "slide_type": "skip"
    }
   },
   "outputs": [],
   "source": [
    "udl_selected = 'ADS'\n",
    "q = qgrid.show_grid(underlying[udl_selected]['DIVIDENDS'])\n",
    "w = widgets.Dropdown(options=list(underlying.keys()), value=udl_selected)\n",
    "#help(qgrid)\n",
    "#display(w,q)\n",
    "\n",
    "def on_change(change):\n",
    "    global udl_selected\n",
    "    global w\n",
    "    global q\n",
    "    if change['type'] == 'change' and change['name'] == 'value':\n",
    "        #underlying[udl_selected]['DIVIDENDS']  = spy.to_dict()\n",
    "        udl_selected = change['new'] \n",
    "        #spy = pd.DataFrame(underlying[udl_selected]['DIVIDENDS'], columns =['EXDATES', 'PAYDATES', 'CASH', 'YIELD',  'TAX'])\n",
    "        q.close()\n",
    "        w.close()\n",
    "        q=qgrid.show_grid(underlying[udl_selected]['DIVIDENDS'])\n",
    "        q.open()\n",
    "        w = widgets.Dropdown(options=list(underlying.keys()), value=udl_selected)\n",
    "        w.observe(on_change)\n",
    "        w.open()\n",
    "        display(w,q)\n",
    "\n",
    "w.observe(on_change)"
   ]
  },
  {
   "cell_type": "code",
   "execution_count": null,
   "metadata": {
    "code_folding": [],
    "slideshow": {
     "slide_type": "-"
    }
   },
   "outputs": [],
   "source": [
    "display(w,q)"
   ]
  },
  {
   "cell_type": "markdown",
   "metadata": {
    "slideshow": {
     "slide_type": "slide"
    }
   },
   "source": [
    "### Korrelationen"
   ]
  },
  {
   "cell_type": "code",
   "execution_count": null,
   "metadata": {
    "code_folding": [
     0
    ],
    "slideshow": {
     "slide_type": "fragment"
    }
   },
   "outputs": [],
   "source": [
    "correlation_np = np.array(\n",
    "    [ \n",
    "        [ 1.0, 0.8, 0.8, 0.8, 0.8, 0.8, 0.8, 0.8 ],\n",
    "        [ 0.8, 1.0, 0.8, 0.8, 0.8, 0.8, 0.8, 0.8 ],\n",
    "        [ 0.8, 0.8, 1.0, 0.8, 0.8, 0.8, 0.8, 0.8 ],\n",
    "        [ 0.8, 0.8, 0.8, 1.0, 0.8, 0.8, 0.8, 0.8 ],\n",
    "        [ 0.8, 0.8, 0.8, 0.8, 1.0, 0.8, 0.8, 0.8 ],\n",
    "        [ 0.8, 0.8, 0.8, 0.8, 0.8, 1.0, 0.8, 0.8 ],\n",
    "        [ 0.8, 0.8, 0.8, 0.8, 0.8, 0.8, 1.0, 0.8 ],\n",
    "        [ 0.8, 0.8, 0.8, 0.8, 0.8, 0.8, 0.8, 1.0 ]\n",
    "    ]\n",
    ")\n",
    "correlation = converter.from_np_matrix(correlation_np)\n",
    "#uncomment the following to plot a heatmap of correlation matrix\n",
    "#plt.matshow(correlation_np, cmap='hot')\n",
    "#plt.colorbar()"
   ]
  },
  {
   "cell_type": "markdown",
   "metadata": {
    "slideshow": {
     "slide_type": "slide"
    }
   },
   "source": [
    "### Volatilitäten: Sticky-Strike, Sticky-Moneyness, Sticky-X-Strike"
   ]
  },
  {
   "cell_type": "markdown",
   "metadata": {
    "slideshow": {
     "slide_type": "subslide"
    }
   },
   "source": [
    "Das Volflächenobjekt enthält die Referenz-Forwardkurve und \n",
    "Gegeben Expiry $T$, Strike $K$, diskontierte Cashdividenden $C_0$ und $C_1$ sowie und Forwards $F_0$ und $F_1$ zu Zeitpunkten $t_0<t_1$.\n",
    "  - Sticky-Strike: \n",
    "  $\\sigma_1(K) = \\sigma_0(K)$\n",
    "  - Sticky-Moneyness: $\\sigma_1(K) = \\sigma_0\\left(\\frac{F_0K}{F_1}\\right)$\n",
    "  - Sticky-X-Strike: $\\sigma_1(K) = \\sigma_0\\left(\\frac{(F_0-D_0)(K-D_1)}{(F_1-D_1)} + D_0\\right)$\n",
    " \n",
    "** Keine Cashdividenden: Sticky-Moneyness = Sticky-Strike **\n",
    "\n",
    "Insbesondere relevant für Delta-Berechnung."
   ]
  },
  {
   "cell_type": "code",
   "execution_count": null,
   "metadata": {
    "code_folding": [
     4,
     7
    ],
    "slideshow": {
     "slide_type": "fragment"
    }
   },
   "outputs": [],
   "source": [
    "spot_shift=1.2\n",
    "cash_div = 2.0\n",
    "yield_div = 0.03\n",
    "udl = 'DAN'\n",
    "def plot(x_axes):\n",
    "    vol = mkt_converter.vol_from_dict(underlying, discount, udl, 'EUR', refdate)\n",
    "    expiry = converter.getLTime(180, refdate)\n",
    "    stickyness_types = [enums.VolatilityStickyness.StickyXStrike,\n",
    "                        enums.VolatilityStickyness.StickyStrike, \n",
    "                        enums.VolatilityStickyness.StickyFwdMoneyness]\n",
    "    xstrikes = pl.frange(0.5,1.5,0.01)\n",
    "    underlying_shifted = copy.deepcopy(underlying)\n",
    "    underlying_shifted[udl]['SPOT'] *= spot_shift\n",
    "    underlying_shifted[udl]['DIVIDENDS'].loc[:,'CASH'] = cash_div\n",
    "    underlying_shifted[udl]['DIVIDENDS'].loc[:,'YIELD'] = yield_div\n",
    "       \n",
    "    fwd_shifted = mkt_converter.fwd_from_dict(underlying_shifted[udl], udl, discount, 'EUR', refdate)\n",
    "    fwd = mkt_converter.fwd_from_dict(underlying[udl], udl, discount, 'EUR', refdate)\n",
    "    fwd_value = fwd_shifted.value(refdate, expiry)\n",
    "          \n",
    "    print('new forward: ' + str(fwd_value))\n",
    "    print('old forward: ' + str(fwd.value(refdate, expiry)))\n",
    "    shifted_vol = analytics.VolatilitySurface_createVolatilitySurfaceShiftedFwd(vol, fwd_shifted)\n",
    "\n",
    "    for i, assumption in enumerate(stickyness_types):\n",
    "        analytics.VolatilitySurface.setStickynessAssumption(assumption)\n",
    "        \n",
    "        tmp = []\n",
    "        \n",
    "        discounted_cash = fwd_shifted.discountedFutureCashDivs(refdate, expiry)\n",
    "        x_axes_values = {\n",
    "            'fwd moneyness' : [analytics.computeRealStrike(x, fwd_value, discounted_cash)/fwd_value for x in xstrikes],\n",
    "            'strike' : [analytics.computeRealStrike(x, fwd_value, discounted_cash) for x in xstrikes],\n",
    "            'x strike' : xstrikes\n",
    "        }\n",
    "\n",
    "        for x in xstrikes:\n",
    "            tmp.append(shifted_vol.calcImpliedVol(refdate, expiry, x))\n",
    "        plt.plot(x_axes_values[x_axes],tmp,'-x', label = assumption)\n",
    "        plt.xlabel(x_axes)\n",
    "        plt.ylabel('implied volatility')\n",
    "        plt.legend()\n",
    "        plt.title('spotshift:' + str(spot_shift) + ', cash div: ' + str(cash_div) + ', yield div: ' + str(yield_div))\n",
    "        #if i < len(stickyness_types)-1:\n",
    "         #   plt.figure()\n",
    "plot('fwd moneyness') # 'strike', 'x strike', 'fwd moneyness'"
   ]
  },
  {
   "cell_type": "markdown",
   "metadata": {
    "slideshow": {
     "slide_type": "slide"
    }
   },
   "source": [
    "# Instrument-Spezifikation\n",
    "In der Library werden alle statischen, bewertungsrelevanten Daten in sogenannten Specifications spezifiziert. Diese Specifications werden dann an den Pricer übergeben."
   ]
  },
  {
   "cell_type": "code",
   "execution_count": null,
   "metadata": {
    "code_folding": [],
    "slideshow": {
     "slide_type": "fragment"
    }
   },
   "outputs": [],
   "source": [
    "spec = {\n",
    "    'ID': 'DE000DK0E8V2',\n",
    "    'EXPIRY' : dt.datetime(2021,5,5,0,0,0),\n",
    "    'CURRENCY' : 'EUR',\n",
    "    'NOTIONAL' : 1.0,\n",
    "    'TYPE' : 'WorstOf',\n",
    "    'BASKET' : #pd.DataFrame(\n",
    "        {\n",
    "        'UNDERLYINGS': ['ADS', 'DAN', 'DBK', 'EON', 'KS', 'SAP', 'SIE', 'THY'],\n",
    "        'WEIGHTS' : [ 1.0/73.74, 1.0/63.89, 1.0/28.865, 1.0/13.99, 1.0/31.38, 1.0/67.92, 1.0/97.11, 1.0/24.84]\n",
    "        },\n",
    "    #),\n",
    "    'PAYOFF' :{\n",
    "        'SPOT' : [0.0, 0.5, 1.0],\n",
    "        'VALUE' : [0.0, 1000.0, 1000.0]\n",
    "    },\n",
    "    'COUPONS' : \n",
    "    #pd.DataFrame(\n",
    "        {\n",
    "        'OBSERVATION_DATES' :  [dt.datetime(2016,5,4,0,0,0), dt.datetime(2017,5,5,0,0,0), \n",
    "                dt.datetime(2018,5,4,0,0,0), dt.datetime(2019,5,6,0,0,0), \n",
    "                 dt.datetime(2020,5,5,0,0,0), dt.datetime(2021,5,5,0,0,0)],\n",
    "        'PAYMENT_DATES' : [ dt.datetime(2016,5,12,0,0,0), dt.datetime(2017,5,12,0,0,0), \n",
    "                            dt.datetime(2018,5,14,0,0,0), dt.datetime(2019,5,13,0,0,0), \n",
    "                            dt.datetime(2020,5,12,0,0,0), dt.datetime(2021,5,12,0,0,0)\n",
    "                          ],\n",
    "        'COUPON': 75.5,\n",
    "        'UP': True,\n",
    "        'LEVELS' : [0.5, 0.5, 0.5, 0.5, 0.5, 0.5],\n",
    "        'REDPEMPTION_LEVEL' : [0.9, 0.9, 0.9, 0.9, 0.9, 0.9],\n",
    "        'REDEMPTION_PRICE': 1000,\n",
    "        'REDEMPTION_UP': True\n",
    "    }\n",
    "    #)\n",
    "}"
   ]
  },
  {
   "cell_type": "markdown",
   "metadata": {
    "slideshow": {
     "slide_type": "slide"
    }
   },
   "source": [
    "### Basisinformation-Überblick"
   ]
  },
  {
   "cell_type": "code",
   "execution_count": null,
   "metadata": {
    "slideshow": {
     "slide_type": "fragment"
    }
   },
   "outputs": [],
   "source": [
    "display(Markdown('**Rückzahlungstermin **' + spec['EXPIRY'].strftime(\"%d.%m.%Y\")))\n",
    "display(Markdown('Nennwert ' + str(spec['NOTIONAL'])))\n",
    "coupons = pd.DataFrame(data = spec['COUPONS'], columns = ['OBSERVATION_DATES', 'PAYMENT_DATES', 'COUPON', 'PAYMENT_DATES' ])\n",
    "coupons.columns=['Beobachtungstag', 'Rückzahlungstermin', 'Zinsbetrag',  \n",
    "                 'Zinszahlungstag']\n",
    "print(coupons.to_string())\n",
    "#for i, udl in enumerate(spec['BASKET']['UNDERLYINGS'].keys()):\n",
    "    "
   ]
  },
  {
   "cell_type": "markdown",
   "metadata": {
    "slideshow": {
     "slide_type": "slide"
    }
   },
   "source": [
    "# Bewertung (Local Volatility)\n",
    "- In der Library werden alle Bewertungen über sogenannte Pricer duchgeführt\n",
    "- Jeder Pricer bietet zwei Schnittstellen\n",
    "    - eine spezielle calcPrice Methode: Erhält alle bewertungsrelevanten Objekte (PricingData)\n",
    "    - eine allgemeine calcPrice-Schnittstelle: Erhält Container (Marktdaten, Parameter) und fült intern daraus PricingData\n",
    "- PricingData kann serialisiert werden->komfortable Analysemöglichkeit bei Fehlern\n"
   ]
  },
  {
   "cell_type": "markdown",
   "metadata": {
    "slideshow": {
     "slide_type": "slide"
    }
   },
   "source": [
    "## PricingData\n",
    "Jeder Pricer definiert seine eigene Klasse, die alle Informationen zur Bewertung enthält. Diese Klasse kann bei Bedarf serialisiert, d.h. in eine Datei rausgeschrieben werden.\n",
    "PricingData enthält immer\n",
    "- Spezifikation des Instruments\n",
    "- Bewertungsdatum\n",
    "- Relevante Marktdaten\n",
    "- Bewertungsparameter\n",
    "- Was gerechnet werden soll (sog. PricingRequest)"
   ]
  },
  {
   "cell_type": "code",
   "execution_count": null,
   "metadata": {
    "code_folding": [],
    "slideshow": {
     "slide_type": "subslide"
    }
   },
   "outputs": [],
   "source": [
    "def set_pricing_data(pd, ins_dict):\n",
    "    pd.valDate = refdate\n",
    "    pd.spec = ins_converter.multi_memory_express_from_dict(ins_dict)\n",
    "    pd.dsc = mkt_converter.discount_from_dict('EUR', discount['EUR'], refdate)\n",
    "    pd.param = analytics.MonteCarloPricingParameter()\n",
    "    pd.param.mcParam.numberOfSimulations = 10000\n",
    "    vols = analytics.vectorConstVolatilities(len(spec['BASKET']['UNDERLYINGS']))\n",
    "    for i, key in enumerate(spec['BASKET']['UNDERLYINGS']):\n",
    "        vols[i] = mkt_converter.vol_from_dict(underlying, discount, key,'EUR', refdate)\n",
    "    pd.vols = vols\n",
    "    pd.setCorrelations(correlation)\n",
    "    pd.pricingRequest = analytics.PricingRequest()\n",
    "\n",
    "pricing_data = analytics.LocalVolMonteCarloPricingData()\n",
    "set_pricing_data(pricing_data, spec)\n",
    "# die folgende Zeile einkommentieren, um die Daten auf Platte zu schreiben\n",
    "# pricing_data.save('pricing_spec.json', pricing_data)"
   ]
  },
  {
   "cell_type": "markdown",
   "metadata": {
    "slideshow": {
     "slide_type": "slide"
    }
   },
   "source": [
    "## Bewertung\n",
    "### Einfacher Preiscall"
   ]
  },
  {
   "cell_type": "code",
   "execution_count": null,
   "metadata": {
    "slideshow": {
     "slide_type": "subslide"
    }
   },
   "outputs": [],
   "source": [
    "tic = dt.datetime.now()\n",
    "pr = analytics.price(pricing_data)\n",
    "print('runtime: {}'.format(dt.datetime.now() - tic))\n",
    "#plot the price\n",
    "pr.getPrice()"
   ]
  },
  {
   "cell_type": "markdown",
   "metadata": {
    "slideshow": {
     "slide_type": "fragment"
    }
   },
   "source": [
    "### Delta"
   ]
  },
  {
   "cell_type": "code",
   "execution_count": null,
   "metadata": {},
   "outputs": [],
   "source": [
    "pricing_data.pricingRequest.setDeltaGamma(True)\n",
    "pr = analytics.price(pricing_data)\n",
    "analytics.BasePricingData.save('DE000DK0E8V2' + '.json', pricing_data)\n",
    "deltas = pr.getDeltas()"
   ]
  },
  {
   "cell_type": "code",
   "execution_count": null,
   "metadata": {
    "code_folding": []
   },
   "outputs": [],
   "source": [
    "for x in deltas.iterkeys():\n",
    "    print(x + ': ' + str(deltas[x]))"
   ]
  },
  {
   "cell_type": "markdown",
   "metadata": {
    "slideshow": {
     "slide_type": "slide"
    }
   },
   "source": [
    "### Exposure-Profile\n",
    "We can analyze all cashflows from the MC simulation. We just have to specify the times, where we are interested in future cashflows, in the PricingRequest. The cashflows are then contained in the PricingResult object."
   ]
  },
  {
   "cell_type": "code",
   "execution_count": null,
   "metadata": {
    "code_folding": [],
    "slideshow": {
     "slide_type": "subslide"
    }
   },
   "outputs": [],
   "source": [
    "cf_dates = converter.createPTimeList(refdate, range(1230,1260, 30))\n",
    "pricing_data.pricingRequest.setCashflowTimes(cf_dates)\n",
    "pr = analytics.price(pricing_data)\n",
    "# the results now contain cashflows time slices and \n",
    "# we can get from them the future exposure (discounted to today)\n",
    "future_cash =  pr.getCashflowSlices().getFutureExposure() # pr.getCashflowSlices().getFutureExposure()"
   ]
  },
  {
   "cell_type": "markdown",
   "metadata": {
    "slideshow": {
     "slide_type": "slide"
    }
   },
   "source": [
    "Plot the histogram of all future expected cashflows."
   ]
  },
  {
   "cell_type": "code",
   "execution_count": null,
   "metadata": {
    "code_folding": [],
    "slideshow": {
     "slide_type": "subslide"
    }
   },
   "outputs": [],
   "source": [
    "time = 0\n",
    "n, bins, patches = plt.hist(future_cash[time], 100, normed=0, facecolor='blue', alpha=0.75)\n",
    "print(future_cash[time])"
   ]
  },
  {
   "cell_type": "markdown",
   "metadata": {
    "slideshow": {
     "slide_type": "slide"
    }
   },
   "source": [
    "Some statistics..."
   ]
  },
  {
   "cell_type": "code",
   "execution_count": null,
   "metadata": {
    "slideshow": {
     "slide_type": "subslide"
    }
   },
   "outputs": [],
   "source": [
    "mean_exposure = []\n",
    "quantile_exposure = []\n",
    "percentile = 50\n",
    "for x in future_cash:\n",
    "    mean_exposure.append(np.mean(x))\n",
    "    quantile_exposure.append(np.percentile(x,percentile))\n",
    "plt.plot(converter.create_datetime_list(cf_dates), mean_exposure,'-x', label='mean')\n",
    "plt.plot(converter.create_datetime_list(cf_dates), quantile_exposure,'-^', label=str(percentile) + '% percentile')\n",
    "plt.legend()"
   ]
  },
  {
   "cell_type": "markdown",
   "metadata": {
    "slideshow": {
     "slide_type": "slide"
    }
   },
   "source": [
    "### Projektionen"
   ]
  },
  {
   "cell_type": "code",
   "execution_count": null,
   "metadata": {
    "code_folding": [
     5
    ]
   },
   "outputs": [],
   "source": [
    "shifts = {\n",
    "    'REDPEMPTION_LEVEL': [0.95, 0.96, 0.97, 0.98, 0.99, 1.0, 1.01, 1.02, 1.03],\n",
    "    'LEVELS' : [0.95, 0.96, 0.97, 0.98, 0.99, 1.0, 1.01, 1.02, 1.03]\n",
    "}\n",
    "\n",
    "def plot_spec_proj(pr_data, ins_dict, shift):\n",
    "    tmp = []\n",
    "    for i in  range(len(shifts[shift])):\n",
    "        new_spec = copy.deepcopy(ins_dict)\n",
    "        coupons = new_spec['COUPONS'] \n",
    "        for x in coupons:\n",
    "            for j in range(len(coupons['REDPEMPTION_LEVEL'])):\n",
    "                coupons[shift][j] *= shifts[shift][i]\n",
    "        pr_data.spec = ins_converter.multi_memory_express_from_dict(new_spec)\n",
    "        pr = analytics.price(pr_data)\n",
    "        tmp.append(pr.getPrice())\n",
    "    plt.plot(shifts[shift], tmp,'-x')\n",
    "    plt.xlabel(shift)\n",
    "    plt.ylabel('price')\n",
    "    \n",
    "\n",
    "pricing_data.pricingRequest = analytics.PricingRequest()\n",
    "plot_spec_proj(pricing_data, spec, 'REDPEMPTION_LEVEL')\n",
    "plt.figure()\n",
    "plot_spec_proj(pricing_data, spec, 'LEVELS')\n"
   ]
  },
  {
   "cell_type": "markdown",
   "metadata": {
    "slideshow": {
     "slide_type": "slide"
    },
    "solution": "hidden"
   },
   "source": [
    "# Bewertung (Stochastic Volatility)"
   ]
  },
  {
   "cell_type": "markdown",
   "metadata": {
    "slideshow": {
     "slide_type": "slide"
    }
   },
   "source": [
    "## PricingData\n",
    "Wie bei der Bewertung mittels Local Volatility sind die entsprechenden Bewertungsdaten aufzusetzen."
   ]
  },
  {
   "cell_type": "code",
   "execution_count": null,
   "metadata": {
    "slideshow": {
     "slide_type": "subslide"
    }
   },
   "outputs": [],
   "source": [
    "stochvol_pricing_data = analytics.StochasticVolMonteCarloPricingData()\n",
    "set_pricing_data(stochvol_pricing_data, spec)"
   ]
  },
  {
   "cell_type": "markdown",
   "metadata": {
    "slideshow": {
     "slide_type": "slide"
    }
   },
   "source": [
    "### Aufsetzen Stochastic Volatility Modell"
   ]
  },
  {
   "cell_type": "code",
   "execution_count": null,
   "metadata": {
    "code_folding": [
     37,
     64
    ]
   },
   "outputs": [],
   "source": [
    "heston = {\n",
    "    'ADS':{\n",
    "        'OBJ_ID': 'HESTON_ADS',\n",
    "        'TYPE': 'HESTON',\n",
    "        'S0': 1.0,\n",
    "        'KAPPA': 1.0,\n",
    "        'THETA': 0.04,\n",
    "        'ALPHA': 0.01,\n",
    "        'V0' : 0.03,\n",
    "        'RHO': -0.8    },\n",
    "    'DAN':{\n",
    "        'OBJ_ID': 'HESTON_DAN',\n",
    "        'TYPE': 'HESTON',\n",
    "        'S0':1.0,\n",
    "        'KAPPA': 1.0,\n",
    "        'THETA': 0.04,\n",
    "        'ALPHA': 0.01,\n",
    "        'V0' : 0.03,\n",
    "        'RHO': -0.8    },\n",
    "    'DBK':{\n",
    "        'OBJ_ID': 'HESTON_DBK',\n",
    "        'TYPE': 'HESTON',\n",
    "        'S0':1.0,\n",
    "        'KAPPA': 1.0,\n",
    "        'THETA': 0.04,\n",
    "        'ALPHA': 0.01,\n",
    "        'V0' : 0.03,\n",
    "        'RHO': -0.8    },\n",
    "    'EON':{\n",
    "        'OBJ_ID': 'HESTON_EON',\n",
    "        'TYPE': 'HESTON',\n",
    "        'S0' : 1.0,\n",
    "        'KAPPA': 1.0,\n",
    "        'THETA': 0.04,\n",
    "        'ALPHA': 0.01,\n",
    "        'V0' : 0.03,\n",
    "        'RHO': -0.8    },\n",
    "    'KS':{\n",
    "        'OBJ_ID': 'HESTON_KS',\n",
    "        'TYPE': 'HESTON',\n",
    "        'S0' : 1.0,\n",
    "        'KAPPA': 1.0,\n",
    "        'THETA': 0.04,\n",
    "        'ALPHA': 0.01,\n",
    "        'V0' : 0.03,\n",
    "        'RHO': -0.8    },\n",
    "    'SAP':{\n",
    "        'OBJ_ID': 'HESTON_SAP',\n",
    "        'TYPE': 'HESTON',\n",
    "        'S0' : 1.0,\n",
    "        'KAPPA': 1.0,\n",
    "        'THETA': 0.04,\n",
    "        'ALPHA': 0.01,\n",
    "        'V0' : 0.03,\n",
    "        'RHO': -0.8    },\n",
    "    'SIE':{\n",
    "        'OBJ_ID': 'HESTON_SIE',\n",
    "        'TYPE': 'HESTON',\n",
    "        'S0' : 1.0,\n",
    "        'KAPPA': 1.0,\n",
    "        'THETA': 0.04,\n",
    "        'ALPHA': 0.01,\n",
    "        'V0' : 0.03,\n",
    "        'RHO': -0.8    },\n",
    "    'THY':{\n",
    "        'OBJ_ID': 'HESTON_THY',\n",
    "        'TYPE': 'HESTON',\n",
    "        'S0' : 1.0,\n",
    "        'KAPPA': 1.0,\n",
    "        'THETA': 0.04,\n",
    "        'ALPHA': 0.01,\n",
    "        'V0' : 0.03,\n",
    "        'RHO': -0.8    }\n",
    "}"
   ]
  },
  {
   "cell_type": "code",
   "execution_count": null,
   "metadata": {},
   "outputs": [],
   "source": [
    "stochvol_pricing_data.models = analytics.vectorConstModel(len(spec['BASKET']['UNDERLYINGS']))\n",
    "for i, key in enumerate(spec['BASKET']['UNDERLYINGS']):\n",
    "    stochvol_pricing_data.models[i] = model_converter.stochvolmodel_from_dict(heston[key], refdate)"
   ]
  },
  {
   "cell_type": "markdown",
   "metadata": {
    "slideshow": {
     "slide_type": "slide"
    }
   },
   "source": [
    "## Bewertung\n",
    "### Einfacher Preiscall"
   ]
  },
  {
   "cell_type": "code",
   "execution_count": null,
   "metadata": {
    "slideshow": {
     "slide_type": "subslide"
    }
   },
   "outputs": [],
   "source": [
    "tic = dt.datetime.now()\n",
    "stochvol_pr = analytics.price(stochvol_pricing_data)\n",
    "print('runtime: {}'.format(dt.datetime.now() - tic))\n",
    "#plot the price\n",
    "stochvol_pr.getPrice()"
   ]
  },
  {
   "cell_type": "code",
   "execution_count": null,
   "metadata": {},
   "outputs": [],
   "source": []
  },
  {
   "cell_type": "code",
   "execution_count": null,
   "metadata": {},
   "outputs": [],
   "source": []
  },
  {
   "cell_type": "code",
   "execution_count": null,
   "metadata": {},
   "outputs": [],
   "source": []
  }
 ],
 "metadata": {
  "celltoolbar": "Slideshow",
  "kernelspec": {
   "display_name": "Python 3",
   "language": "python",
   "name": "python3"
  },
  "language_info": {
   "codemirror_mode": {
    "name": "ipython",
    "version": 3
   },
   "file_extension": ".py",
   "mimetype": "text/x-python",
   "name": "python",
   "nbconvert_exporter": "python",
   "pygments_lexer": "ipython3",
   "version": "3.7.3"
  },
  "toc": {
   "base_numbering": 1,
   "nav_menu": {
    "height": "577px",
    "width": "620px"
   },
   "number_sections": true,
   "sideBar": true,
   "skip_h1_title": false,
   "title_cell": "Table of Contents",
   "title_sidebar": "Contents",
   "toc_cell": false,
   "toc_position": {},
   "toc_section_display": "block",
   "toc_window_display": false
  },
  "varInspector": {
   "cols": {
    "lenName": 16,
    "lenType": 16,
    "lenVar": 40
   },
   "kernels_config": {
    "python": {
     "delete_cmd_postfix": "",
     "delete_cmd_prefix": "del ",
     "library": "var_list.py",
     "varRefreshCmd": "print(var_dic_list())"
    },
    "r": {
     "delete_cmd_postfix": ") ",
     "delete_cmd_prefix": "rm(",
     "library": "var_list.r",
     "varRefreshCmd": "cat(var_dic_list()) "
    }
   },
   "oldHeight": 647,
   "position": {
    "height": "669px",
    "left": "978.75px",
    "right": "20px",
    "top": "197.984px",
    "width": "785px"
   },
   "types_to_exclude": [
    "module",
    "function",
    "builtin_function_or_method",
    "instance",
    "_Feature"
   ],
   "varInspector_section_display": "block",
   "window_display": false
  }
 },
 "nbformat": 4,
 "nbformat_minor": 2
}
