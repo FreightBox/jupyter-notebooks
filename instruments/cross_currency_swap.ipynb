{
 "cells": [
  {
   "cell_type": "markdown",
   "metadata": {},
   "source": [
    "![](../images/rivacon_frontmark_combined_header.svg)"
   ]
  },
  {
   "cell_type": "code",
   "execution_count": null,
   "metadata": {},
   "outputs": [],
   "source": [
    "import datetime\n",
    "from dateutil.relativedelta import relativedelta\n",
    "import pyvacon.analytics as analytics\n",
    "import pyvacon.tools.converter as converter\n",
    "import pyvacon.tools.enums as enums\n",
    "import pyvacon.marketdata.plot as mkt_plot\n",
    "import pyvacon.marketdata.bootstrapping as bootstr\n",
    "import math\n",
    "import pandas as pd\n",
    "import qgrid\n",
    "import pyvacon\n",
    "# the next lin is a jupyter internal command to show the matplotlib graphs within the notebook\n",
    "%matplotlib inline\n",
    "import matplotlib.pyplot as plt\n",
    "\n",
    "# alternative library for plots (offline version)\n",
    "from plotly.offline import init_notebook_mode, iplot\n",
    "from plotly.graph_objs import *\n",
    "\n",
    "init_notebook_mode(connected=True) "
   ]
  },
  {
   "cell_type": "markdown",
   "metadata": {},
   "source": [
    "# Cross-Currency Swap"
   ]
  },
  {
   "cell_type": "markdown",
   "metadata": {},
   "source": [
    "## Definition of a Cross-Currency Swap\n",
    "\n",
    "A basic cross-currency swap involves the exchange of a notional and interest payments in one currvency against the notional and interest payments in another currency. The notionals are usually exchanged at the beginning and the end of the life of the swap. The rates can either be both floating, both fixed or a mixture of floating and fixed.\n",
    "\n",
    "## Valuation of Cross-Currency Swaps\n",
    "\n",
    "As in plain vanilla interest-rate swaps, the valuation of cross-currency swap (CCS) can either be undertaken in terms of the difference between two bonds or as a portfolio of forward contracts. Analogous to the interest-rate swap, RIVACON uses the latter method.\n",
    "\n",
    "**Example:** Suppose a flat term structure of LIBOR/swap interest rates with 5% in country A and 6% in country B (continously compounding). Some time ago, a financial institution has entered into a currency swap where it receives 7% in currency B and pays 4% in currency A. The principals in currency A are 10 million and in currency B 1,000 million. The maturity of the swap is in three years and the current exchange rate of currency A/B is 1/100. \n",
    "\n",
    "### Valuation in Terms of Bond Prices\n",
    "\n",
    "If we price the CCS in terms of bond prices, we need to calculate the difference in the present values of both legs, where the foreign currency leg (here leg B) has to be converted into the domestic currency (here currency A). \n",
    "Hence, the pay-leg has cash-flows of 0.4 million in currency A in each year and the principal of 10 million in the last year, the receive leg cash-flows are 70 million of currency B in each year and the principal of 1,000 million in the final year. Both cash flows are discounted with the currency-specific disount-factors. Finally, the present value of the cash-flows of the foreign-currency leg (leg B) has to be converted into currency A. The CCS value is then the difference of the present values in the same currency."
   ]
  },
  {
   "cell_type": "code",
   "execution_count": null,
   "metadata": {},
   "outputs": [],
   "source": [
    "pay_dates = [1,2,3]\n",
    "r_dsc_A = 0.05\n",
    "r_dsc_B = 0.06\n",
    "\n",
    "fx_spot = 1/100\n",
    "\n",
    "#Discount factors \n",
    "df_A = []\n",
    "for i in range(len(pay_dates)):\n",
    "    df_A.append(math.exp(-r_dsc_A*pay_dates[i]))\n",
    "    \n",
    "df_B = []\n",
    "for i in range(len(pay_dates)):\n",
    "    df_B.append(math.exp(-r_dsc_B*pay_dates[i]))\n",
    "    \n",
    "#Pay leg\n",
    "CF_pay = [0.4, 0.4, 10.4]\n",
    "PV_pay = []\n",
    "for i in range(len(CF_pay)):\n",
    "    PV_pay.append(CF_pay[i]*df_A[i])\n",
    "\n",
    "#Receive Leg\n",
    "CF_receive = [70, 70, 1070]\n",
    "PV_receive = []\n",
    "for i in range(len(CF_receive)):\n",
    "    PV_receive.append(CF_receive[i]*df_B[i])\n",
    "    \n",
    "CCS_value = (-sum(PV_pay)+sum(PV_receive)*fx_spot)\n",
    "print('Value of the Cross-Currency Swap =',CCS_value)"
   ]
  },
  {
   "cell_type": "markdown",
   "metadata": {},
   "source": [
    "### Valuation in Terms of Forward-Rate Agreements\n",
    "\n",
    "In order to price the CCS in terms of forward rate agreements, we need to determine the cash flows of the pay- and receive leg in currency a and discount the net-cash-flows. For the pay-leg, the cash flows are 0.4 million in currency A in each year and the principal of 10 million in the last year. The cash-flows of the receive leg are 70 million of currency B in each year and the principal of 1,000 million in the final year. These have to be multiplied with the forward-exchange-rates for the relevant maturity. Finally, the net cash-flow for each period has to be discounted and summed up to the value of the CCS. The pricing of pricing of the CCS in terms of forward-rate agreements is described in the following code section."
   ]
  },
  {
   "cell_type": "code",
   "execution_count": null,
   "metadata": {},
   "outputs": [],
   "source": [
    "pay_dates = [1,2,3]\n",
    "r_dsc_A = 0.05\n",
    "r_dsc_B = 0.06\n",
    "\n",
    "# Exchange rates\n",
    "fx_spot = 1/100\n",
    "fwd_fx_rates = []\n",
    "for i in range(len(pay_dates)):\n",
    "    fwd_fx_rates.append(fx_spot*math.exp((r_dsc_A-r_dsc_B)*pay_dates[i]))\n",
    "\n",
    "#Discount factors \n",
    "df_A = []\n",
    "for i in range(len(pay_dates)):\n",
    "    df_A.append(math.exp(-r_dsc_A*pay_dates[i]))\n",
    "\n",
    "#Pay leg\n",
    "CF_pay = [0.4, 0.4, 10.4]\n",
    "\n",
    "#Receive Leg\n",
    "CF_receive = [70, 70, 1070]\n",
    "\n",
    "CF_receive_cur_A = []\n",
    "for i in range(len(fwd_fx_rates)):\n",
    "    CF_receive_cur_A.append(CF_receive[i]*fwd_fx_rates[i])\n",
    "\n",
    "# Valuation as difference between Pay- and Receive leg\n",
    "CF_CCS_Value = []\n",
    "for i in range(len(CF_pay)):\n",
    "    CF_CCS_Value.append(-CF_pay[i]+CF_receive_cur_A[i])\n",
    "\n",
    "PV_CCS_Value = []\n",
    "for i in range(len(CF_pay)):\n",
    "    PV_CCS_Value.append(CF_CCS_Value[i]*df_A[i])\n",
    "CCS_value = sum(PV_CCS_Value)\n",
    "\n",
    "print('Value of the Cross-Currency Swap =', CCS_value)"
   ]
  },
  {
   "cell_type": "markdown",
   "metadata": {},
   "source": [
    "## Cross-Currency Swap - Sample Data Anton"
   ]
  },
  {
   "cell_type": "markdown",
   "metadata": {},
   "source": [
    "### Calibration of discount curves\n",
    "We now present the calibration of EUR curves based on actual market data. The input quotes as well as the instrument definition and conventions are provided in an input csv. file and are loaded into a pandas data frame object:"
   ]
  },
  {
   "cell_type": "code",
   "execution_count": null,
   "metadata": {},
   "outputs": [],
   "source": [
    "refdate_d = datetime.datetime(2018,8,31,0,0)\n",
    "refdate = refdate = converter.getLTime(refdate_d)\n",
    "holidays = analytics.SimpleHolidayCalendar('GER_HOL')\n",
    "#holidays.setWeekdayAsHoliday(0) # set sunday as holiday\n",
    "#holidays.setWeekdayAsHoliday(6) #set saturday as holidays\n",
    "\n",
    "# set directory and file name for Input Quotes\n",
    "dirName = \"../inputdata/\"\n",
    "fileName = \"/inputQuotes.csv\"\n",
    "\n",
    "# get instrument quotes and conventions from input .csv file \n",
    "column_names = ['Maturity','Instrument','Currency','Quote','UnderlyingIndex','UnderlyingTenor', 'UnderlyingPaymentFrequency',\n",
    "                'BasisIndex','BasisTenor','BasisPaymentFrequency','PaymentFrequencyFixed','DayCountFixed',\n",
    "                'DayCountFloat','DayCountBasis','RollConventionFixed','RollConventionFloat','RollConventionBasis', 'SpotLag']\n",
    "\n",
    "dfQuotes = pd.read_csv(dirName + fileName, sep= \";\", decimal =\",\", skiprows=[0], header=None, names = column_names)\n",
    "\n",
    "# show data frame\n",
    "#dfQuotes"
   ]
  },
  {
   "cell_type": "markdown",
   "metadata": {},
   "source": [
    "#### EONIA curve"
   ]
  },
  {
   "cell_type": "code",
   "execution_count": null,
   "metadata": {},
   "outputs": [],
   "source": [
    "# get input data for the EONIA curve\n",
    "dfQuotesOIS = dfQuotes[dfQuotes['UnderlyingIndex'] == 'EONIA']\n",
    "#print(dfQuotesOIS)\n",
    "\n",
    "# set up curve parameters for bootstrapping algorithm\n",
    "eoniaCurveSpec =  {'refDate': refdate_d, \n",
    "                   'curveName': 'eonia',\n",
    "                   'dayCount': enums.DayCounter.ACT365_FIXED,\n",
    "                   'calendar': holidays}\n",
    "# get eonia curve             \n",
    "eoniaCurve = bootstr.bootstrap_curve(dfQuotesOIS,eoniaCurveSpec)"
   ]
  },
  {
   "cell_type": "markdown",
   "metadata": {},
   "source": [
    "#### 3M EURIBOR curve"
   ]
  },
  {
   "cell_type": "code",
   "execution_count": null,
   "metadata": {},
   "outputs": [],
   "source": [
    "# get input data for the 3M EURIBOR curve\n",
    "dfQuotes3M = dfQuotes[(dfQuotes['UnderlyingIndex'] == 'EURIBOR') & (dfQuotes['UnderlyingTenor'] == '3M')]\n",
    "\n",
    "# set up curve parameters for the 3M EURIBOR curve. The eonia curve is used for bootstrapping\n",
    "euribor3MCurveSpec =  {'refDate': refdate_d, \n",
    "                      'curveName': 'euribor_3M',\n",
    "                      'dayCount': enums.DayCounter.ACT365_FIXED,\n",
    "                      'calendar': holidays,\n",
    "                      'discountCurve': eoniaCurve}\n",
    "# get 3M euribor curve              \n",
    "euribor3MCurve = bootstr.bootstrap_curve(dfQuotes3M,euribor3MCurveSpec)"
   ]
  },
  {
   "cell_type": "markdown",
   "metadata": {},
   "source": [
    "#### 6M EURIBOR curve"
   ]
  },
  {
   "cell_type": "code",
   "execution_count": null,
   "metadata": {},
   "outputs": [],
   "source": [
    "# get input data for the 6M EURIBOR curve\n",
    "dfQuotes6M = dfQuotes[(dfQuotes['UnderlyingIndex'] == 'EURIBOR') & (dfQuotes['UnderlyingTenor'] == '6M')]\n",
    "\n",
    "# set up curve parameters for the 6M EURIBOR curve\n",
    "euribor6MCurveSpec =  {'refDate': refdate_d, \n",
    "                      'curveName': 'euribor_6M',\n",
    "                      'dayCount': enums.DayCounter.ACT365_FIXED,\n",
    "                      'calendar': holidays,\n",
    "                      'discountCurve': eoniaCurve,\n",
    "                      'basisCurve': euribor3MCurve}\n",
    "# get 6M euribor curve             \n",
    "euribor6MCurve = bootstr.bootstrap_curve(dfQuotes6M,euribor6MCurveSpec)"
   ]
  },
  {
   "cell_type": "markdown",
   "metadata": {},
   "source": [
    "#### GBP 3M"
   ]
  },
  {
   "cell_type": "code",
   "execution_count": null,
   "metadata": {},
   "outputs": [],
   "source": []
  },
  {
   "cell_type": "markdown",
   "metadata": {},
   "source": [
    "#### GBP/EUR Collateralized"
   ]
  },
  {
   "cell_type": "code",
   "execution_count": null,
   "metadata": {},
   "outputs": [],
   "source": [
    "#eurodollarcurvecollaterizd fehlt noch"
   ]
  },
  {
   "cell_type": "markdown",
   "metadata": {},
   "source": [
    "#### Plotting Curves"
   ]
  },
  {
   "cell_type": "code",
   "execution_count": null,
   "metadata": {},
   "outputs": [],
   "source": [
    "# get output discount factors and zero rates for specified maturities\n",
    "days_to_maturity = [1,12,19,26,35,68,96,127,159,187,217,249,278,370,461,551,643,735,1103,1468,1832,2196,2562,2927,3294,3659,4023,4388,5486,7312,9136,10962,14615,18268]\n",
    "dates = converter.createPTimeList(refdate, days_to_maturity)\n",
    "dates_d = converter.create_datetime_list(dates)\n",
    "\n",
    "df_ois = analytics.vectorDouble()\n",
    "zr_ois = analytics.vectorDouble()\n",
    "eoniaCurve.value(df_ois, refdate, dates)\n",
    "\n",
    "df_3m = analytics.vectorDouble()\n",
    "zr_3m = analytics.vectorDouble()\n",
    "euribor3MCurve.value(df_3m, refdate, dates)\n",
    "\n",
    "df_6m = analytics.vectorDouble()\n",
    "zr_6m = analytics.vectorDouble()\n",
    "euribor6MCurve.value(df_6m, refdate, dates)\n",
    "\n",
    "for i in range(0,len(days_to_maturity)):\n",
    "    zr_ois.append(-math.log(df_ois[i])/days_to_maturity[i]*365.0)\n",
    "    zr_3m.append(-math.log(df_3m[i])/days_to_maturity[i]*365.0)\n",
    "    zr_6m.append(-math.log(df_6m[i])/days_to_maturity[i]*365.0)\n",
    "\n",
    "# create data frame with curves\n",
    "rates_list = {'Dates': dates_d, \n",
    "              'DiscountFactor_OIS': df_ois,\n",
    "              'ZeroRate_OIS': zr_ois,\n",
    "              'DiscountFactor_3M': df_3m,\n",
    "              'ZeroRate_3M': zr_3m,\n",
    "              'DiscountFactor_6M': df_6m,\n",
    "              'ZeroRate_6M': zr_6m}\n",
    "\n",
    "rates = pd.DataFrame(rates_list, index = days_to_maturity)    \n",
    "\n",
    "# plot discount factors\n",
    "df_plot_data = [Scatter(name = 'Eonia', x = rates.index/365, y = rates['DiscountFactor_OIS'], mode = 'lines+markers'),\n",
    "                Scatter(name = '3M Euribor', x = rates.index/365, y = rates['DiscountFactor_3M'], mode = 'lines+markers' ),\n",
    "                Scatter(name = '6M Euribor', x = rates.index/365, y = rates['DiscountFactor_6M'], mode = 'lines+markers')]\n",
    "\n",
    "df_layout = Layout(title = \"Discount Factors\",\n",
    "               xaxis=dict(title ='Time to maturity (years)'),\n",
    "               yaxis=dict(title = 'Discount Factor'))\n",
    "\n",
    "# plot zero rates\n",
    "zr_plot_data = [Scatter(name = 'Eonia', x = rates.index/365, y = rates['ZeroRate_OIS'], mode = 'lines+markers'),\n",
    "                Scatter(name = '3M Euribor', x = rates.index/365, y = rates['ZeroRate_3M'], mode = 'lines+markers'),\n",
    "                Scatter(name = '6M Euribor', x = rates.index/365, y = rates['ZeroRate_6M'], mode = 'lines+markers')]\n",
    "\n",
    "zr_layout = Layout(title=\"Zero Rates\",\n",
    "               xaxis=dict(title = 'Time to maturity (years)'),\n",
    "               yaxis=dict(title = 'Rate'))\n",
    "\n",
    "iplot(Figure(data=df_plot_data, layout=df_layout))\n",
    "iplot(Figure(data=zr_plot_data, layout=zr_layout))"
   ]
  },
  {
   "cell_type": "markdown",
   "metadata": {},
   "source": [
    "### Valuation of the Cross-Currency Swap\n",
    "\n",
    "#### Importing CCS specification data from excel"
   ]
  },
  {
   "cell_type": "code",
   "execution_count": null,
   "metadata": {},
   "outputs": [],
   "source": [
    "data_file = \"../inputdata/20180920_MX_Econ.xlsm\"\n",
    "sheet = \"original\"\n",
    "\n",
    "# Create Pandas Dataframe\n",
    "original = pd.read_excel(data_file, sheetname=sheet)"
   ]
  },
  {
   "cell_type": "markdown",
   "metadata": {},
   "source": [
    "#### Create EUR Leg"
   ]
  },
  {
   "cell_type": "code",
   "execution_count": null,
   "metadata": {},
   "outputs": [],
   "source": [
    "# Switch off warnings\n",
    "pd.options.mode.chained_assignment = None\n",
    "\n",
    "#EUR_LEG\n",
    "eur_leg = original[(original['Lg'] == 1) & (original['Start Date'] >= refdate_d)]\n",
    "\n",
    "fwd_rate = euribor3MCurve\n",
    "dsc_rate = eoniaCurve\n",
    "\n",
    "# function for getting discount factor from curve\n",
    "def getdf(i, col, curve, leg):\n",
    "    return curve.value(refdate, converter.getLTime(datetime.datetime.strptime(str(leg.iloc[i][col]),\"%Y-%m-%d %H:%M:%S\")))\n",
    "\n",
    "#total_rows = len(eur_leg['Start Date'])\n",
    "#print(total_rows)\n",
    "#df_start = []\n",
    "#for i in range(0,total_rows):\n",
    "#    df_start.append(getdf(i))\n",
    "#eur_leg['df_start'] = pd.Series(df_start, index=eur_leg.index)\n",
    "\n",
    "eur_leg['timediff'] = pd.Series(eur_leg['Nb of Days']/360, index=eur_leg.index)\n",
    "start= eur_leg.index.values[0]\n",
    "eur_leg['df_start'] = pd.Series(eur_leg.index.values,index=eur_leg.index).apply(lambda row: getdf(row-start, 'Start Date', fwd_rate, eur_leg))\n",
    "eur_leg['df_end'] = pd.Series(eur_leg.index.values,index=eur_leg.index).apply(lambda row: getdf(row-start, 'End Date', fwd_rate, eur_leg))\n",
    "eur_leg['rate'] = pd.Series(100*(eur_leg['df_start']/eur_leg['df_end']-1)/eur_leg['timediff']+eur_leg['Margin'])\n",
    "eur_leg['flow'] = pd.Series(eur_leg['Remaining Capital']*(eur_leg['rate']/100)*eur_leg['timediff'])\n",
    "eur_leg['disc_fac'] = pd.Series(eur_leg.index.values,index=eur_leg.index).apply(lambda row: getdf(row-start, 'Payment Date', dsc_rate, eur_leg))\n",
    "eur_leg['PV'] = pd.Series(eur_leg['flow']*eur_leg['disc_fac'])\n",
    "\n",
    "reset_eur_leg = original[(original['Lg'] ==1) & (original['Flow Tp'] =='PRI') & (original['Sub. Tp']=='FIN')]\n",
    "reset_eur_leg['disc_fac'] = pd.Series(reset_eur_leg.index.values,index=reset_eur_leg.index).apply(lambda row: getdf(0, 'Payment Date', dsc_rate, reset_eur_leg))\n",
    "reset_eur_leg['PV'] = pd.Series(-reset_eur_leg['Flow']*reset_eur_leg['disc_fac'])\n",
    "\n",
    "PV_eur_leg = sum(eur_leg['PV'])+sum(reset_eur_leg['PV'])\n",
    "print(PV_eur_leg)"
   ]
  },
  {
   "cell_type": "markdown",
   "metadata": {},
   "source": [
    "#### Create GBP Leg\n",
    "\n",
    "**hier müssen noch die discount curves angepasst werden**"
   ]
  },
  {
   "cell_type": "code",
   "execution_count": null,
   "metadata": {},
   "outputs": [],
   "source": [
    "#GBP_LEG\n",
    "gbp_leg = original[(original['Lg'] == 2) & (original['Start Date'] >= refdate_d)]\n",
    "\n",
    "fwd_rate = euribor3MCurve\n",
    "dsc_rate = eoniaCurve\n",
    "fx_spot = 1.12\n",
    "\n",
    "# function for getting discount factor from curv\n",
    "def getdf(i, col, curve, leg):\n",
    "    return curve.value(refdate, converter.getLTime(datetime.datetime.strptime(str(leg.iloc[i][col]),\"%Y-%m-%d %H:%M:%S\")))\n",
    "\n",
    "gbp_leg['timediff'] = pd.Series(gbp_leg['Nb of Days']/360, index=gbp_leg.index)\n",
    "start= gbp_leg.index.values[0]\n",
    "gbp_leg['df_start'] = pd.Series(gbp_leg.index.values,index=gbp_leg.index).apply(lambda row: getdf(row-start, 'Start Date', fwd_rate, gbp_leg))\n",
    "gbp_leg['df_end'] = pd.Series(gbp_leg.index.values,index=gbp_leg.index).apply(lambda row: getdf(row-start, 'End Date', fwd_rate, gbp_leg))\n",
    "gbp_leg['rate'] = pd.Series(100*(gbp_leg['df_start']/gbp_leg['df_end']-1)/gbp_leg['timediff']+gbp_leg['Margin'])\n",
    "gbp_leg['flow'] = pd.Series(gbp_leg['Remaining Capital']*(gbp_leg['rate']/100)*gbp_leg['timediff'])\n",
    "gbp_leg['disc_fac'] = pd.Series(gbp_leg.index.values,index=gbp_leg.index).apply(lambda row: getdf(row-start, 'Payment Date', dsc_rate, gbp_leg))\n",
    "gbp_leg['PV'] = pd.Series(gbp_leg['flow']*gbp_leg['disc_fac'])\n",
    "\n",
    "reset_gbp_leg = original[(original['Lg'] ==2) & (original['Flow Tp'] =='PRI') & (original['Sub. Tp']=='FIN')]\n",
    "reset_gbp_leg['disc_fac'] = pd.Series(reset_gbp_leg.index.values,index=reset_gbp_leg.index).apply(lambda row: getdf(0, 'Payment Date', dsc_rate, reset_gbp_leg))\n",
    "reset_gbp_leg['PV'] = pd.Series(reset_gbp_leg['Flow']*reset_gbp_leg['disc_fac'])\n",
    "\n",
    "PV_gbp_leg = (sum(gbp_leg['PV'])+sum(reset_gbp_leg['PV']))*fx_spot\n",
    "print(PV_gbp_leg)"
   ]
  },
  {
   "cell_type": "markdown",
   "metadata": {},
   "source": [
    "#### Calculating Cross-Currency Swap Value"
   ]
  },
  {
   "cell_type": "code",
   "execution_count": null,
   "metadata": {},
   "outputs": [],
   "source": [
    "#CCS Value\n",
    "print('Cross-Currency Swap Value = ', PV_gbp_leg-PV_eur_leg)"
   ]
  },
  {
   "cell_type": "code",
   "execution_count": null,
   "metadata": {},
   "outputs": [],
   "source": []
  },
  {
   "cell_type": "code",
   "execution_count": null,
   "metadata": {},
   "outputs": [],
   "source": []
  }
 ],
 "metadata": {
  "kernelspec": {
   "display_name": "Python 3",
   "language": "python",
   "name": "python3"
  },
  "language_info": {
   "codemirror_mode": {
    "name": "ipython",
    "version": 3
   },
   "file_extension": ".py",
   "mimetype": "text/x-python",
   "name": "python",
   "nbconvert_exporter": "python",
   "pygments_lexer": "ipython3",
   "version": "3.7.3"
  },
  "toc": {
   "base_numbering": 1,
   "nav_menu": {},
   "number_sections": true,
   "sideBar": true,
   "skip_h1_title": false,
   "title_cell": "Table of Contents",
   "title_sidebar": "Contents",
   "toc_cell": false,
   "toc_position": {},
   "toc_section_display": true,
   "toc_window_display": true
  },
  "varInspector": {
   "cols": {
    "lenName": 16,
    "lenType": 16,
    "lenVar": 40
   },
   "kernels_config": {
    "python": {
     "delete_cmd_postfix": "",
     "delete_cmd_prefix": "del ",
     "library": "var_list.py",
     "varRefreshCmd": "print(var_dic_list())"
    },
    "r": {
     "delete_cmd_postfix": ") ",
     "delete_cmd_prefix": "rm(",
     "library": "var_list.r",
     "varRefreshCmd": "cat(var_dic_list()) "
    }
   },
   "types_to_exclude": [
    "module",
    "function",
    "builtin_function_or_method",
    "instance",
    "_Feature"
   ],
   "window_display": false
  }
 },
 "nbformat": 4,
 "nbformat_minor": 2
}
