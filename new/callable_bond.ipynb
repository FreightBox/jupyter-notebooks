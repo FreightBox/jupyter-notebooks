{
 "cells": [
  {
   "cell_type": "markdown",
   "metadata": {},
   "source": [
    "![](../images/rivacon_frontmark_combined_header.png)"
   ]
  },
  {
   "cell_type": "code",
   "execution_count": null,
   "metadata": {
    "code_folding": []
   },
   "outputs": [],
   "source": [
    "#\n",
    "import pyvacon\n",
    "import datetime as dt\n",
    "\n",
    "import pyvacon.marketdata.testdata as mkt_testdata\n",
    "import pyvacon.tools.enums as enums\n",
    "import pyvacon.marketdata.plot as mkt_plot\n",
    "import pyvacon.models.plot as model_plot\n",
    "import pyvacon.models.tools as model_tools\n",
    "\n",
    "\n",
    "import matplotlib.pyplot as plt\n",
    "%matplotlib inline\n",
    "\n",
    "\n",
    "#%matplotlib qt\n",
    "#%matplotlib notebook"
   ]
  },
  {
   "cell_type": "code",
   "execution_count": null,
   "metadata": {},
   "outputs": [],
   "source": [
    "refdate = dt.datetime(2017,2,20)\n",
    "pyvacon.analytics.setLogLevel('DEBUG')\n",
    "pyvacon.analytics.registerSerialization('depp')"
   ]
  },
  {
   "cell_type": "markdown",
   "metadata": {},
   "source": [
    "# Callable Bonds\n",
    "This section shows some examples pricing callable bonds using the CallableBondPdePricer. This pricer values a bond using a short rate model to model the interest rate (either the risk free or the interest rate modeling the underlying floating rate).\n",
    "The specification used within the pricer is the CallableBondSpecification which allows for:\n",
    "- Coupons payments at specified payment dates (for each coupon date a specific coupon size can be set)\n",
    "- The coupons may be either fixed or float. The floating coupons are computed using reference floating coupon periods (the period is used to determine the floating rate). Each floating coupon can also have an individual spread added to the coupon.\n",
    "- The bond may be called by the issuer at certain specified call dates at pre-specified call prices (note that currently no accrued interest is added to the call price)"
   ]
  },
  {
   "cell_type": "markdown",
   "metadata": {},
   "source": [
    "### Create the necessary market data and setup pricing data\n",
    "For simplicity we just create one artificial discount curve using the analyticsTestData module and use this curve as fixing and discount curve."
   ]
  },
  {
   "cell_type": "code",
   "execution_count": null,
   "metadata": {},
   "outputs": [],
   "source": [
    "pricing_data = pyvacon.pricing.CallableBondPdePricingData()\n",
    "pricing_data.pricer = \"CallableBondPdePricer\"\n",
    "pricing_data.pricingRequest = pyvacon.pricing.PricingRequest()\n",
    "pricing_data.recovery = mkt_testdata.Credit.create_recovery(refdate, enums.SecuritizationLevel.SUBORDINATED, \n",
    "                                                               'RECOVERY_TEST')\n",
    "pricing_data.riskfreeCurve = mkt_testdata.InterestRate.Curves.EONIA(refdate) # get artificial test curve from th test market data module\n",
    "\n",
    "#downgrade_prob = 0\n",
    "#upgrade_prob = 0.0\n",
    "#pricing_data.transition = analyticsTestData.mkt.Credit.create_transition_matrix(refdate, 'TR_TEST', downgrade_prob,upgrade_prob)\n",
    "\n",
    "pricing_data.transition = mkt_testdata.Credit.transtion_matrix(refdate,'Moodys95')\n",
    "\n",
    "pricing_data.issuerRating = pyvacon.marketdata.Rating('TEST', refdate, 'A')\n",
    "\n",
    "surv_date = [refdate + dt.timedelta(days=30*i) for i in range(10*12)]\n",
    "pricing_data.sc = pricing_data.transition.computeSurvivalCurve(refdate, pricing_data.issuerRating, 'SC_TEST')\n",
    "\n",
    "#analyticsTestData.mkt.Credit.create_survival_curve(refdate, 0.05, 'SC_TEST')\n",
    "pricing_data.model = pyvacon.models.CIRModel('CIR_TEST',refdate, 1.0,0.01,0.1,0.001)\n",
    "pricing_data.valDate = refdate\n",
    "pricing_data.param = pyvacon.pricing.CallableBondPdePricingParameter()\n",
    "pricing_data.param.model = 'CIR'\n",
    "pricing_data.param.nSpotSteps = pricing_data.param.nSpotSteps \n",
    "pricing_data.param.nTimeStepsPerYear = pricing_data.param.nTimeStepsPerYear"
   ]
  },
  {
   "cell_type": "markdown",
   "metadata": {},
   "source": [
    "### Setup specifications"
   ]
  },
  {
   "cell_type": "code",
   "execution_count": null,
   "metadata": {},
   "outputs": [],
   "source": [
    "specifications = {} #dictionary containing the following different specifications\n",
    "\n",
    "# floating periods\n",
    "    \n",
    "floating_periods = [refdate + dt.timedelta(days=i*365) for i  in range(11)]\n",
    "floating_spreads = [0.01, 0.01, 0.01, 0.01, 0.01, 0.01, 0.01, 0.01, 0.01]\n",
    "floating_rate_caps = [0.015, 0.015, 0.015, 0.015, 0.015, 0.015,0.015, 0.015, 0.015]\n",
    "floating_rate_floors = [0.01, 0.01, 0.01, 0.01, 0.01, 0.01, 0.01, 0.01, 0.01]\n",
    "\n",
    "\n",
    "# call dates\n",
    "call_dates = [refdate + dt.timedelta(days=2+365 + i*365) for i in range(10)]\n",
    "call_prices = [1.01, 1.01, 1.01, 1.01, 1.01, 1.01, 1.01, 1.01, 1.01, 1.01]\n",
    "    \n",
    "# fixed coupons\n",
    "fixed_coupon_dates = floating_periods[1:len(floating_periods)-1]\n",
    "fixed_coupons = [0.02] * len(fixed_coupon_dates)\n",
    "    \n",
    "expiry = floating_periods[-1]\n",
    "issue_date = refdate + dt.timedelta(days=2-365)"
   ]
  },
  {
   "cell_type": "markdown",
   "metadata": {},
   "source": [
    "#### Fixed non-callable bond\n",
    "10 yrs to maturity, yearly fixed coupons, non-callable"
   ]
  },
  {
   "cell_type": "code",
   "execution_count": null,
   "metadata": {},
   "outputs": [],
   "source": [
    "floating_periods = []\n",
    "floating_spreads = []\n",
    "call_dates = []\n",
    "call_prices = []\n",
    "floating_rate_caps = []\n",
    "floating_rate_floors = []\n",
    "specifications['NONCALL_FIXED'] = pyvacon.instruments.CallableBondSpecification('NONCALL_FIXED', 'TEST_ISSUER', enums.SecuritizationLevel.SENIOR_UNSECURED, 'EUR',\n",
    "                                             expiry, issue_date, 1.0, enums.DayCounter.ACT365_FIXED, fixed_coupon_dates,\n",
    "                                             fixed_coupons, 'UDL_TEST', floating_periods, call_dates, \n",
    "                                              call_prices, floating_spreads, floating_rate_caps, floating_rate_floors)"
   ]
  },
  {
   "cell_type": "markdown",
   "metadata": {},
   "source": [
    "#### Fixed callable bond\n",
    "10 yrs to maturity, yearly fixed coupons, callable"
   ]
  },
  {
   "cell_type": "code",
   "execution_count": null,
   "metadata": {},
   "outputs": [],
   "source": [
    "\n",
    "floating_periods = []\n",
    "floating_spreads = []\n",
    "call_dates = [refdate + dt.timedelta(days=2+365 + i*365) for i in range(10)]\n",
    "call_prices = [1.01, 1.01, 1.01, 1.01, 1.01, 1.01, 1.01, 1.01, 1.01, 1.01]\n",
    "floating_rate_caps = []\n",
    "floating_rate_floors = []\n",
    "\n",
    "specifications['CALL_FIXED'] = pyvacon.instruments.CallableBondSpecification('CALL_FIXED', 'TEST_ISSUER', enums.SecuritizationLevel.SENIOR_UNSECURED, 'EUR',\n",
    "                                             expiry, issue_date, 1.0, enums.DayCounter.ACT365_FIXED, fixed_coupon_dates,\n",
    "                                             fixed_coupons, 'UDL_TEST', floating_periods, call_dates, \n",
    "                                              call_prices, floating_spreads, floating_rate_caps, floating_rate_floors)"
   ]
  },
  {
   "cell_type": "markdown",
   "metadata": {},
   "source": [
    "#### Floating non-callable bond\n",
    "10 yrs to maturity, non-callable, yearly floating coupons"
   ]
  },
  {
   "cell_type": "code",
   "execution_count": null,
   "metadata": {},
   "outputs": [],
   "source": [
    "issue_date = refdate + dt.timedelta(days=2-365)\n",
    "\n",
    "fixed_coupon_dates = []\n",
    "fixed_coupon_values = []\n",
    "\n",
    "floating_periods = [refdate + dt.timedelta(days=i*365) for i  in range(11)]\n",
    "floating_spreads = [0.01, 0.01, 0.01, 0.01, 0.01, 0.01, 0.01, 0.01, 0.01]\n",
    "floating_rate_caps = []\n",
    "floating_rate_floors = []\n",
    "\n",
    "\n",
    "call_dates = []\n",
    "call_prices = []\n",
    "floating_rate_caps = []\n",
    "floating_rate_floors = []\n",
    "\n",
    "specifications['NONCALL_FLOAT'] = pyvacon.instruments.CallableBondSpecification('NONCALL_FLOAT', 'TEST_ISSUER', enums.SecuritizationLevel.SENIOR_UNSECURED, 'EUR',\n",
    "                                             expiry, issue_date, 1.0, enums.DayCounter.ACT365_FIXED, fixed_coupon_dates,\n",
    "                                             fixed_coupons, 'UDL_TEST', floating_periods, call_dates, \n",
    "                                              call_prices, floating_spreads, floating_rate_caps, floating_rate_floors)"
   ]
  },
  {
   "cell_type": "markdown",
   "metadata": {},
   "source": [
    "#### Floating callable bond\n",
    "10 yrs to maturity, yearly floating coupons with call rights at fixing dates"
   ]
  },
  {
   "cell_type": "code",
   "execution_count": null,
   "metadata": {},
   "outputs": [],
   "source": [
    "fixed_coupon_dates = []\n",
    "fixed_coupon_values = []\n",
    "\n",
    "\n",
    "floating_periods = [refdate + dt.timedelta(days=i*365) for i  in range(11)]\n",
    "floating_spreads = [0.01, 0.01, 0.01, 0.01, 0.01, 0.01, 0.01, 0.01, 0.01]\n",
    "\n",
    "call_dates = [refdate + dt.timedelta(days=2+365 + i*365) for i in range(10)]\n",
    "call_prices = [1.01, 1.01, 1.01, 1.01, 1.01, 1.01, 1.01, 1.01, 1.01, 1.01]\n",
    "\n",
    "floating_rate_caps = []\n",
    "floating_rate_floors = []\n",
    "specifications['CALL_FLOAT'] = pyvacon.instruments.CallableBondSpecification('CALL_FLOAT', 'TEST_ISSUER', enums.SecuritizationLevel.SENIOR_UNSECURED, 'EUR',\n",
    "                                             expiry, issue_date, 1.0, enums.DayCounter.ACT365_FIXED, fixed_coupon_dates,\n",
    "                                             fixed_coupons, 'UDL_TEST', floating_periods, call_dates, \n",
    "                                              call_prices, floating_spreads, floating_rate_caps, floating_rate_floors)\n",
    "\n",
    "for spread in [0.0, 0.0025, 0.005, 0.0075, 0.01, 0.015, 0.0125]:\n",
    "    tmp = floating_spreads = [spread]*len(floating_spreads)\n",
    "    specifications['CALL_FLOAT_' + str(spread)] = pyvacon.instruments.CallableBondSpecification('CALL_FLOAT', 'TEST_ISSUER', enums.SecuritizationLevel.SENIOR_UNSECURED, 'EUR',\n",
    "                                             expiry, issue_date, 1.0, enums.DayCounter.ACT365_FIXED, fixed_coupon_dates,\n",
    "                                             fixed_coupons, 'UDL_TEST', floating_periods, call_dates, \n",
    "                                              call_prices, floating_spreads, floating_rate_caps, floating_rate_floors)\n"
   ]
  },
  {
   "cell_type": "markdown",
   "metadata": {},
   "source": [
    "#### Floating non-callable bond with caps\n",
    "10 yrs to maturity, non-callable, yearly floating coupons capped at 1.5%"
   ]
  },
  {
   "cell_type": "code",
   "execution_count": null,
   "metadata": {},
   "outputs": [],
   "source": [
    "issue_date = refdate + dt.timedelta(days=2-365)\n",
    "\n",
    "fixed_coupon_dates = []\n",
    "fixed_coupon_values = []\n",
    "floating_periods = [refdate + dt.timedelta(days=i*365) for i  in range(11)]\n",
    "floating_spreads = [0.01, 0.01, 0.01, 0.01, 0.01, 0.01, 0.01, 0.01, 0.01]\n",
    "\n",
    "call_dates = []\n",
    "call_prices = []\n",
    "floating_rate_caps = [0.015, 0.015, 0.015, 0.015, 0.015, 0.015,0.015, 0.015, 0.015]\n",
    "floating_rate_floors = []\n",
    "\n",
    "specifications['NONCALL_CAP_FLOAT'] = pyvacon.instruments.CallableBondSpecification('NONCALL_CAP_FLOAT', 'TEST_ISSUER', enums.SecuritizationLevel.SENIOR_UNSECURED, 'EUR',\n",
    "                                             expiry, issue_date, 1.0, enums.DayCounter.ACT365_FIXED, fixed_coupon_dates,\n",
    "                                             fixed_coupons, 'UDL_TEST', floating_periods, call_dates, \n",
    "                                              call_prices, floating_spreads, floating_rate_caps, floating_rate_floors)"
   ]
  },
  {
   "cell_type": "markdown",
   "metadata": {},
   "source": [
    "#### Floating callable bond with caps\n",
    "10 yrs to maturity, non-callable, yearly floating coupons capped at 1.5%"
   ]
  },
  {
   "cell_type": "code",
   "execution_count": null,
   "metadata": {},
   "outputs": [],
   "source": [
    "issue_date = refdate + dt.timedelta(days=2-365)\n",
    "\n",
    "fixed_coupon_dates = []\n",
    "fixed_coupon_values = []\n",
    "\n",
    "floating_periods = [refdate + dt.timedelta(days=i*365) for i  in range(11)]\n",
    "floating_spreads = [0.01, 0.01, 0.01, 0.01, 0.01, 0.01, 0.01, 0.01, 0.01]\n",
    "\n",
    "call_dates = [refdate + dt.timedelta(days=2+365 + i*365) for i in range(10)]\n",
    "call_prices = [1.01, 1.01, 1.01, 1.01, 1.01, 1.01, 1.01, 1.01, 1.01, 1.01]\n",
    "floating_rate_caps = [0.015, 0.015, 0.015, 0.015, 0.015, 0.015,0.015, 0.015, 0.015]\n",
    "floating_rate_floors = []\n",
    "\n",
    "specifications['CALL_CAP_FLOAT'] = pyvacon.instruments.CallableBondSpecification('CALL_CAP_FLOAT', 'TEST_ISSUER', enums.SecuritizationLevel.SENIOR_UNSECURED, 'EUR',\n",
    "                                             expiry, issue_date, 1.0, enums.DayCounter.ACT365_FIXED, fixed_coupon_dates,\n",
    "                                             fixed_coupons, 'UDL_TEST', floating_periods, call_dates, \n",
    "                                              call_prices, floating_spreads, floating_rate_caps, floating_rate_floors)\n"
   ]
  },
  {
   "cell_type": "markdown",
   "metadata": {},
   "source": [
    "### Pricing"
   ]
  },
  {
   "cell_type": "code",
   "execution_count": null,
   "metadata": {},
   "outputs": [],
   "source": [
    "pricing_data.param.includeTransition = False\n",
    "for key, spec in specifications.items():\n",
    "    pricing_data.spec = spec\n",
    "    #pricing_data.save( spec.getObjectId() +'_pricingdata.json', pricing_data)\n",
    "    tic = dt.datetime.now()\n",
    "    pr = pyvacon.pricing.price(pricing_data)\n",
    "    print(key + ' price: ' + str(pr.getPrice()) + ' runtime: {}'.format(dt.datetime.now() - tic))"
   ]
  },
  {
   "cell_type": "code",
   "execution_count": null,
   "metadata": {},
   "outputs": [],
   "source": [
    "pricing_data.param.includeTransition = True\n",
    "for key, spec in specifications.items():\n",
    "    pricing_data.spec = spec\n",
    "    # pricing_data.save( spec.getObjectId() +'_pricingdata.json', pricing_data)\n",
    "    tic = dt.datetime.now()\n",
    "    pr = pyvacon.pricing.price(pricing_data)\n",
    "    print(key + ' price: ' + str(pr.getPrice()) + ' runtime: {}'.format(dt.datetime.now() - tic))"
   ]
  },
  {
   "cell_type": "markdown",
   "metadata": {},
   "source": [
    "### Plot market data"
   ]
  },
  {
   "cell_type": "markdown",
   "metadata": {},
   "source": [
    "#### The transition matrix"
   ]
  },
  {
   "cell_type": "code",
   "execution_count": null,
   "metadata": {},
   "outputs": [],
   "source": [
    "mkt_plot.transition_matrix_heatmap(pricing_data.transition, 3.0)\n",
    "mkt_plot.plt.figure()\n",
    "mkt_plot.transition_matrix_pd(pricing_data.transition, ['AAA', 'AA', 'A'])"
   ]
  },
  {
   "cell_type": "markdown",
   "metadata": {},
   "source": [
    "#### The market risk free curve and the risk free curve induced by the model"
   ]
  },
  {
   "cell_type": "code",
   "execution_count": null,
   "metadata": {},
   "outputs": [],
   "source": [
    "dates =  [refdate+ dt.timedelta(days=1), refdate + dt.timedelta(days=30), refdate + dt.timedelta(days=60), refdate + dt.timedelta(days=180),\n",
    "          refdate + dt.timedelta(days=365), refdate + dt.timedelta(days=2*365), refdate + dt.timedelta(days=3*365), \n",
    "          refdate + dt.timedelta(days=5*365), refdate + dt.timedelta(days=10*365)]\n",
    "cir_dc = model_tools.compute_yieldcurve(pricing_data.model, refdate,dates)\n",
    "mkt_plot.curve(cir_dc, dates, refdate, True)\n",
    "mkt_plot.curve(pricing_data.riskfreeCurve, dates, refdate, True)"
   ]
  },
  {
   "cell_type": "markdown",
   "metadata": {},
   "source": [
    "#### Recovery (time dependent)"
   ]
  },
  {
   "cell_type": "code",
   "execution_count": null,
   "metadata": {},
   "outputs": [],
   "source": [
    "mkt_plot.curve(pricing_data.recovery, dates, refdate)"
   ]
  },
  {
   "cell_type": "markdown",
   "metadata": {},
   "source": [
    "### Projections"
   ]
  },
  {
   "cell_type": "code",
   "execution_count": null,
   "metadata": {},
   "outputs": [],
   "source": [
    "cir_rate = [0.0025, 0.005, 0.0075, 0.01, 0.015, 0.02, 0.015, 0.02, 0.025, 0.03, 0.035, 0.04, 0.045]\n",
    "projection = {}\n",
    "#help(analytics.CIRModel)\n",
    "for key in specifications.keys():\n",
    "    projection[key] = []\n",
    "for rate in cir_rate:\n",
    "    pricing_data.model = pyvacon.models.CIRModel('CIR_TEST',refdate, 1.0,0.01,0.1,rate)\n",
    "    for key, value in specifications.items():\n",
    "        pricing_data.spec = value\n",
    "        pr = pyvacon.pricing.price(pricing_data)\n",
    "        projection[key].append(pr.getPrice())\n",
    "plt.figure()\n",
    "for key, value in projection.items():\n",
    "    plt.plot(cir_rate, value, '-x', label=key)\n",
    "#plt.legend()"
   ]
  },
  {
   "cell_type": "code",
   "execution_count": null,
   "metadata": {},
   "outputs": [],
   "source": [
    "cir_vol = [0.1] #, 0.15, 0.2, 0.25, 0.3, 0.35, 0.4, 0.45, 0.5, 0.55]\n",
    "projection = {}\n",
    "#help(analytics.CIRModel)\n",
    "for key in specifications.keys():\n",
    "    projection[key] = []\n",
    "for vol in cir_vol:\n",
    "    pricing_data.model = pyvacon.analytics.CIRModel('CIR_TEST',refdate, 1.0,0.01,vol,0.02)\n",
    "    for key, value in specifications.items():\n",
    "        pricing_data.spec = value\n",
    "        pr = pyvacon.analytics.price(pricing_data)\n",
    "        projection[key].append(pr.getPrice())\n",
    "plt.figure()\n",
    "for key, value in projection.items():\n",
    "    plt.plot(cir_vol, value, '-x', label=key)\n",
    "#plt.legend()"
   ]
  },
  {
   "cell_type": "markdown",
   "metadata": {},
   "source": [
    "# TODOS\n",
    "- getPdeCoefficients für HullWhiteModel implementieren\n",
    "- getPdeBoundaryConditions für HullWhiteModel implementieren\n",
    "- Hull-White erweitern auf zeitabhaengiges sigma und a\n",
    "- Hull-White Kalibrierung an Swaptions (Thomas Streuer fragen, ob das erledigt ist)\n"
   ]
  },
  {
   "cell_type": "code",
   "execution_count": null,
   "metadata": {},
   "outputs": [],
   "source": []
  },
  {
   "cell_type": "code",
   "execution_count": null,
   "metadata": {},
   "outputs": [],
   "source": []
  }
 ],
 "metadata": {
  "kernelspec": {
   "display_name": "Python 3",
   "language": "python",
   "name": "python3"
  },
  "language_info": {
   "codemirror_mode": {
    "name": "ipython",
    "version": 3
   },
   "file_extension": ".py",
   "mimetype": "text/x-python",
   "name": "python",
   "nbconvert_exporter": "python",
   "pygments_lexer": "ipython3",
   "version": "3.7.6"
  },
  "toc": {
   "base_numbering": 1,
   "colors": {
    "hover_highlight": "#DAA520",
    "navigate_num": "#000000",
    "navigate_text": "#333333",
    "running_highlight": "#FF0000",
    "selected_highlight": "#FFD700",
    "sidebar_border": "#EEEEEE",
    "wrapper_background": "#FFFFFF"
   },
   "moveMenuLeft": true,
   "nav_menu": {},
   "navigate_menu": true,
   "number_sections": false,
   "sideBar": true,
   "skip_h1_title": false,
   "threshold": 4,
   "title_cell": "Table of Contents",
   "title_sidebar": "Contents",
   "toc_cell": false,
   "toc_position": {
    "height": "967.552px",
    "left": "0px",
    "right": "1824.51px",
    "top": "65.7292px",
    "width": "421.563px"
   },
   "toc_section_display": true,
   "toc_window_display": true,
   "widenNotebook": false
  },
  "varInspector": {
   "cols": {
    "lenName": 16,
    "lenType": 16,
    "lenVar": 40
   },
   "kernels_config": {
    "python": {
     "delete_cmd_postfix": "",
     "delete_cmd_prefix": "del ",
     "library": "var_list.py",
     "varRefreshCmd": "print(var_dic_list())"
    },
    "r": {
     "delete_cmd_postfix": ") ",
     "delete_cmd_prefix": "rm(",
     "library": "var_list.r",
     "varRefreshCmd": "cat(var_dic_list()) "
    }
   },
   "types_to_exclude": [
    "module",
    "function",
    "builtin_function_or_method",
    "instance",
    "_Feature"
   ],
   "window_display": false
  }
 },
 "nbformat": 4,
 "nbformat_minor": 2
}
