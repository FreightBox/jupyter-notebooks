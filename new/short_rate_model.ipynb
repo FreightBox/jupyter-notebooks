{
 "cells": [
  {
   "cell_type": "markdown",
   "metadata": {},
   "source": [
    "![](../images/rivacon_frontmark_combined_header.png)"
   ]
  },
  {
   "cell_type": "markdown",
   "metadata": {},
   "source": [
    "# Example Notebook for Short Rate Models "
   ]
  },
  {
   "cell_type": "code",
   "execution_count": null,
   "metadata": {},
   "outputs": [],
   "source": [
    "import pyvacon.analytics as analytics\n",
    "import datetime as dt\n",
    "import pyvacon.tools.converter as converter\n",
    "import pyvacon.marketdata.testdata as mkt_testdata\n",
    "import pyvacon.marketdata.plot as mkt_plot\n",
    "import pyvacon.tools.enums as enums\n",
    "import pyvacon.models.tools as model_tools\n",
    "import matplotlib.pyplot as plt\n",
    "%matplotlib inline\n",
    "# %matplotlib qt comment\n",
    "#%matplotlib notebook"
   ]
  },
  {
   "cell_type": "code",
   "execution_count": null,
   "metadata": {},
   "outputs": [],
   "source": [
    "refdate_p = dt.datetime(2017,2,20)\n",
    "refdate = converter.getLTime(refdate_p)"
   ]
  },
  {
   "cell_type": "markdown",
   "metadata": {},
   "source": [
    "### Create the necessary market data and setup models\n",
    "For simplicity we just create one artificial discount curve using the analyticsTestData module and use this curve as fixing and discount curve."
   ]
  },
  {
   "cell_type": "code",
   "execution_count": null,
   "metadata": {},
   "outputs": [],
   "source": [
    "riskfreeCurve = mkt_testdata.InterestRate.Curves.EONIA(refdate_p) # get artificial test curve from th test market data module\n",
    "cir = analytics.CIRModel('CIR_Test', refdate, 1.0,0.05,0.20,0.025)"
   ]
  },
  {
   "cell_type": "markdown",
   "metadata": {},
   "source": [
    "### Create discount curves from the model"
   ]
  },
  {
   "cell_type": "code",
   "execution_count": null,
   "metadata": {},
   "outputs": [],
   "source": [
    "dates =  [refdate_p+ dt.timedelta(days=1), refdate_p + dt.timedelta(days=30), refdate_p + dt.timedelta(days=60), refdate_p + dt.timedelta(days=180),\n",
    "          refdate_p + dt.timedelta(days=365), refdate_p + dt.timedelta(days=2*365), refdate_p + dt.timedelta(days=3*365), \n",
    "          refdate_p + dt.timedelta(days=5*365)]\n",
    "cir_dc = model_tools.compute_yieldcurve(cir, refdate,dates)\n",
    "hull_white = analytics.HullWhiteModel('HW_Test', refdate, 1, 0.1, cir_dc)\n",
    "hw_dc = model_tools.compute_yieldcurve(hull_white, refdate,dates)"
   ]
  },
  {
   "cell_type": "code",
   "execution_count": null,
   "metadata": {},
   "outputs": [],
   "source": [
    "mkt_plot.curve(cir_dc, dates, refdate, True)#\n",
    "mkt_plot.curve(hw_dc, dates, refdate, True)"
   ]
  },
  {
   "cell_type": "markdown",
   "metadata": {},
   "source": [
    "### Model simulation\n",
    "Tools for model analysis or simulation is provided by the ModelLab. In this section we show how one can simulate the CIR model for a given set of timepoints. On basis of this simulation, one may construct yieldcurves for the simulated values which can further be used to price products. With this approach one would be able to simulate whole portfolios at defined dates."
   ]
  },
  {
   "cell_type": "markdown",
   "metadata": {},
   "source": [
    "We first use the modellab to simulate the process underlying the model. The modellab simulates the short rate and keeps all simulated values in memory (for all paths)."
   ]
  },
  {
   "cell_type": "code",
   "execution_count": null,
   "metadata": {},
   "outputs": [],
   "source": [
    "sim_times_p = [refdate_p + dt.timedelta(days=180)]\n",
    "for i in range(10):\n",
    "    sim_times_p.append(sim_times_p[-1] + dt.timedelta(days=(i+1)*180))\n",
    "sim_times = converter.createPTimeList(refdate, sim_times_p)\n",
    "n_sims = 100\n",
    "max_num_threads = 2\n",
    "cir_lab = analytics.ModelLab(cir, refdate)\n",
    "cir_lab.simulate(sim_times, n_sims, 200, max_num_threads)\n",
    "hw_lab = analytics.ModelLab(hull_white, refdate)\n",
    "hw_lab.simulate(sim_times, n_sims, 200, max_num_threads)"
   ]
  },
  {
   "cell_type": "markdown",
   "metadata": {},
   "source": [
    "Now that we have all simulated variables in memory, we can set the simulated values back into the model to compute simulated yieldcurves."
   ]
  },
  {
   "cell_type": "code",
   "execution_count": null,
   "metadata": {},
   "outputs": [],
   "source": [
    "sim_time_point = 10\n",
    "sim_time_p = sim_times_p[sim_time_point]\n",
    "sim_time = converter.getLTime(sim_time_p)\n",
    "dc_dates_p = [1]\n",
    "for j in range(20):\n",
    "    dc_dates_p.append((j+1)*180)\n",
    "dates = converter.createPTimeList(sim_time, dc_dates_p)"
   ]
  },
  {
   "cell_type": "code",
   "execution_count": null,
   "metadata": {},
   "outputs": [],
   "source": [
    "for i in range(n_sims):\n",
    "    cir_lab.setFromSimulatedValues(cir, 1, i)  \n",
    "    dc = model_tools.compute_yieldcurve(cir, sim_times[sim_time_point], dc_dates_p)    \n",
    "    mkt_plot.curve(dc, dates, sim_times[sim_time_point], True, '', False)\n",
    "    "
   ]
  },
  {
   "cell_type": "code",
   "execution_count": null,
   "metadata": {},
   "outputs": [],
   "source": [
    "for i in range(n_sims):\n",
    "    hw_lab.setFromSimulatedValues(hull_white, 1, i)  \n",
    "    dc = model_tools.compute_yieldcurve(hull_white, sim_times[sim_time_point], dc_dates_p)    \n",
    "    mkt_plot.curve(dc, dates, sim_times[sim_time_point], True, '', False)"
   ]
  },
  {
   "cell_type": "code",
   "execution_count": null,
   "metadata": {},
   "outputs": [],
   "source": [
    "time_slice = analytics.vectorDouble()\n",
    "sim_time_point = 2\n",
    "cir_lab.getTimeSlice(time_slice, sim_time_point, 0)\n",
    "n_bins = 100\n",
    "n, bins, patches = plt.hist(time_slice, n_bins, normed=1, facecolor='blue', alpha=0.75)"
   ]
  },
  {
   "cell_type": "code",
   "execution_count": null,
   "metadata": {},
   "outputs": [],
   "source": []
  }
 ],
 "metadata": {
  "kernelspec": {
   "display_name": "Python 3",
   "language": "python",
   "name": "python3"
  },
  "language_info": {
   "codemirror_mode": {
    "name": "ipython",
    "version": 3
   },
   "file_extension": ".py",
   "mimetype": "text/x-python",
   "name": "python",
   "nbconvert_exporter": "python",
   "pygments_lexer": "ipython3",
   "version": "3.6.0"
  },
  "toc": {
   "colors": {
    "hover_highlight": "#DAA520",
    "navigate_num": "#000000",
    "navigate_text": "#333333",
    "running_highlight": "#FF0000",
    "selected_highlight": "#FFD700",
    "sidebar_border": "#EEEEEE",
    "wrapper_background": "#FFFFFF"
   },
   "moveMenuLeft": true,
   "nav_menu": {
    "height": "101px",
    "width": "252px"
   },
   "navigate_menu": true,
   "number_sections": true,
   "sideBar": true,
   "threshold": 4,
   "toc_cell": false,
   "toc_section_display": "block",
   "toc_window_display": false,
   "widenNotebook": false
  },
  "varInspector": {
   "cols": {
    "lenName": 16,
    "lenType": 16,
    "lenVar": 40
   },
   "kernels_config": {
    "python": {
     "delete_cmd_postfix": "",
     "delete_cmd_prefix": "del ",
     "library": "var_list.py",
     "varRefreshCmd": "print(var_dic_list())"
    },
    "r": {
     "delete_cmd_postfix": ") ",
     "delete_cmd_prefix": "rm(",
     "library": "var_list.r",
     "varRefreshCmd": "cat(var_dic_list()) "
    }
   },
   "types_to_exclude": [
    "module",
    "function",
    "builtin_function_or_method",
    "instance",
    "_Feature"
   ],
   "window_display": false
  }
 },
 "nbformat": 4,
 "nbformat_minor": 2
}
